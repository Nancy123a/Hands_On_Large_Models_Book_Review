{
 "cells": [
  {
   "cell_type": "markdown",
   "id": "c252001b-a202-4115-98fc-83f1adedd801",
   "metadata": {},
   "source": [
    "## Text Classification"
   ]
  },
  {
   "cell_type": "code",
   "execution_count": 1,
   "id": "5c3e05db-f818-4f28-8e00-5c47fd4206ac",
   "metadata": {},
   "outputs": [
    {
     "data": {
      "application/vnd.jupyter.widget-view+json": {
       "model_id": "c6d31c06ca65415b9af25183089725b5",
       "version_major": 2,
       "version_minor": 0
      },
      "text/plain": [
       "README.md: 0.00B [00:00, ?B/s]"
      ]
     },
     "metadata": {},
     "output_type": "display_data"
    },
    {
     "data": {
      "application/vnd.jupyter.widget-view+json": {
       "model_id": "0f0b9a0f2bd4454d916d5c051ad1fbb4",
       "version_major": 2,
       "version_minor": 0
      },
      "text/plain": [
       "train.parquet:   0%|          | 0.00/699k [00:00<?, ?B/s]"
      ]
     },
     "metadata": {},
     "output_type": "display_data"
    },
    {
     "data": {
      "application/vnd.jupyter.widget-view+json": {
       "model_id": "4044e20354ce47a6ad8142a6734cba3c",
       "version_major": 2,
       "version_minor": 0
      },
      "text/plain": [
       "validation.parquet:   0%|          | 0.00/90.0k [00:00<?, ?B/s]"
      ]
     },
     "metadata": {},
     "output_type": "display_data"
    },
    {
     "data": {
      "application/vnd.jupyter.widget-view+json": {
       "model_id": "988df41aa9f8464b89575576a6bcf728",
       "version_major": 2,
       "version_minor": 0
      },
      "text/plain": [
       "test.parquet:   0%|          | 0.00/92.2k [00:00<?, ?B/s]"
      ]
     },
     "metadata": {},
     "output_type": "display_data"
    },
    {
     "data": {
      "application/vnd.jupyter.widget-view+json": {
       "model_id": "bda429d02dce453a9aa369e5c2c9b027",
       "version_major": 2,
       "version_minor": 0
      },
      "text/plain": [
       "Generating train split:   0%|          | 0/8530 [00:00<?, ? examples/s]"
      ]
     },
     "metadata": {},
     "output_type": "display_data"
    },
    {
     "data": {
      "application/vnd.jupyter.widget-view+json": {
       "model_id": "284e51cc5f5b4f078bfb4cba6f71b504",
       "version_major": 2,
       "version_minor": 0
      },
      "text/plain": [
       "Generating validation split:   0%|          | 0/1066 [00:00<?, ? examples/s]"
      ]
     },
     "metadata": {},
     "output_type": "display_data"
    },
    {
     "data": {
      "application/vnd.jupyter.widget-view+json": {
       "model_id": "3f3bb70fc8d44d66ba3e391eee3e69a5",
       "version_major": 2,
       "version_minor": 0
      },
      "text/plain": [
       "Generating test split:   0%|          | 0/1066 [00:00<?, ? examples/s]"
      ]
     },
     "metadata": {},
     "output_type": "display_data"
    },
    {
     "data": {
      "text/plain": [
       "DatasetDict({\n",
       "    train: Dataset({\n",
       "        features: ['text', 'label'],\n",
       "        num_rows: 8530\n",
       "    })\n",
       "    validation: Dataset({\n",
       "        features: ['text', 'label'],\n",
       "        num_rows: 1066\n",
       "    })\n",
       "    test: Dataset({\n",
       "        features: ['text', 'label'],\n",
       "        num_rows: 1066\n",
       "    })\n",
       "})"
      ]
     },
     "execution_count": 1,
     "metadata": {},
     "output_type": "execute_result"
    }
   ],
   "source": [
    "from datasets import load_dataset\n",
    "\n",
    "# Load our data\n",
    "data = load_dataset(\"rotten_tomatoes\")\n",
    "data"
   ]
  },
  {
   "cell_type": "code",
   "execution_count": 2,
   "id": "46738550-8452-4e2e-adfb-478a3756d677",
   "metadata": {},
   "outputs": [
    {
     "data": {
      "text/plain": [
       "DatasetDict({\n",
       "    train: Dataset({\n",
       "        features: ['text', 'label'],\n",
       "        num_rows: 8530\n",
       "    })\n",
       "    validation: Dataset({\n",
       "        features: ['text', 'label'],\n",
       "        num_rows: 1066\n",
       "    })\n",
       "    test: Dataset({\n",
       "        features: ['text', 'label'],\n",
       "        num_rows: 1066\n",
       "    })\n",
       "})"
      ]
     },
     "execution_count": 2,
     "metadata": {},
     "output_type": "execute_result"
    }
   ],
   "source": [
    "data"
   ]
  },
  {
   "cell_type": "code",
   "execution_count": 3,
   "id": "81ea8109-f7c8-4699-add5-4596c17dcf50",
   "metadata": {},
   "outputs": [
    {
     "data": {
      "text/plain": [
       "{'text': ['the rock is destined to be the 21st century\\'s new \" conan \" and that he\\'s going to make a splash even greater than arnold schwarzenegger , jean-claud van damme or steven segal .',\n",
       "  'things really get weird , though not particularly scary : the movie is all portent and no content .'],\n",
       " 'label': [1, 0]}"
      ]
     },
     "execution_count": 3,
     "metadata": {},
     "output_type": "execute_result"
    }
   ],
   "source": [
    "data['train'][0,-1]"
   ]
  },
  {
   "cell_type": "markdown",
   "id": "80f120f3-3644-433b-8c2e-dc7889c5ce7c",
   "metadata": {},
   "source": [
    "- These short reviews are either labeled as positive (1) or negative (0). This means that we will focus on binary sentiment classification\n",
    "- BERT, a well-known encoder-only architecture, is a popular choice for creating task-specific\n",
    "and embedding models.\n",
    "- In this task we will use RoBERTa model fine-tuned on tweets for sentiment analysis for movie review."
   ]
  },
  {
   "cell_type": "code",
   "execution_count": 5,
   "id": "12d7a77d-d3db-4d83-bc9f-d9cd40b25194",
   "metadata": {},
   "outputs": [
    {
     "name": "stderr",
     "output_type": "stream",
     "text": [
      "Some weights of the model checkpoint at cardiffnlp/twitter-roberta-base-sentiment-latest were not used when initializing RobertaForSequenceClassification: ['roberta.pooler.dense.bias', 'roberta.pooler.dense.weight']\n",
      "- This IS expected if you are initializing RobertaForSequenceClassification from the checkpoint of a model trained on another task or with another architecture (e.g. initializing a BertForSequenceClassification model from a BertForPreTraining model).\n",
      "- This IS NOT expected if you are initializing RobertaForSequenceClassification from the checkpoint of a model that you expect to be exactly identical (initializing a BertForSequenceClassification model from a BertForSequenceClassification model).\n",
      "Device set to use cuda\n",
      "/home/nancy/kws_env/lib/python3.12/site-packages/transformers/pipelines/text_classification.py:106: UserWarning: `return_all_scores` is now deprecated,  if want a similar functionality use `top_k=None` instead of `return_all_scores=True` or `top_k=1` instead of `return_all_scores=False`.\n",
      "  warnings.warn(\n"
     ]
    }
   ],
   "source": [
    "from transformers import pipeline\n",
    "# Path to our HF model\n",
    "model_path = \"cardiffnlp/twitter-roberta-base-sentiment-latest\"\n",
    "# Load model into pipeline\n",
    "pipe = pipeline(\n",
    "    model=model_path,\n",
    "    tokenizer=model_path,\n",
    "    return_all_scores=True,\n",
    "    device=\"cuda\"\n",
    ")"
   ]
  },
  {
   "cell_type": "markdown",
   "id": "c9a6c340-a471-4e44-8466-e41d65b99c51",
   "metadata": {},
   "source": [
    "- The model load the tokenizer, which is responsible for converting input text into individual tokens.\n",
    "\n",
    "\n",
    "![Alt text for the image](images/bert.png)"
   ]
  },
  {
   "cell_type": "code",
   "execution_count": 6,
   "id": "d04c8c8c-f551-4ad4-a6b1-a16796167a91",
   "metadata": {
    "scrolled": true
   },
   "outputs": [
    {
     "name": "stderr",
     "output_type": "stream",
     "text": [
      "  0%|▎                                                                                 | 4/1066 [00:00<02:11,  8.11it/s]"
     ]
    },
    {
     "name": "stdout",
     "output_type": "stream",
     "text": [
      "[{'label': 'negative', 'score': 0.005161251872777939}, {'label': 'neutral', 'score': 0.04023365676403046}, {'label': 'positive', 'score': 0.9546050429344177}]\n",
      "[{'label': 'negative', 'score': 0.007706430274993181}, {'label': 'neutral', 'score': 0.10390972346067429}, {'label': 'positive', 'score': 0.8883838653564453}]\n",
      "[{'label': 'negative', 'score': 0.7359185218811035}, {'label': 'neutral', 'score': 0.24242739379405975}, {'label': 'positive', 'score': 0.021654037758708}]\n",
      "[{'label': 'negative', 'score': 0.0030380780808627605}, {'label': 'neutral', 'score': 0.06267133355140686}, {'label': 'positive', 'score': 0.9342905282974243}]\n",
      "[{'label': 'negative', 'score': 0.11185602098703384}, {'label': 'neutral', 'score': 0.7006853818893433}, {'label': 'positive', 'score': 0.18745863437652588}]\n"
     ]
    },
    {
     "name": "stderr",
     "output_type": "stream",
     "text": [
      "  2%|█▊                                                                               | 24/1066 [00:00<00:20, 50.99it/s]"
     ]
    },
    {
     "name": "stdout",
     "output_type": "stream",
     "text": [
      "[{'label': 'negative', 'score': 0.6089192032814026}, {'label': 'neutral', 'score': 0.3732690215110779}, {'label': 'positive', 'score': 0.01781178079545498}]\n",
      "[{'label': 'negative', 'score': 0.020790275186300278}, {'label': 'neutral', 'score': 0.45805037021636963}, {'label': 'positive', 'score': 0.5211593508720398}]\n",
      "[{'label': 'negative', 'score': 0.009388203732669353}, {'label': 'neutral', 'score': 0.15621817111968994}, {'label': 'positive', 'score': 0.8343936204910278}]\n",
      "[{'label': 'negative', 'score': 0.009773931466042995}, {'label': 'neutral', 'score': 0.18585321307182312}, {'label': 'positive', 'score': 0.8043728470802307}]\n",
      "[{'label': 'negative', 'score': 0.02712375484406948}, {'label': 'neutral', 'score': 0.3788433074951172}, {'label': 'positive', 'score': 0.5940329432487488}]\n",
      "[{'label': 'negative', 'score': 0.27410057187080383}, {'label': 'neutral', 'score': 0.5992846488952637}, {'label': 'positive', 'score': 0.1266147643327713}]\n",
      "[{'label': 'negative', 'score': 0.8024442791938782}, {'label': 'neutral', 'score': 0.1860204041004181}, {'label': 'positive', 'score': 0.011535322293639183}]\n",
      "[{'label': 'negative', 'score': 0.6360155344009399}, {'label': 'neutral', 'score': 0.34862184524536133}, {'label': 'positive', 'score': 0.015362672507762909}]\n",
      "[{'label': 'negative', 'score': 0.007529255468398333}, {'label': 'neutral', 'score': 0.15941248834133148}, {'label': 'positive', 'score': 0.8330582976341248}]\n",
      "[{'label': 'negative', 'score': 0.9433056712150574}, {'label': 'neutral', 'score': 0.05138498172163963}, {'label': 'positive', 'score': 0.005309318192303181}]\n",
      "[{'label': 'negative', 'score': 0.03347829356789589}, {'label': 'neutral', 'score': 0.15110351145267487}, {'label': 'positive', 'score': 0.8154181838035583}]\n",
      "[{'label': 'negative', 'score': 0.02131248451769352}, {'label': 'neutral', 'score': 0.2987666130065918}, {'label': 'positive', 'score': 0.6799209117889404}]\n",
      "[{'label': 'negative', 'score': 0.005375270266085863}, {'label': 'neutral', 'score': 0.096853107213974}, {'label': 'positive', 'score': 0.8977716565132141}]\n",
      "[{'label': 'negative', 'score': 0.01778397709131241}, {'label': 'neutral', 'score': 0.6452149748802185}, {'label': 'positive', 'score': 0.3370010256767273}]\n",
      "[{'label': 'negative', 'score': 0.0032307354267686605}, {'label': 'neutral', 'score': 0.0724855586886406}, {'label': 'positive', 'score': 0.9242836236953735}]\n",
      "[{'label': 'negative', 'score': 0.017986513674259186}, {'label': 'neutral', 'score': 0.2288045585155487}, {'label': 'positive', 'score': 0.7532088756561279}]\n",
      "[{'label': 'negative', 'score': 0.6301167607307434}, {'label': 'neutral', 'score': 0.3416183292865753}, {'label': 'positive', 'score': 0.028264926746487617}]\n",
      "[{'label': 'negative', 'score': 0.376106321811676}, {'label': 'neutral', 'score': 0.5443655252456665}, {'label': 'positive', 'score': 0.07952812314033508}]\n",
      "[{'label': 'negative', 'score': 0.11886285245418549}, {'label': 'neutral', 'score': 0.7047322988510132}, {'label': 'positive', 'score': 0.17640483379364014}]\n",
      "[{'label': 'negative', 'score': 0.006460939534008503}, {'label': 'neutral', 'score': 0.04016127437353134}, {'label': 'positive', 'score': 0.9533777832984924}]\n",
      "[{'label': 'negative', 'score': 0.9284610152244568}, {'label': 'neutral', 'score': 0.06647176295518875}, {'label': 'positive', 'score': 0.005067160818725824}]\n",
      "[{'label': 'negative', 'score': 0.019999198615550995}, {'label': 'neutral', 'score': 0.1309155523777008}, {'label': 'positive', 'score': 0.8490852117538452}]\n",
      "[{'label': 'negative', 'score': 0.08965039253234863}, {'label': 'neutral', 'score': 0.23907269537448883}, {'label': 'positive', 'score': 0.6712769269943237}]\n",
      "[{'label': 'negative', 'score': 0.6741815805435181}, {'label': 'neutral', 'score': 0.28780391812324524}, {'label': 'positive', 'score': 0.03801446408033371}]\n",
      "[{'label': 'negative', 'score': 0.03508113697171211}, {'label': 'neutral', 'score': 0.6752839088439941}, {'label': 'positive', 'score': 0.28963494300842285}]\n",
      "[{'label': 'negative', 'score': 0.026973292231559753}, {'label': 'neutral', 'score': 0.23807570338249207}, {'label': 'positive', 'score': 0.7349510192871094}]\n",
      "[{'label': 'negative', 'score': 0.5658921599388123}, {'label': 'neutral', 'score': 0.3930024206638336}, {'label': 'positive', 'score': 0.04110545292496681}]\n",
      "[{'label': 'negative', 'score': 0.003865770297124982}, {'label': 'neutral', 'score': 0.01827753148972988}, {'label': 'positive', 'score': 0.9778566956520081}]\n"
     ]
    },
    {
     "name": "stderr",
     "output_type": "stream",
     "text": [
      "  5%|████                                                                             | 53/1066 [00:01<00:10, 93.72it/s]"
     ]
    },
    {
     "name": "stdout",
     "output_type": "stream",
     "text": [
      "[{'label': 'negative', 'score': 0.0209027212113142}, {'label': 'neutral', 'score': 0.16473214328289032}, {'label': 'positive', 'score': 0.8143650889396667}]\n",
      "[{'label': 'negative', 'score': 0.010330358520150185}, {'label': 'neutral', 'score': 0.0685872882604599}, {'label': 'positive', 'score': 0.9210823178291321}]\n",
      "[{'label': 'negative', 'score': 0.03833693638443947}, {'label': 'neutral', 'score': 0.21484056115150452}, {'label': 'positive', 'score': 0.7468225359916687}]\n",
      "[{'label': 'negative', 'score': 0.305485337972641}, {'label': 'neutral', 'score': 0.6537950038909912}, {'label': 'positive', 'score': 0.0407196506857872}]\n",
      "[{'label': 'negative', 'score': 0.004782760050147772}, {'label': 'neutral', 'score': 0.017156554386019707}, {'label': 'positive', 'score': 0.9780606627464294}]\n",
      "[{'label': 'negative', 'score': 0.04764952138066292}, {'label': 'neutral', 'score': 0.5597975850105286}, {'label': 'positive', 'score': 0.3925528824329376}]\n",
      "[{'label': 'negative', 'score': 0.19740580022335052}, {'label': 'neutral', 'score': 0.5586875081062317}, {'label': 'positive', 'score': 0.2439066767692566}]\n",
      "[{'label': 'negative', 'score': 0.31281575560569763}, {'label': 'neutral', 'score': 0.6248085498809814}, {'label': 'positive', 'score': 0.0623757541179657}]\n",
      "[{'label': 'negative', 'score': 0.0115816630423069}, {'label': 'neutral', 'score': 0.21797819435596466}, {'label': 'positive', 'score': 0.7704401612281799}]\n",
      "[{'label': 'negative', 'score': 0.147380068898201}, {'label': 'neutral', 'score': 0.5063108801841736}, {'label': 'positive', 'score': 0.34630900621414185}]\n",
      "[{'label': 'negative', 'score': 0.46297362446784973}, {'label': 'neutral', 'score': 0.34094008803367615}, {'label': 'positive', 'score': 0.19608619809150696}]\n",
      "[{'label': 'negative', 'score': 0.09978990256786346}, {'label': 'neutral', 'score': 0.7821435928344727}, {'label': 'positive', 'score': 0.11806650459766388}]\n",
      "[{'label': 'negative', 'score': 0.30471381545066833}, {'label': 'neutral', 'score': 0.4484127461910248}, {'label': 'positive', 'score': 0.2468734234571457}]\n",
      "[{'label': 'negative', 'score': 0.03861004859209061}, {'label': 'neutral', 'score': 0.578991711139679}, {'label': 'positive', 'score': 0.3823982775211334}]\n",
      "[{'label': 'negative', 'score': 0.00904911570250988}, {'label': 'neutral', 'score': 0.045412007719278336}, {'label': 'positive', 'score': 0.9455388784408569}]\n",
      "[{'label': 'negative', 'score': 0.00781543180346489}, {'label': 'neutral', 'score': 0.11364613473415375}, {'label': 'positive', 'score': 0.8785384297370911}]\n",
      "[{'label': 'negative', 'score': 0.007797022815793753}, {'label': 'neutral', 'score': 0.2009706050157547}, {'label': 'positive', 'score': 0.7912324070930481}]\n",
      "[{'label': 'negative', 'score': 0.777385413646698}, {'label': 'neutral', 'score': 0.21240420639514923}, {'label': 'positive', 'score': 0.010210365056991577}]\n",
      "[{'label': 'negative', 'score': 0.005911029875278473}, {'label': 'neutral', 'score': 0.3430910110473633}, {'label': 'positive', 'score': 0.6509979367256165}]\n",
      "[{'label': 'negative', 'score': 0.258576899766922}, {'label': 'neutral', 'score': 0.6864831447601318}, {'label': 'positive', 'score': 0.05493994429707527}]\n",
      "[{'label': 'negative', 'score': 0.5550521016120911}, {'label': 'neutral', 'score': 0.4173395037651062}, {'label': 'positive', 'score': 0.02760843001306057}]\n",
      "[{'label': 'negative', 'score': 0.9156796336174011}, {'label': 'neutral', 'score': 0.07883266359567642}, {'label': 'positive', 'score': 0.005487654823809862}]\n",
      "[{'label': 'negative', 'score': 0.004123913589864969}, {'label': 'neutral', 'score': 0.07904128730297089}, {'label': 'positive', 'score': 0.916834831237793}]\n",
      "[{'label': 'negative', 'score': 0.38045257329940796}, {'label': 'neutral', 'score': 0.4868977665901184}, {'label': 'positive', 'score': 0.13264966011047363}]\n",
      "[{'label': 'negative', 'score': 0.18522395193576813}, {'label': 'neutral', 'score': 0.4772506058216095}, {'label': 'positive', 'score': 0.3375253975391388}]\n",
      "[{'label': 'negative', 'score': 0.021425990387797356}, {'label': 'neutral', 'score': 0.08906816691160202}, {'label': 'positive', 'score': 0.8895058631896973}]\n",
      "[{'label': 'negative', 'score': 0.8505581021308899}, {'label': 'neutral', 'score': 0.1385011225938797}, {'label': 'positive', 'score': 0.010940724052488804}]\n",
      "[{'label': 'negative', 'score': 0.34713825583457947}, {'label': 'neutral', 'score': 0.5595622062683105}, {'label': 'positive', 'score': 0.09329955279827118}]\n",
      "[{'label': 'negative', 'score': 0.13837867975234985}, {'label': 'neutral', 'score': 0.5348008871078491}, {'label': 'positive', 'score': 0.326820433139801}]\n",
      "[{'label': 'negative', 'score': 0.008906848728656769}, {'label': 'neutral', 'score': 0.06921806931495667}, {'label': 'positive', 'score': 0.9218751192092896}]\n"
     ]
    },
    {
     "name": "stderr",
     "output_type": "stream",
     "text": [
      "  8%|██████▏                                                                         | 83/1066 [00:01<00:08, 117.65it/s]"
     ]
    },
    {
     "name": "stdout",
     "output_type": "stream",
     "text": [
      "[{'label': 'negative', 'score': 0.2717113494873047}, {'label': 'neutral', 'score': 0.6888982653617859}, {'label': 'positive', 'score': 0.039390407502651215}]\n",
      "[{'label': 'negative', 'score': 0.18909429013729095}, {'label': 'neutral', 'score': 0.7820719480514526}, {'label': 'positive', 'score': 0.028833748772740364}]\n",
      "[{'label': 'negative', 'score': 0.02948356233537197}, {'label': 'neutral', 'score': 0.38098934292793274}, {'label': 'positive', 'score': 0.5895270705223083}]\n",
      "[{'label': 'negative', 'score': 0.41154682636260986}, {'label': 'neutral', 'score': 0.5452569723129272}, {'label': 'positive', 'score': 0.0431961789727211}]\n",
      "[{'label': 'negative', 'score': 0.10857415199279785}, {'label': 'neutral', 'score': 0.561680257320404}, {'label': 'positive', 'score': 0.32974565029144287}]\n",
      "[{'label': 'negative', 'score': 0.06855397671461105}, {'label': 'neutral', 'score': 0.4107339680194855}, {'label': 'positive', 'score': 0.5207120776176453}]\n",
      "[{'label': 'negative', 'score': 0.04627417027950287}, {'label': 'neutral', 'score': 0.8667870163917542}, {'label': 'positive', 'score': 0.0869387835264206}]\n",
      "[{'label': 'negative', 'score': 0.0055397143587470055}, {'label': 'neutral', 'score': 0.050220441073179245}, {'label': 'positive', 'score': 0.9442398548126221}]\n",
      "[{'label': 'negative', 'score': 0.00630850438028574}, {'label': 'neutral', 'score': 0.02206375263631344}, {'label': 'positive', 'score': 0.9716277122497559}]\n",
      "[{'label': 'negative', 'score': 0.009892853908240795}, {'label': 'neutral', 'score': 0.26663997769355774}, {'label': 'positive', 'score': 0.723467230796814}]\n",
      "[{'label': 'negative', 'score': 0.0021105145569890738}, {'label': 'neutral', 'score': 0.013167839497327805}, {'label': 'positive', 'score': 0.9847216010093689}]\n",
      "[{'label': 'negative', 'score': 0.007647896185517311}, {'label': 'neutral', 'score': 0.04742959886789322}, {'label': 'positive', 'score': 0.9449225068092346}]\n",
      "[{'label': 'negative', 'score': 0.004912830889225006}, {'label': 'neutral', 'score': 0.03009049780666828}, {'label': 'positive', 'score': 0.9649966955184937}]\n",
      "[{'label': 'negative', 'score': 0.01843222789466381}, {'label': 'neutral', 'score': 0.19352243840694427}, {'label': 'positive', 'score': 0.788045346736908}]\n",
      "[{'label': 'negative', 'score': 0.10734151303768158}, {'label': 'neutral', 'score': 0.7435781359672546}, {'label': 'positive', 'score': 0.14908045530319214}]\n",
      "[{'label': 'negative', 'score': 0.004607185255736113}, {'label': 'neutral', 'score': 0.019662754610180855}, {'label': 'positive', 'score': 0.9757300615310669}]\n",
      "[{'label': 'negative', 'score': 0.500272810459137}, {'label': 'neutral', 'score': 0.4185824394226074}, {'label': 'positive', 'score': 0.0811447724699974}]\n",
      "[{'label': 'negative', 'score': 0.005226932466030121}, {'label': 'neutral', 'score': 0.05896223708987236}, {'label': 'positive', 'score': 0.9358108043670654}]\n",
      "[{'label': 'negative', 'score': 0.15192647278308868}, {'label': 'neutral', 'score': 0.6255757808685303}, {'label': 'positive', 'score': 0.22249779105186462}]\n",
      "[{'label': 'negative', 'score': 0.003647069213911891}, {'label': 'neutral', 'score': 0.08960320800542831}, {'label': 'positive', 'score': 0.9067496657371521}]\n",
      "[{'label': 'negative', 'score': 0.6298412680625916}, {'label': 'neutral', 'score': 0.3354126214981079}, {'label': 'positive', 'score': 0.03474612906575203}]\n",
      "[{'label': 'negative', 'score': 0.007816818542778492}, {'label': 'neutral', 'score': 0.12834273278713226}, {'label': 'positive', 'score': 0.8638404607772827}]\n",
      "[{'label': 'negative', 'score': 0.0397086925804615}, {'label': 'neutral', 'score': 0.5544776916503906}, {'label': 'positive', 'score': 0.4058135747909546}]\n",
      "[{'label': 'negative', 'score': 0.00898384302854538}, {'label': 'neutral', 'score': 0.047556206583976746}, {'label': 'positive', 'score': 0.9434599280357361}]\n",
      "[{'label': 'negative', 'score': 0.07915195822715759}, {'label': 'neutral', 'score': 0.8464290499687195}, {'label': 'positive', 'score': 0.07441896200180054}]\n",
      "[{'label': 'negative', 'score': 0.2581034004688263}, {'label': 'neutral', 'score': 0.7112876176834106}, {'label': 'positive', 'score': 0.03060903772711754}]\n",
      "[{'label': 'negative', 'score': 0.04830845072865486}, {'label': 'neutral', 'score': 0.24951894581317902}, {'label': 'positive', 'score': 0.702172577381134}]\n",
      "[{'label': 'negative', 'score': 0.131056010723114}, {'label': 'neutral', 'score': 0.5230551362037659}, {'label': 'positive', 'score': 0.3458888530731201}]\n",
      "[{'label': 'negative', 'score': 0.005516682751476765}, {'label': 'neutral', 'score': 0.060243405401706696}, {'label': 'positive', 'score': 0.9342398643493652}]\n"
     ]
    },
    {
     "name": "stderr",
     "output_type": "stream",
     "text": [
      " 11%|████████▎                                                                      | 112/1066 [00:01<00:07, 126.99it/s]"
     ]
    },
    {
     "name": "stdout",
     "output_type": "stream",
     "text": [
      "[{'label': 'negative', 'score': 0.13074719905853271}, {'label': 'neutral', 'score': 0.7013716697692871}, {'label': 'positive', 'score': 0.16788116097450256}]\n",
      "[{'label': 'negative', 'score': 0.0030644936487078667}, {'label': 'neutral', 'score': 0.020648162811994553}, {'label': 'positive', 'score': 0.976287305355072}]\n",
      "[{'label': 'negative', 'score': 0.04281027987599373}, {'label': 'neutral', 'score': 0.1313139945268631}, {'label': 'positive', 'score': 0.8258756995201111}]\n",
      "[{'label': 'negative', 'score': 0.03481525555253029}, {'label': 'neutral', 'score': 0.6846102476119995}, {'label': 'positive', 'score': 0.2805745303630829}]\n",
      "[{'label': 'negative', 'score': 0.009305852465331554}, {'label': 'neutral', 'score': 0.13147276639938354}, {'label': 'positive', 'score': 0.859221339225769}]\n",
      "[{'label': 'negative', 'score': 0.0033629077952355146}, {'label': 'neutral', 'score': 0.045367103070020676}, {'label': 'positive', 'score': 0.9512699842453003}]\n",
      "[{'label': 'negative', 'score': 0.011693106964230537}, {'label': 'neutral', 'score': 0.11570815742015839}, {'label': 'positive', 'score': 0.8725987076759338}]\n",
      "[{'label': 'negative', 'score': 0.44284483790397644}, {'label': 'neutral', 'score': 0.5316691398620605}, {'label': 'positive', 'score': 0.02548600547015667}]\n",
      "[{'label': 'negative', 'score': 0.003924360033124685}, {'label': 'neutral', 'score': 0.12982438504695892}, {'label': 'positive', 'score': 0.8662512302398682}]\n",
      "[{'label': 'negative', 'score': 0.0038276328705251217}, {'label': 'neutral', 'score': 0.07562556862831116}, {'label': 'positive', 'score': 0.92054682970047}]\n",
      "[{'label': 'negative', 'score': 0.004468273837119341}, {'label': 'neutral', 'score': 0.04585324600338936}, {'label': 'positive', 'score': 0.9496784806251526}]\n",
      "[{'label': 'negative', 'score': 0.026214228942990303}, {'label': 'neutral', 'score': 0.15626291930675507}, {'label': 'positive', 'score': 0.8175228238105774}]\n",
      "[{'label': 'negative', 'score': 0.006228518672287464}, {'label': 'neutral', 'score': 0.10623838752508163}, {'label': 'positive', 'score': 0.8875331282615662}]\n",
      "[{'label': 'negative', 'score': 0.04067416489124298}, {'label': 'neutral', 'score': 0.5054824948310852}, {'label': 'positive', 'score': 0.4538433253765106}]\n",
      "[{'label': 'negative', 'score': 0.0016649591270834208}, {'label': 'neutral', 'score': 0.016735214740037918}, {'label': 'positive', 'score': 0.9815998673439026}]\n",
      "[{'label': 'negative', 'score': 0.6975500583648682}, {'label': 'neutral', 'score': 0.28685152530670166}, {'label': 'positive', 'score': 0.015598439611494541}]\n",
      "[{'label': 'negative', 'score': 0.004893415607511997}, {'label': 'neutral', 'score': 0.01554324384778738}, {'label': 'positive', 'score': 0.979563295841217}]\n",
      "[{'label': 'negative', 'score': 0.015321341343224049}, {'label': 'neutral', 'score': 0.3180231750011444}, {'label': 'positive', 'score': 0.666655421257019}]\n",
      "[{'label': 'negative', 'score': 0.012174684554338455}, {'label': 'neutral', 'score': 0.1516091525554657}, {'label': 'positive', 'score': 0.8362162113189697}]\n",
      "[{'label': 'negative', 'score': 0.35195156931877136}, {'label': 'neutral', 'score': 0.5255974531173706}, {'label': 'positive', 'score': 0.12245098501443863}]\n",
      "[{'label': 'negative', 'score': 0.19182579219341278}, {'label': 'neutral', 'score': 0.7394201755523682}, {'label': 'positive', 'score': 0.06875399500131607}]\n",
      "[{'label': 'negative', 'score': 0.0046936264261603355}, {'label': 'neutral', 'score': 0.16575707495212555}, {'label': 'positive', 'score': 0.829549252986908}]\n",
      "[{'label': 'negative', 'score': 0.0036351645831018686}, {'label': 'neutral', 'score': 0.026657430455088615}, {'label': 'positive', 'score': 0.9697073698043823}]\n",
      "[{'label': 'negative', 'score': 0.9442219138145447}, {'label': 'neutral', 'score': 0.05009036511182785}, {'label': 'positive', 'score': 0.005687789525836706}]\n",
      "[{'label': 'negative', 'score': 0.5923534631729126}, {'label': 'neutral', 'score': 0.38025158643722534}, {'label': 'positive', 'score': 0.027394907549023628}]\n",
      "[{'label': 'negative', 'score': 0.8890179395675659}, {'label': 'neutral', 'score': 0.0958109200000763}, {'label': 'positive', 'score': 0.01517115905880928}]\n",
      "[{'label': 'negative', 'score': 0.27797165513038635}, {'label': 'neutral', 'score': 0.6702712178230286}, {'label': 'positive', 'score': 0.051757149398326874}]\n",
      "[{'label': 'negative', 'score': 0.004614735022187233}, {'label': 'neutral', 'score': 0.03291375935077667}, {'label': 'positive', 'score': 0.9624714851379395}]\n"
     ]
    },
    {
     "name": "stderr",
     "output_type": "stream",
     "text": [
      " 13%|██████████▌                                                                    | 142/1066 [00:01<00:06, 136.63it/s]"
     ]
    },
    {
     "name": "stdout",
     "output_type": "stream",
     "text": [
      "[{'label': 'negative', 'score': 0.015317432582378387}, {'label': 'neutral', 'score': 0.19699066877365112}, {'label': 'positive', 'score': 0.7876918911933899}]\n",
      "[{'label': 'negative', 'score': 0.003256217809394002}, {'label': 'neutral', 'score': 0.01620897836983204}, {'label': 'positive', 'score': 0.9805348515510559}]\n",
      "[{'label': 'negative', 'score': 0.005583322141319513}, {'label': 'neutral', 'score': 0.10532031953334808}, {'label': 'positive', 'score': 0.8890963196754456}]\n",
      "[{'label': 'negative', 'score': 0.013830126263201237}, {'label': 'neutral', 'score': 0.42009997367858887}, {'label': 'positive', 'score': 0.5660699009895325}]\n",
      "[{'label': 'negative', 'score': 0.02798166126012802}, {'label': 'neutral', 'score': 0.21580210328102112}, {'label': 'positive', 'score': 0.7562162280082703}]\n",
      "[{'label': 'negative', 'score': 0.018090499565005302}, {'label': 'neutral', 'score': 0.15041808784008026}, {'label': 'positive', 'score': 0.8314914703369141}]\n",
      "[{'label': 'negative', 'score': 0.018397612497210503}, {'label': 'neutral', 'score': 0.29615089297294617}, {'label': 'positive', 'score': 0.6854515075683594}]\n",
      "[{'label': 'negative', 'score': 0.10492690652608871}, {'label': 'neutral', 'score': 0.6448070406913757}, {'label': 'positive', 'score': 0.25026604533195496}]\n",
      "[{'label': 'negative', 'score': 0.011307372711598873}, {'label': 'neutral', 'score': 0.25596120953559875}, {'label': 'positive', 'score': 0.7327314019203186}]\n",
      "[{'label': 'negative', 'score': 0.59257972240448}, {'label': 'neutral', 'score': 0.33660462498664856}, {'label': 'positive', 'score': 0.07081560045480728}]\n",
      "[{'label': 'negative', 'score': 0.010373525321483612}, {'label': 'neutral', 'score': 0.23403914272785187}, {'label': 'positive', 'score': 0.7555873394012451}]\n",
      "[{'label': 'negative', 'score': 0.0025068242102861404}, {'label': 'neutral', 'score': 0.009680244140326977}, {'label': 'positive', 'score': 0.9878129363059998}]\n",
      "[{'label': 'negative', 'score': 0.041696179658174515}, {'label': 'neutral', 'score': 0.20108819007873535}, {'label': 'positive', 'score': 0.757215678691864}]\n",
      "[{'label': 'negative', 'score': 0.011917552910745144}, {'label': 'neutral', 'score': 0.18398192524909973}, {'label': 'positive', 'score': 0.804100513458252}]\n",
      "[{'label': 'negative', 'score': 0.4222445487976074}, {'label': 'neutral', 'score': 0.456279993057251}, {'label': 'positive', 'score': 0.12147551029920578}]\n",
      "[{'label': 'negative', 'score': 0.429149866104126}, {'label': 'neutral', 'score': 0.45125603675842285}, {'label': 'positive', 'score': 0.11959410458803177}]\n",
      "[{'label': 'negative', 'score': 0.024797219783067703}, {'label': 'neutral', 'score': 0.8259168863296509}, {'label': 'positive', 'score': 0.1492859125137329}]\n",
      "[{'label': 'negative', 'score': 0.020742375403642654}, {'label': 'neutral', 'score': 0.5631698966026306}, {'label': 'positive', 'score': 0.41608771681785583}]\n",
      "[{'label': 'negative', 'score': 0.044042836874723434}, {'label': 'neutral', 'score': 0.38184672594070435}, {'label': 'positive', 'score': 0.5741104483604431}]\n",
      "[{'label': 'negative', 'score': 0.010792171582579613}, {'label': 'neutral', 'score': 0.11749355494976044}, {'label': 'positive', 'score': 0.8717142343521118}]\n",
      "[{'label': 'negative', 'score': 0.21217317879199982}, {'label': 'neutral', 'score': 0.6257640719413757}, {'label': 'positive', 'score': 0.16206273436546326}]\n",
      "[{'label': 'negative', 'score': 0.008681587874889374}, {'label': 'neutral', 'score': 0.21072614192962646}, {'label': 'positive', 'score': 0.7805922627449036}]\n",
      "[{'label': 'negative', 'score': 0.015180451795458794}, {'label': 'neutral', 'score': 0.09097326546907425}, {'label': 'positive', 'score': 0.8938462734222412}]\n",
      "[{'label': 'negative', 'score': 0.004555709660053253}, {'label': 'neutral', 'score': 0.032583966851234436}, {'label': 'positive', 'score': 0.9628603458404541}]\n",
      "[{'label': 'negative', 'score': 0.12480846792459488}, {'label': 'neutral', 'score': 0.5606800317764282}, {'label': 'positive', 'score': 0.3145115375518799}]\n",
      "[{'label': 'negative', 'score': 0.005686662625521421}, {'label': 'neutral', 'score': 0.07096383720636368}, {'label': 'positive', 'score': 0.9233494997024536}]\n",
      "[{'label': 'negative', 'score': 0.010732137598097324}, {'label': 'neutral', 'score': 0.04461311921477318}, {'label': 'positive', 'score': 0.9446547627449036}]\n",
      "[{'label': 'negative', 'score': 0.009537422098219395}, {'label': 'neutral', 'score': 0.1660660356283188}, {'label': 'positive', 'score': 0.8243964910507202}]\n",
      "[{'label': 'negative', 'score': 0.36667513847351074}, {'label': 'neutral', 'score': 0.5234436392784119}, {'label': 'positive', 'score': 0.10988125205039978}]\n",
      "[{'label': 'negative', 'score': 0.015261066146194935}, {'label': 'neutral', 'score': 0.8258714079856873}, {'label': 'positive', 'score': 0.15886752307415009}]\n",
      "[{'label': 'negative', 'score': 0.6312146186828613}, {'label': 'neutral', 'score': 0.3082290589809418}, {'label': 'positive', 'score': 0.06055628880858421}]\n"
     ]
    },
    {
     "name": "stderr",
     "output_type": "stream",
     "text": [
      " 16%|████████████▉                                                                  | 174/1066 [00:01<00:06, 147.38it/s]"
     ]
    },
    {
     "name": "stdout",
     "output_type": "stream",
     "text": [
      "[{'label': 'negative', 'score': 0.0021882958244532347}, {'label': 'neutral', 'score': 0.009893073700368404}, {'label': 'positive', 'score': 0.9879186749458313}]\n",
      "[{'label': 'negative', 'score': 0.25968366861343384}, {'label': 'neutral', 'score': 0.5958534479141235}, {'label': 'positive', 'score': 0.14446288347244263}]\n",
      "[{'label': 'negative', 'score': 0.004380583297461271}, {'label': 'neutral', 'score': 0.33811846375465393}, {'label': 'positive', 'score': 0.6575009226799011}]\n",
      "[{'label': 'negative', 'score': 0.004396276548504829}, {'label': 'neutral', 'score': 0.01671166531741619}, {'label': 'positive', 'score': 0.9788920879364014}]\n",
      "[{'label': 'negative', 'score': 0.003879372263327241}, {'label': 'neutral', 'score': 0.04756718873977661}, {'label': 'positive', 'score': 0.9485534429550171}]\n",
      "[{'label': 'negative', 'score': 0.006630325689911842}, {'label': 'neutral', 'score': 0.06300967931747437}, {'label': 'positive', 'score': 0.9303600192070007}]\n",
      "[{'label': 'negative', 'score': 0.5953192710876465}, {'label': 'neutral', 'score': 0.38787612318992615}, {'label': 'positive', 'score': 0.01680462621152401}]\n",
      "[{'label': 'negative', 'score': 0.005474693141877651}, {'label': 'neutral', 'score': 0.09683741629123688}, {'label': 'positive', 'score': 0.8976879119873047}]\n",
      "[{'label': 'negative', 'score': 0.21825967729091644}, {'label': 'neutral', 'score': 0.6047548651695251}, {'label': 'positive', 'score': 0.1769854873418808}]\n",
      "[{'label': 'negative', 'score': 0.2497837096452713}, {'label': 'neutral', 'score': 0.6830699443817139}, {'label': 'positive', 'score': 0.06714631617069244}]\n",
      "[{'label': 'negative', 'score': 0.011261221021413803}, {'label': 'neutral', 'score': 0.08044955134391785}, {'label': 'positive', 'score': 0.9082892537117004}]\n",
      "[{'label': 'negative', 'score': 0.023959390819072723}, {'label': 'neutral', 'score': 0.6721141338348389}, {'label': 'positive', 'score': 0.3039265275001526}]\n",
      "[{'label': 'negative', 'score': 0.007257672958076}, {'label': 'neutral', 'score': 0.15973764657974243}, {'label': 'positive', 'score': 0.8330047130584717}]\n",
      "[{'label': 'negative', 'score': 0.03471985086798668}, {'label': 'neutral', 'score': 0.34764552116394043}, {'label': 'positive', 'score': 0.617634654045105}]\n",
      "[{'label': 'negative', 'score': 0.01651109755039215}, {'label': 'neutral', 'score': 0.2670444846153259}, {'label': 'positive', 'score': 0.7164444327354431}]\n",
      "[{'label': 'negative', 'score': 0.009314343333244324}, {'label': 'neutral', 'score': 0.17361591756343842}, {'label': 'positive', 'score': 0.8170697093009949}]\n",
      "[{'label': 'negative', 'score': 0.6492064595222473}, {'label': 'neutral', 'score': 0.32874423265457153}, {'label': 'positive', 'score': 0.022049304097890854}]\n",
      "[{'label': 'negative', 'score': 0.020778348669409752}, {'label': 'neutral', 'score': 0.3090963661670685}, {'label': 'positive', 'score': 0.6701252460479736}]\n",
      "[{'label': 'negative', 'score': 0.020217949524521828}, {'label': 'neutral', 'score': 0.32021260261535645}, {'label': 'positive', 'score': 0.6595693826675415}]\n",
      "[{'label': 'negative', 'score': 0.038150493055582047}, {'label': 'neutral', 'score': 0.6357800364494324}, {'label': 'positive', 'score': 0.32606950402259827}]\n",
      "[{'label': 'negative', 'score': 0.003443431342020631}, {'label': 'neutral', 'score': 0.03208417817950249}, {'label': 'positive', 'score': 0.9644724130630493}]\n",
      "[{'label': 'negative', 'score': 0.09083740413188934}, {'label': 'neutral', 'score': 0.8002095818519592}, {'label': 'positive', 'score': 0.10895302891731262}]\n",
      "[{'label': 'negative', 'score': 0.008591624908149242}, {'label': 'neutral', 'score': 0.35773661732673645}, {'label': 'positive', 'score': 0.633671760559082}]\n",
      "[{'label': 'negative', 'score': 0.0033654228318482637}, {'label': 'neutral', 'score': 0.04969935491681099}, {'label': 'positive', 'score': 0.9469351768493652}]\n",
      "[{'label': 'negative', 'score': 0.5233498811721802}, {'label': 'neutral', 'score': 0.4344854950904846}, {'label': 'positive', 'score': 0.042164627462625504}]\n",
      "[{'label': 'negative', 'score': 0.02210254594683647}, {'label': 'neutral', 'score': 0.6453058123588562}, {'label': 'positive', 'score': 0.3325916528701782}]\n",
      "[{'label': 'negative', 'score': 0.0026457367930561304}, {'label': 'neutral', 'score': 0.03487997129559517}, {'label': 'positive', 'score': 0.9624742269515991}]\n",
      "[{'label': 'negative', 'score': 0.14986968040466309}, {'label': 'neutral', 'score': 0.7854985594749451}, {'label': 'positive', 'score': 0.06463174521923065}]\n",
      "[{'label': 'negative', 'score': 0.0256609208881855}, {'label': 'neutral', 'score': 0.22117137908935547}, {'label': 'positive', 'score': 0.7531676888465881}]\n",
      "[{'label': 'negative', 'score': 0.005689751822501421}, {'label': 'neutral', 'score': 0.027708450332283974}, {'label': 'positive', 'score': 0.9666017889976501}]\n",
      "[{'label': 'negative', 'score': 0.01243360061198473}, {'label': 'neutral', 'score': 0.38242650032043457}, {'label': 'positive', 'score': 0.6051399111747742}]\n",
      "[{'label': 'negative', 'score': 0.03781106695532799}, {'label': 'neutral', 'score': 0.73711097240448}, {'label': 'positive', 'score': 0.22507791221141815}]\n",
      "[{'label': 'negative', 'score': 0.04279973357915878}, {'label': 'neutral', 'score': 0.2935323417186737}, {'label': 'positive', 'score': 0.6636679768562317}]\n"
     ]
    },
    {
     "name": "stderr",
     "output_type": "stream",
     "text": [
      " 19%|███████████████▏                                                               | 205/1066 [00:02<00:06, 142.02it/s]"
     ]
    },
    {
     "name": "stdout",
     "output_type": "stream",
     "text": [
      "[{'label': 'negative', 'score': 0.3081599175930023}, {'label': 'neutral', 'score': 0.4173687696456909}, {'label': 'positive', 'score': 0.27447131276130676}]\n",
      "[{'label': 'negative', 'score': 0.03043781965970993}, {'label': 'neutral', 'score': 0.6996710300445557}, {'label': 'positive', 'score': 0.2698911428451538}]\n",
      "[{'label': 'negative', 'score': 0.780485212802887}, {'label': 'neutral', 'score': 0.19558438658714294}, {'label': 'positive', 'score': 0.023930449038743973}]\n",
      "[{'label': 'negative', 'score': 0.02932385727763176}, {'label': 'neutral', 'score': 0.42932945489883423}, {'label': 'positive', 'score': 0.5413466691970825}]\n",
      "[{'label': 'negative', 'score': 0.027935685589909554}, {'label': 'neutral', 'score': 0.2788229286670685}, {'label': 'positive', 'score': 0.6932414174079895}]\n",
      "[{'label': 'negative', 'score': 0.003693870734423399}, {'label': 'neutral', 'score': 0.1041688323020935}, {'label': 'positive', 'score': 0.8921372890472412}]\n",
      "[{'label': 'negative', 'score': 0.004766086582094431}, {'label': 'neutral', 'score': 0.057040438055992126}, {'label': 'positive', 'score': 0.9381934404373169}]\n",
      "[{'label': 'negative', 'score': 0.0049199433997273445}, {'label': 'neutral', 'score': 0.09175504744052887}, {'label': 'positive', 'score': 0.9033249616622925}]\n",
      "[{'label': 'negative', 'score': 0.29403194785118103}, {'label': 'neutral', 'score': 0.5480086207389832}, {'label': 'positive', 'score': 0.15795943140983582}]\n",
      "[{'label': 'negative', 'score': 0.041656818240880966}, {'label': 'neutral', 'score': 0.3799322247505188}, {'label': 'positive', 'score': 0.5784109830856323}]\n",
      "[{'label': 'negative', 'score': 0.0021061524748802185}, {'label': 'neutral', 'score': 0.015530101023614407}, {'label': 'positive', 'score': 0.9823637008666992}]\n",
      "[{'label': 'negative', 'score': 0.01948070526123047}, {'label': 'neutral', 'score': 0.25675368309020996}, {'label': 'positive', 'score': 0.7237656116485596}]\n",
      "[{'label': 'negative', 'score': 0.016508808359503746}, {'label': 'neutral', 'score': 0.12835511565208435}, {'label': 'positive', 'score': 0.8551360964775085}]\n",
      "[{'label': 'negative', 'score': 0.8037550449371338}, {'label': 'neutral', 'score': 0.18769855797290802}, {'label': 'positive', 'score': 0.008546377532184124}]\n",
      "[{'label': 'negative', 'score': 0.004138999152928591}, {'label': 'neutral', 'score': 0.09594938158988953}, {'label': 'positive', 'score': 0.899911642074585}]\n",
      "[{'label': 'negative', 'score': 0.3427712023258209}, {'label': 'neutral', 'score': 0.6030381321907043}, {'label': 'positive', 'score': 0.05419060215353966}]\n",
      "[{'label': 'negative', 'score': 0.4592110514640808}, {'label': 'neutral', 'score': 0.5206031799316406}, {'label': 'positive', 'score': 0.020185763016343117}]\n",
      "[{'label': 'negative', 'score': 0.5421639084815979}, {'label': 'neutral', 'score': 0.43697455525398254}, {'label': 'positive', 'score': 0.020861605182290077}]\n",
      "[{'label': 'negative', 'score': 0.010974918492138386}, {'label': 'neutral', 'score': 0.17246632277965546}, {'label': 'positive', 'score': 0.8165587782859802}]\n",
      "[{'label': 'negative', 'score': 0.007657952141016722}, {'label': 'neutral', 'score': 0.12372209131717682}, {'label': 'positive', 'score': 0.868619978427887}]\n",
      "[{'label': 'negative', 'score': 0.0031468088272958994}, {'label': 'neutral', 'score': 0.015533121302723885}, {'label': 'positive', 'score': 0.9813201427459717}]\n",
      "[{'label': 'negative', 'score': 0.22619162499904633}, {'label': 'neutral', 'score': 0.6633853912353516}, {'label': 'positive', 'score': 0.11042297631502151}]\n",
      "[{'label': 'negative', 'score': 0.006107495632022619}, {'label': 'neutral', 'score': 0.0533149354159832}, {'label': 'positive', 'score': 0.9405775666236877}]\n",
      "[{'label': 'negative', 'score': 0.007412598468363285}, {'label': 'neutral', 'score': 0.0899256095290184}, {'label': 'positive', 'score': 0.9026618599891663}]\n",
      "[{'label': 'negative', 'score': 0.00999188981950283}, {'label': 'neutral', 'score': 0.0908319354057312}, {'label': 'positive', 'score': 0.8991761803627014}]\n",
      "[{'label': 'negative', 'score': 0.1364155262708664}, {'label': 'neutral', 'score': 0.5743497610092163}, {'label': 'positive', 'score': 0.2892346978187561}]\n",
      "[{'label': 'negative', 'score': 0.009188089519739151}, {'label': 'neutral', 'score': 0.08093547821044922}, {'label': 'positive', 'score': 0.9098764657974243}]\n"
     ]
    },
    {
     "name": "stderr",
     "output_type": "stream",
     "text": [
      " 22%|█████████████████▋                                                             | 239/1066 [00:02<00:05, 152.58it/s]"
     ]
    },
    {
     "name": "stdout",
     "output_type": "stream",
     "text": [
      "[{'label': 'negative', 'score': 0.0063148182816803455}, {'label': 'neutral', 'score': 0.24485249817371368}, {'label': 'positive', 'score': 0.7488327026367188}]\n",
      "[{'label': 'negative', 'score': 0.22043894231319427}, {'label': 'neutral', 'score': 0.6574551463127136}, {'label': 'positive', 'score': 0.1221059262752533}]\n",
      "[{'label': 'negative', 'score': 0.002017838880419731}, {'label': 'neutral', 'score': 0.01638144813477993}, {'label': 'positive', 'score': 0.9816007614135742}]\n",
      "[{'label': 'negative', 'score': 0.006905257236212492}, {'label': 'neutral', 'score': 0.4288763999938965}, {'label': 'positive', 'score': 0.5642183423042297}]\n",
      "[{'label': 'negative', 'score': 0.823688268661499}, {'label': 'neutral', 'score': 0.16636903584003448}, {'label': 'positive', 'score': 0.009942637756466866}]\n",
      "[{'label': 'negative', 'score': 0.1180327832698822}, {'label': 'neutral', 'score': 0.641356885433197}, {'label': 'positive', 'score': 0.24061034619808197}]\n",
      "[{'label': 'negative', 'score': 0.007162044756114483}, {'label': 'neutral', 'score': 0.060897767543792725}, {'label': 'positive', 'score': 0.9319401979446411}]\n",
      "[{'label': 'negative', 'score': 0.6358981728553772}, {'label': 'neutral', 'score': 0.33604487776756287}, {'label': 'positive', 'score': 0.02805694006383419}]\n",
      "[{'label': 'negative', 'score': 0.13832618296146393}, {'label': 'neutral', 'score': 0.7878755331039429}, {'label': 'positive', 'score': 0.0737982764840126}]\n",
      "[{'label': 'negative', 'score': 0.020216016098856926}, {'label': 'neutral', 'score': 0.36424049735069275}, {'label': 'positive', 'score': 0.6155434846878052}]\n",
      "[{'label': 'negative', 'score': 0.8446611166000366}, {'label': 'neutral', 'score': 0.12579332292079926}, {'label': 'positive', 'score': 0.029545631259679794}]\n",
      "[{'label': 'negative', 'score': 0.004421043209731579}, {'label': 'neutral', 'score': 0.116078682243824}, {'label': 'positive', 'score': 0.8795003294944763}]\n",
      "[{'label': 'negative', 'score': 0.009936311282217503}, {'label': 'neutral', 'score': 0.5658074617385864}, {'label': 'positive', 'score': 0.42425623536109924}]\n",
      "[{'label': 'negative', 'score': 0.431964635848999}, {'label': 'neutral', 'score': 0.31491565704345703}, {'label': 'positive', 'score': 0.2531197667121887}]\n",
      "[{'label': 'negative', 'score': 0.7737115621566772}, {'label': 'neutral', 'score': 0.20842254161834717}, {'label': 'positive', 'score': 0.017865942791104317}]\n",
      "[{'label': 'negative', 'score': 0.01977638155221939}, {'label': 'neutral', 'score': 0.23413223028182983}, {'label': 'positive', 'score': 0.746091365814209}]\n",
      "[{'label': 'negative', 'score': 0.00848732702434063}, {'label': 'neutral', 'score': 0.1404915750026703}, {'label': 'positive', 'score': 0.8510211110115051}]\n",
      "[{'label': 'negative', 'score': 0.6055793762207031}, {'label': 'neutral', 'score': 0.33754387497901917}, {'label': 'positive', 'score': 0.056876763701438904}]\n",
      "[{'label': 'negative', 'score': 0.00274246116168797}, {'label': 'neutral', 'score': 0.053535666316747665}, {'label': 'positive', 'score': 0.9437218904495239}]\n",
      "[{'label': 'negative', 'score': 0.6035815477371216}, {'label': 'neutral', 'score': 0.3121185004711151}, {'label': 'positive', 'score': 0.0842999741435051}]\n",
      "[{'label': 'negative', 'score': 0.007312544155865908}, {'label': 'neutral', 'score': 0.0514112152159214}, {'label': 'positive', 'score': 0.9412762522697449}]\n",
      "[{'label': 'negative', 'score': 0.011746063828468323}, {'label': 'neutral', 'score': 0.26703643798828125}, {'label': 'positive', 'score': 0.7212175130844116}]\n",
      "[{'label': 'negative', 'score': 0.05672834813594818}, {'label': 'neutral', 'score': 0.2578391134738922}, {'label': 'positive', 'score': 0.685432493686676}]\n",
      "[{'label': 'negative', 'score': 0.010710995644330978}, {'label': 'neutral', 'score': 0.4698776602745056}, {'label': 'positive', 'score': 0.5194113850593567}]\n",
      "[{'label': 'negative', 'score': 0.6539998650550842}, {'label': 'neutral', 'score': 0.3296895921230316}, {'label': 'positive', 'score': 0.016310518607497215}]\n",
      "[{'label': 'negative', 'score': 0.3974699079990387}, {'label': 'neutral', 'score': 0.5452921986579895}, {'label': 'positive', 'score': 0.057237885892391205}]\n",
      "[{'label': 'negative', 'score': 0.6117013692855835}, {'label': 'neutral', 'score': 0.345765084028244}, {'label': 'positive', 'score': 0.04253356158733368}]\n",
      "[{'label': 'negative', 'score': 0.012687976472079754}, {'label': 'neutral', 'score': 0.7510495781898499}, {'label': 'positive', 'score': 0.23626244068145752}]\n",
      "[{'label': 'negative', 'score': 0.1469067931175232}, {'label': 'neutral', 'score': 0.5717218518257141}, {'label': 'positive', 'score': 0.2813713252544403}]\n",
      "[{'label': 'negative', 'score': 0.016349395737051964}, {'label': 'neutral', 'score': 0.12138781696557999}, {'label': 'positive', 'score': 0.8622627854347229}]\n",
      "[{'label': 'negative', 'score': 0.06716390699148178}, {'label': 'neutral', 'score': 0.616851270198822}, {'label': 'positive', 'score': 0.3159848153591156}]\n",
      "[{'label': 'negative', 'score': 0.04126772657036781}, {'label': 'neutral', 'score': 0.88862144947052}, {'label': 'positive', 'score': 0.07011083513498306}]\n",
      "[{'label': 'negative', 'score': 0.09201421588659286}, {'label': 'neutral', 'score': 0.6604999899864197}, {'label': 'positive', 'score': 0.24748584628105164}]\n",
      "[{'label': 'negative', 'score': 0.392230749130249}, {'label': 'neutral', 'score': 0.5351446866989136}, {'label': 'positive', 'score': 0.07262462377548218}]\n"
     ]
    },
    {
     "name": "stderr",
     "output_type": "stream",
     "text": [
      " 26%|████████████████████▏                                                          | 272/1066 [00:02<00:05, 156.93it/s]"
     ]
    },
    {
     "name": "stdout",
     "output_type": "stream",
     "text": [
      "[{'label': 'negative', 'score': 0.0025971957948058844}, {'label': 'neutral', 'score': 0.016512207686901093}, {'label': 'positive', 'score': 0.9808906316757202}]\n",
      "[{'label': 'negative', 'score': 0.0054416111670434475}, {'label': 'neutral', 'score': 0.0877169668674469}, {'label': 'positive', 'score': 0.9068414568901062}]\n",
      "[{'label': 'negative', 'score': 0.006749436259269714}, {'label': 'neutral', 'score': 0.037666019052267075}, {'label': 'positive', 'score': 0.9555844664573669}]\n",
      "[{'label': 'negative', 'score': 0.71491938829422}, {'label': 'neutral', 'score': 0.2528252601623535}, {'label': 'positive', 'score': 0.03225535899400711}]\n",
      "[{'label': 'negative', 'score': 0.7403231859207153}, {'label': 'neutral', 'score': 0.22019025683403015}, {'label': 'positive', 'score': 0.03948654606938362}]\n",
      "[{'label': 'negative', 'score': 0.05837957561016083}, {'label': 'neutral', 'score': 0.4013151228427887}, {'label': 'positive', 'score': 0.5403052568435669}]\n",
      "[{'label': 'negative', 'score': 0.4550011456012726}, {'label': 'neutral', 'score': 0.4845895767211914}, {'label': 'positive', 'score': 0.060409337282180786}]\n",
      "[{'label': 'negative', 'score': 0.41830262541770935}, {'label': 'neutral', 'score': 0.4886433482170105}, {'label': 'positive', 'score': 0.09305399656295776}]\n",
      "[{'label': 'negative', 'score': 0.008449998684227467}, {'label': 'neutral', 'score': 0.053443413227796555}, {'label': 'positive', 'score': 0.9381065368652344}]\n",
      "[{'label': 'negative', 'score': 0.014739234931766987}, {'label': 'neutral', 'score': 0.1757388710975647}, {'label': 'positive', 'score': 0.8095219731330872}]\n",
      "[{'label': 'negative', 'score': 0.011252365075051785}, {'label': 'neutral', 'score': 0.7198485136032104}, {'label': 'positive', 'score': 0.2688990831375122}]\n",
      "[{'label': 'negative', 'score': 0.6458743810653687}, {'label': 'neutral', 'score': 0.3361247181892395}, {'label': 'positive', 'score': 0.01800086908042431}]\n",
      "[{'label': 'negative', 'score': 0.0071744900196790695}, {'label': 'neutral', 'score': 0.8382634520530701}, {'label': 'positive', 'score': 0.1545621007680893}]\n",
      "[{'label': 'negative', 'score': 0.6093473434448242}, {'label': 'neutral', 'score': 0.35800841450691223}, {'label': 'positive', 'score': 0.03264420107007027}]\n",
      "[{'label': 'negative', 'score': 0.03647006303071976}, {'label': 'neutral', 'score': 0.10909443348646164}, {'label': 'positive', 'score': 0.8544354438781738}]\n",
      "[{'label': 'negative', 'score': 0.004130019806325436}, {'label': 'neutral', 'score': 0.06877433508634567}, {'label': 'positive', 'score': 0.9270956516265869}]\n",
      "[{'label': 'negative', 'score': 0.008386459201574326}, {'label': 'neutral', 'score': 0.09078478813171387}, {'label': 'positive', 'score': 0.9008287191390991}]\n",
      "[{'label': 'negative', 'score': 0.0226274486631155}, {'label': 'neutral', 'score': 0.28652194142341614}, {'label': 'positive', 'score': 0.6908506155014038}]\n",
      "[{'label': 'negative', 'score': 0.8106984496116638}, {'label': 'neutral', 'score': 0.17174746096134186}, {'label': 'positive', 'score': 0.017554108053445816}]\n",
      "[{'label': 'negative', 'score': 0.0075087337754666805}, {'label': 'neutral', 'score': 0.0659453496336937}, {'label': 'positive', 'score': 0.9265459775924683}]\n",
      "[{'label': 'negative', 'score': 0.06270071119070053}, {'label': 'neutral', 'score': 0.5290530920028687}, {'label': 'positive', 'score': 0.4082461893558502}]\n",
      "[{'label': 'negative', 'score': 0.006561934947967529}, {'label': 'neutral', 'score': 0.0219075046479702}, {'label': 'positive', 'score': 0.9715306162834167}]\n",
      "[{'label': 'negative', 'score': 0.35075581073760986}, {'label': 'neutral', 'score': 0.5938193202018738}, {'label': 'positive', 'score': 0.05542486533522606}]\n",
      "[{'label': 'negative', 'score': 0.003411749843508005}, {'label': 'neutral', 'score': 0.06607052683830261}, {'label': 'positive', 'score': 0.9305177330970764}]\n",
      "[{'label': 'negative', 'score': 0.06166872754693031}, {'label': 'neutral', 'score': 0.6572079658508301}, {'label': 'positive', 'score': 0.2811233401298523}]\n",
      "[{'label': 'negative', 'score': 0.24484823644161224}, {'label': 'neutral', 'score': 0.6788898706436157}, {'label': 'positive', 'score': 0.07626190036535263}]\n",
      "[{'label': 'negative', 'score': 0.2595502436161041}, {'label': 'neutral', 'score': 0.6639869809150696}, {'label': 'positive', 'score': 0.07646273821592331}]\n",
      "[{'label': 'negative', 'score': 0.02143903635442257}, {'label': 'neutral', 'score': 0.3076292872428894}, {'label': 'positive', 'score': 0.6709316372871399}]\n",
      "[{'label': 'negative', 'score': 0.05136760696768761}, {'label': 'neutral', 'score': 0.7003614902496338}, {'label': 'positive', 'score': 0.2482708841562271}]\n",
      "[{'label': 'negative', 'score': 0.2282167226076126}, {'label': 'neutral', 'score': 0.43343377113342285}, {'label': 'positive', 'score': 0.33834946155548096}]\n",
      "[{'label': 'negative', 'score': 0.01737351529300213}, {'label': 'neutral', 'score': 0.2315405160188675}, {'label': 'positive', 'score': 0.7510859370231628}]\n",
      "[{'label': 'negative', 'score': 0.021427474915981293}, {'label': 'neutral', 'score': 0.23045550286769867}, {'label': 'positive', 'score': 0.7481170296669006}]\n"
     ]
    },
    {
     "name": "stderr",
     "output_type": "stream",
     "text": [
      " 28%|██████████████████████▍                                                        | 303/1066 [00:02<00:05, 144.30it/s]"
     ]
    },
    {
     "name": "stdout",
     "output_type": "stream",
     "text": [
      "[{'label': 'negative', 'score': 0.0037758012767881155}, {'label': 'neutral', 'score': 0.03283487632870674}, {'label': 'positive', 'score': 0.9633892774581909}]\n",
      "[{'label': 'negative', 'score': 0.27416208386421204}, {'label': 'neutral', 'score': 0.5766221284866333}, {'label': 'positive', 'score': 0.14921577274799347}]\n",
      "[{'label': 'negative', 'score': 0.5145046710968018}, {'label': 'neutral', 'score': 0.4153865575790405}, {'label': 'positive', 'score': 0.0701088160276413}]\n",
      "[{'label': 'negative', 'score': 0.27733030915260315}, {'label': 'neutral', 'score': 0.6756449341773987}, {'label': 'positive', 'score': 0.04702481999993324}]\n",
      "[{'label': 'negative', 'score': 0.749194860458374}, {'label': 'neutral', 'score': 0.22606992721557617}, {'label': 'positive', 'score': 0.024735232815146446}]\n",
      "[{'label': 'negative', 'score': 0.017580019310116768}, {'label': 'neutral', 'score': 0.22045856714248657}, {'label': 'positive', 'score': 0.7619614005088806}]\n",
      "[{'label': 'negative', 'score': 0.15060962736606598}, {'label': 'neutral', 'score': 0.5713268518447876}, {'label': 'positive', 'score': 0.27806347608566284}]\n",
      "[{'label': 'negative', 'score': 0.12423715740442276}, {'label': 'neutral', 'score': 0.7228086590766907}, {'label': 'positive', 'score': 0.15295422077178955}]\n",
      "[{'label': 'negative', 'score': 0.8428629636764526}, {'label': 'neutral', 'score': 0.15146706998348236}, {'label': 'positive', 'score': 0.005669955164194107}]\n",
      "[{'label': 'negative', 'score': 0.03184615075588226}, {'label': 'neutral', 'score': 0.8215729594230652}, {'label': 'positive', 'score': 0.14658088982105255}]\n",
      "[{'label': 'negative', 'score': 0.03709373623132706}, {'label': 'neutral', 'score': 0.22637946903705597}, {'label': 'positive', 'score': 0.7365267276763916}]\n",
      "[{'label': 'negative', 'score': 0.803574800491333}, {'label': 'neutral', 'score': 0.1740109622478485}, {'label': 'positive', 'score': 0.022414250299334526}]\n",
      "[{'label': 'negative', 'score': 0.0054159509018063545}, {'label': 'neutral', 'score': 0.016563424840569496}, {'label': 'positive', 'score': 0.9780206084251404}]\n",
      "[{'label': 'negative', 'score': 0.08345645666122437}, {'label': 'neutral', 'score': 0.6752658486366272}, {'label': 'positive', 'score': 0.2412777692079544}]\n",
      "[{'label': 'negative', 'score': 0.6443158388137817}, {'label': 'neutral', 'score': 0.33920878171920776}, {'label': 'positive', 'score': 0.01647539623081684}]\n",
      "[{'label': 'negative', 'score': 0.1737099140882492}, {'label': 'neutral', 'score': 0.5496938824653625}, {'label': 'positive', 'score': 0.27659618854522705}]\n",
      "[{'label': 'negative', 'score': 0.668721079826355}, {'label': 'neutral', 'score': 0.31873518228530884}, {'label': 'positive', 'score': 0.012543716467916965}]\n",
      "[{'label': 'negative', 'score': 0.006792672909796238}, {'label': 'neutral', 'score': 0.03758944571018219}, {'label': 'positive', 'score': 0.9556179046630859}]\n",
      "[{'label': 'negative', 'score': 0.5169731378555298}, {'label': 'neutral', 'score': 0.4190169870853424}, {'label': 'positive', 'score': 0.06400986015796661}]\n",
      "[{'label': 'negative', 'score': 0.0024662308860570192}, {'label': 'neutral', 'score': 0.009718290530145168}, {'label': 'positive', 'score': 0.9878154993057251}]\n",
      "[{'label': 'negative', 'score': 0.5492823719978333}, {'label': 'neutral', 'score': 0.3412597179412842}, {'label': 'positive', 'score': 0.10945793241262436}]\n",
      "[{'label': 'negative', 'score': 0.014601994305849075}, {'label': 'neutral', 'score': 0.09175681322813034}, {'label': 'positive', 'score': 0.8936411738395691}]\n",
      "[{'label': 'negative', 'score': 0.03276633098721504}, {'label': 'neutral', 'score': 0.450909286737442}, {'label': 'positive', 'score': 0.5163244009017944}]\n",
      "[{'label': 'negative', 'score': 0.03323274478316307}, {'label': 'neutral', 'score': 0.7128424048423767}, {'label': 'positive', 'score': 0.2539249360561371}]\n",
      "[{'label': 'negative', 'score': 0.01238195225596428}, {'label': 'neutral', 'score': 0.0928901806473732}, {'label': 'positive', 'score': 0.894727885723114}]\n",
      "[{'label': 'negative', 'score': 0.001955972518771887}, {'label': 'neutral', 'score': 0.03820506110787392}, {'label': 'positive', 'score': 0.9598389863967896}]\n",
      "[{'label': 'negative', 'score': 0.038479410111904144}, {'label': 'neutral', 'score': 0.796612024307251}, {'label': 'positive', 'score': 0.16490855813026428}]\n"
     ]
    },
    {
     "name": "stderr",
     "output_type": "stream",
     "text": [
      " 31%|████████████████████████▋                                                      | 333/1066 [00:02<00:05, 143.28it/s]"
     ]
    },
    {
     "name": "stdout",
     "output_type": "stream",
     "text": [
      "[{'label': 'negative', 'score': 0.7112635374069214}, {'label': 'neutral', 'score': 0.2582603991031647}, {'label': 'positive', 'score': 0.030476002022624016}]\n",
      "[{'label': 'negative', 'score': 0.13076680898666382}, {'label': 'neutral', 'score': 0.33312296867370605}, {'label': 'positive', 'score': 0.5361102223396301}]\n",
      "[{'label': 'negative', 'score': 0.270781934261322}, {'label': 'neutral', 'score': 0.5251577496528625}, {'label': 'positive', 'score': 0.204060360789299}]\n",
      "[{'label': 'negative', 'score': 0.004454797599464655}, {'label': 'neutral', 'score': 0.012720096856355667}, {'label': 'positive', 'score': 0.9828251004219055}]\n",
      "[{'label': 'negative', 'score': 0.010817443020641804}, {'label': 'neutral', 'score': 0.2584380805492401}, {'label': 'positive', 'score': 0.730744481086731}]\n",
      "[{'label': 'negative', 'score': 0.48533421754837036}, {'label': 'neutral', 'score': 0.4561953842639923}, {'label': 'positive', 'score': 0.05847032740712166}]\n",
      "[{'label': 'negative', 'score': 0.5821385383605957}, {'label': 'neutral', 'score': 0.39183709025382996}, {'label': 'positive', 'score': 0.026024354621767998}]\n",
      "[{'label': 'negative', 'score': 0.7203265428543091}, {'label': 'neutral', 'score': 0.25121843814849854}, {'label': 'positive', 'score': 0.028455005958676338}]\n",
      "[{'label': 'negative', 'score': 0.02278957888484001}, {'label': 'neutral', 'score': 0.5965033769607544}, {'label': 'positive', 'score': 0.3807070553302765}]\n",
      "[{'label': 'negative', 'score': 0.016807669773697853}, {'label': 'neutral', 'score': 0.20878909528255463}, {'label': 'positive', 'score': 0.7744032740592957}]\n",
      "[{'label': 'negative', 'score': 0.0658709853887558}, {'label': 'neutral', 'score': 0.37759068608283997}, {'label': 'positive', 'score': 0.5565383434295654}]\n",
      "[{'label': 'negative', 'score': 0.003689052304252982}, {'label': 'neutral', 'score': 0.050853431224823}, {'label': 'positive', 'score': 0.9454575181007385}]\n",
      "[{'label': 'negative', 'score': 0.0029864672105759382}, {'label': 'neutral', 'score': 0.021572170779109}, {'label': 'positive', 'score': 0.9754413366317749}]\n",
      "[{'label': 'negative', 'score': 0.02461104467511177}, {'label': 'neutral', 'score': 0.2852729260921478}, {'label': 'positive', 'score': 0.6901160478591919}]\n",
      "[{'label': 'negative', 'score': 0.009965969249606133}, {'label': 'neutral', 'score': 0.05795234441757202}, {'label': 'positive', 'score': 0.9320816397666931}]\n",
      "[{'label': 'negative', 'score': 0.014445630833506584}, {'label': 'neutral', 'score': 0.33878254890441895}, {'label': 'positive', 'score': 0.6467717885971069}]\n",
      "[{'label': 'negative', 'score': 0.038066137582063675}, {'label': 'neutral', 'score': 0.479824036359787}, {'label': 'positive', 'score': 0.4821099042892456}]\n",
      "[{'label': 'negative', 'score': 0.33069154620170593}, {'label': 'neutral', 'score': 0.37700575590133667}, {'label': 'positive', 'score': 0.2923026978969574}]\n",
      "[{'label': 'negative', 'score': 0.19672898948192596}, {'label': 'neutral', 'score': 0.22227409482002258}, {'label': 'positive', 'score': 0.5809969305992126}]\n",
      "[{'label': 'negative', 'score': 0.052389346063137054}, {'label': 'neutral', 'score': 0.8733838200569153}, {'label': 'positive', 'score': 0.07422682642936707}]\n",
      "[{'label': 'negative', 'score': 0.8838623762130737}, {'label': 'neutral', 'score': 0.10176286101341248}, {'label': 'positive', 'score': 0.014374802820384502}]\n",
      "[{'label': 'negative', 'score': 0.003752125194296241}, {'label': 'neutral', 'score': 0.02749418281018734}, {'label': 'positive', 'score': 0.9687536954879761}]\n",
      "[{'label': 'negative', 'score': 0.0400565080344677}, {'label': 'neutral', 'score': 0.2911941111087799}, {'label': 'positive', 'score': 0.6687493920326233}]\n",
      "[{'label': 'negative', 'score': 0.003147974843159318}, {'label': 'neutral', 'score': 0.03213570639491081}, {'label': 'positive', 'score': 0.9647163152694702}]\n",
      "[{'label': 'negative', 'score': 0.6606984734535217}, {'label': 'neutral', 'score': 0.31334951519966125}, {'label': 'positive', 'score': 0.025951934978365898}]\n",
      "[{'label': 'negative', 'score': 0.004803826566785574}, {'label': 'neutral', 'score': 0.013589860871434212}, {'label': 'positive', 'score': 0.9816063046455383}]\n",
      "[{'label': 'negative', 'score': 0.0063907187432050705}, {'label': 'neutral', 'score': 0.0648702010512352}, {'label': 'positive', 'score': 0.928739070892334}]\n",
      "[{'label': 'negative', 'score': 0.15672659873962402}, {'label': 'neutral', 'score': 0.6581265926361084}, {'label': 'positive', 'score': 0.18514686822891235}]\n",
      "[{'label': 'negative', 'score': 0.8307962417602539}, {'label': 'neutral', 'score': 0.16053564846515656}, {'label': 'positive', 'score': 0.008668103255331516}]\n"
     ]
    },
    {
     "name": "stderr",
     "output_type": "stream",
     "text": [
      " 33%|█████████████████████████▊                                                     | 348/1066 [00:03<00:05, 137.06it/s]"
     ]
    },
    {
     "name": "stdout",
     "output_type": "stream",
     "text": [
      "[{'label': 'negative', 'score': 0.0029720570892095566}, {'label': 'neutral', 'score': 0.06224452704191208}, {'label': 'positive', 'score': 0.934783399105072}]\n",
      "[{'label': 'negative', 'score': 0.0030918624252080917}, {'label': 'neutral', 'score': 0.010525970719754696}, {'label': 'positive', 'score': 0.9863821268081665}]\n",
      "[{'label': 'negative', 'score': 0.017076384276151657}, {'label': 'neutral', 'score': 0.1433981955051422}, {'label': 'positive', 'score': 0.8395253419876099}]\n",
      "[{'label': 'negative', 'score': 0.18495327234268188}, {'label': 'neutral', 'score': 0.7888339757919312}, {'label': 'positive', 'score': 0.026212744414806366}]\n",
      "[{'label': 'negative', 'score': 0.038930851966142654}, {'label': 'neutral', 'score': 0.8072524070739746}, {'label': 'positive', 'score': 0.15381675958633423}]\n",
      "[{'label': 'negative', 'score': 0.0040991404093801975}, {'label': 'neutral', 'score': 0.02481647953391075}, {'label': 'positive', 'score': 0.9710844159126282}]\n",
      "[{'label': 'negative', 'score': 0.02610025182366371}, {'label': 'neutral', 'score': 0.11805035173892975}, {'label': 'positive', 'score': 0.8558493852615356}]\n",
      "[{'label': 'negative', 'score': 0.6664022207260132}, {'label': 'neutral', 'score': 0.29807695746421814}, {'label': 'positive', 'score': 0.03552086651325226}]\n",
      "[{'label': 'negative', 'score': 0.027714107185602188}, {'label': 'neutral', 'score': 0.5097202658653259}, {'label': 'positive', 'score': 0.4625656008720398}]\n",
      "[{'label': 'negative', 'score': 0.261115163564682}, {'label': 'neutral', 'score': 0.6448850631713867}, {'label': 'positive', 'score': 0.09399981051683426}]\n",
      "[{'label': 'negative', 'score': 0.0021769744344055653}, {'label': 'neutral', 'score': 0.017828483134508133}, {'label': 'positive', 'score': 0.979994535446167}]\n",
      "[{'label': 'negative', 'score': 0.07849030941724777}, {'label': 'neutral', 'score': 0.3857509195804596}, {'label': 'positive', 'score': 0.5357587337493896}]\n",
      "[{'label': 'negative', 'score': 0.006276863161474466}, {'label': 'neutral', 'score': 0.05461835488677025}, {'label': 'positive', 'score': 0.9391047954559326}]\n",
      "[{'label': 'negative', 'score': 0.16582916676998138}, {'label': 'neutral', 'score': 0.5206901431083679}, {'label': 'positive', 'score': 0.3134806454181671}]\n",
      "[{'label': 'negative', 'score': 0.006377446930855513}, {'label': 'neutral', 'score': 0.04978732392191887}, {'label': 'positive', 'score': 0.9438351988792419}]\n",
      "[{'label': 'negative', 'score': 0.0029693138785660267}, {'label': 'neutral', 'score': 0.08359003812074661}, {'label': 'positive', 'score': 0.9134406447410583}]\n",
      "[{'label': 'negative', 'score': 0.002043910091742873}, {'label': 'neutral', 'score': 0.01705227419734001}, {'label': 'positive', 'score': 0.9809038043022156}]\n",
      "[{'label': 'negative', 'score': 0.1467224359512329}, {'label': 'neutral', 'score': 0.8009131550788879}, {'label': 'positive', 'score': 0.05236448720097542}]\n",
      "[{'label': 'negative', 'score': 0.11260072886943817}, {'label': 'neutral', 'score': 0.3785513937473297}, {'label': 'positive', 'score': 0.5088478922843933}]\n",
      "[{'label': 'negative', 'score': 0.019198546186089516}, {'label': 'neutral', 'score': 0.21756358444690704}, {'label': 'positive', 'score': 0.7632378935813904}]\n",
      "[{'label': 'negative', 'score': 0.8951194882392883}, {'label': 'neutral', 'score': 0.09313401579856873}, {'label': 'positive', 'score': 0.011746514588594437}]\n",
      "[{'label': 'negative', 'score': 0.0040806131437420845}, {'label': 'neutral', 'score': 0.08302856981754303}, {'label': 'positive', 'score': 0.9128907918930054}]\n",
      "[{'label': 'negative', 'score': 0.013274905271828175}, {'label': 'neutral', 'score': 0.35200679302215576}, {'label': 'positive', 'score': 0.6347182393074036}]\n",
      "[{'label': 'negative', 'score': 0.12119487673044205}, {'label': 'neutral', 'score': 0.38443100452423096}, {'label': 'positive', 'score': 0.49437415599823}]\n",
      "[{'label': 'negative', 'score': 0.10746435075998306}, {'label': 'neutral', 'score': 0.42076149582862854}, {'label': 'positive', 'score': 0.471774160861969}]\n",
      "[{'label': 'negative', 'score': 0.4962932765483856}, {'label': 'neutral', 'score': 0.45147761702537537}, {'label': 'positive', 'score': 0.05222918465733528}]\n",
      "[{'label': 'negative', 'score': 0.46516677737236023}, {'label': 'neutral', 'score': 0.4786779582500458}, {'label': 'positive', 'score': 0.05615522339940071}]\n",
      "[{'label': 'negative', 'score': 0.08897975087165833}, {'label': 'neutral', 'score': 0.3175371289253235}, {'label': 'positive', 'score': 0.5934830904006958}]\n"
     ]
    },
    {
     "name": "stderr",
     "output_type": "stream",
     "text": [
      " 36%|████████████████████████████▏                                                  | 380/1066 [00:03<00:04, 146.65it/s]"
     ]
    },
    {
     "name": "stdout",
     "output_type": "stream",
     "text": [
      "[{'label': 'negative', 'score': 0.0025165723636746407}, {'label': 'neutral', 'score': 0.017115898430347443}, {'label': 'positive', 'score': 0.9803675413131714}]\n",
      "[{'label': 'negative', 'score': 0.007975148037075996}, {'label': 'neutral', 'score': 0.07213577628135681}, {'label': 'positive', 'score': 0.9198890328407288}]\n",
      "[{'label': 'negative', 'score': 0.016555922105908394}, {'label': 'neutral', 'score': 0.18027529120445251}, {'label': 'positive', 'score': 0.803168773651123}]\n",
      "[{'label': 'negative', 'score': 0.8120522499084473}, {'label': 'neutral', 'score': 0.16700123250484467}, {'label': 'positive', 'score': 0.02094646915793419}]\n",
      "[{'label': 'negative', 'score': 0.04620588198304176}, {'label': 'neutral', 'score': 0.3000643849372864}, {'label': 'positive', 'score': 0.6537297368049622}]\n",
      "[{'label': 'negative', 'score': 0.004261634778231382}, {'label': 'neutral', 'score': 0.07409254461526871}, {'label': 'positive', 'score': 0.9216457605361938}]\n",
      "[{'label': 'negative', 'score': 0.009555421769618988}, {'label': 'neutral', 'score': 0.19302740693092346}, {'label': 'positive', 'score': 0.7974172234535217}]\n",
      "[{'label': 'negative', 'score': 0.20594286918640137}, {'label': 'neutral', 'score': 0.3715774714946747}, {'label': 'positive', 'score': 0.42247968912124634}]\n",
      "[{'label': 'negative', 'score': 0.07727279514074326}, {'label': 'neutral', 'score': 0.5292176604270935}, {'label': 'positive', 'score': 0.39350950717926025}]\n",
      "[{'label': 'negative', 'score': 0.0612945556640625}, {'label': 'neutral', 'score': 0.8474611043930054}, {'label': 'positive', 'score': 0.0912444069981575}]\n",
      "[{'label': 'negative', 'score': 0.011445533484220505}, {'label': 'neutral', 'score': 0.1020195484161377}, {'label': 'positive', 'score': 0.8865349292755127}]\n",
      "[{'label': 'negative', 'score': 0.7602618932723999}, {'label': 'neutral', 'score': 0.2252708226442337}, {'label': 'positive', 'score': 0.014467290602624416}]\n",
      "[{'label': 'negative', 'score': 0.7261489629745483}, {'label': 'neutral', 'score': 0.2592129111289978}, {'label': 'positive', 'score': 0.01463805790990591}]\n",
      "[{'label': 'negative', 'score': 0.0027375256177037954}, {'label': 'neutral', 'score': 0.008430291898548603}, {'label': 'positive', 'score': 0.9888322353363037}]\n",
      "[{'label': 'negative', 'score': 0.17511387169361115}, {'label': 'neutral', 'score': 0.6958996653556824}, {'label': 'positive', 'score': 0.1289864480495453}]\n",
      "[{'label': 'negative', 'score': 0.004606881178915501}, {'label': 'neutral', 'score': 0.034182108938694}, {'label': 'positive', 'score': 0.9612110257148743}]\n",
      "[{'label': 'negative', 'score': 0.0063071949407458305}, {'label': 'neutral', 'score': 0.048919036984443665}, {'label': 'positive', 'score': 0.9447737336158752}]\n",
      "[{'label': 'negative', 'score': 0.023438936099410057}, {'label': 'neutral', 'score': 0.1746111363172531}, {'label': 'positive', 'score': 0.8019499182701111}]\n",
      "[{'label': 'negative', 'score': 0.07646923512220383}, {'label': 'neutral', 'score': 0.5483493804931641}, {'label': 'positive', 'score': 0.3751814067363739}]\n",
      "[{'label': 'negative', 'score': 0.4785871207714081}, {'label': 'neutral', 'score': 0.5049849152565002}, {'label': 'positive', 'score': 0.01642799563705921}]\n",
      "[{'label': 'negative', 'score': 0.4325680732727051}, {'label': 'neutral', 'score': 0.4544951915740967}, {'label': 'positive', 'score': 0.11293664574623108}]\n",
      "[{'label': 'negative', 'score': 0.4188956022262573}, {'label': 'neutral', 'score': 0.2585747539997101}, {'label': 'positive', 'score': 0.3225296139717102}]\n",
      "[{'label': 'negative', 'score': 0.07759440690279007}, {'label': 'neutral', 'score': 0.4369775652885437}, {'label': 'positive', 'score': 0.4854280352592468}]\n",
      "[{'label': 'negative', 'score': 0.011147702112793922}, {'label': 'neutral', 'score': 0.16291546821594238}, {'label': 'positive', 'score': 0.8259368538856506}]\n",
      "[{'label': 'negative', 'score': 0.007371206767857075}, {'label': 'neutral', 'score': 0.06791366636753082}, {'label': 'positive', 'score': 0.9247151613235474}]\n",
      "[{'label': 'negative', 'score': 0.10517273843288422}, {'label': 'neutral', 'score': 0.8489573001861572}, {'label': 'positive', 'score': 0.045870017260313034}]\n",
      "[{'label': 'negative', 'score': 0.0035849232226610184}, {'label': 'neutral', 'score': 0.030560025945305824}, {'label': 'positive', 'score': 0.9658551216125488}]\n",
      "[{'label': 'negative', 'score': 0.0152077442035079}, {'label': 'neutral', 'score': 0.6522490978240967}, {'label': 'positive', 'score': 0.33254319429397583}]\n",
      "[{'label': 'negative', 'score': 0.01292307861149311}, {'label': 'neutral', 'score': 0.25420984625816345}, {'label': 'positive', 'score': 0.7328671216964722}]\n"
     ]
    },
    {
     "name": "stderr",
     "output_type": "stream",
     "text": [
      " 39%|██████████████████████████████▍                                                | 411/1066 [00:03<00:04, 144.90it/s]"
     ]
    },
    {
     "name": "stdout",
     "output_type": "stream",
     "text": [
      "[{'label': 'negative', 'score': 0.006262263748794794}, {'label': 'neutral', 'score': 0.12789958715438843}, {'label': 'positive', 'score': 0.8658381700515747}]\n",
      "[{'label': 'negative', 'score': 0.0449431948363781}, {'label': 'neutral', 'score': 0.5479300618171692}, {'label': 'positive', 'score': 0.4071267247200012}]\n",
      "[{'label': 'negative', 'score': 0.016403496265411377}, {'label': 'neutral', 'score': 0.2127133458852768}, {'label': 'positive', 'score': 0.7708831429481506}]\n",
      "[{'label': 'negative', 'score': 0.010089115239679813}, {'label': 'neutral', 'score': 0.13889046013355255}, {'label': 'positive', 'score': 0.8510204553604126}]\n",
      "[{'label': 'negative', 'score': 0.0065215108916163445}, {'label': 'neutral', 'score': 0.03757330775260925}, {'label': 'positive', 'score': 0.9559051990509033}]\n",
      "[{'label': 'negative', 'score': 0.006782887037843466}, {'label': 'neutral', 'score': 0.3585025370121002}, {'label': 'positive', 'score': 0.6347146034240723}]\n",
      "[{'label': 'negative', 'score': 0.0855298563838005}, {'label': 'neutral', 'score': 0.3881433308124542}, {'label': 'positive', 'score': 0.5263268351554871}]\n",
      "[{'label': 'negative', 'score': 0.02580220252275467}, {'label': 'neutral', 'score': 0.36561816930770874}, {'label': 'positive', 'score': 0.6085796356201172}]\n",
      "[{'label': 'negative', 'score': 0.009439595974981785}, {'label': 'neutral', 'score': 0.21754741668701172}, {'label': 'positive', 'score': 0.7730129957199097}]\n",
      "[{'label': 'negative', 'score': 0.01089160144329071}, {'label': 'neutral', 'score': 0.05551474168896675}, {'label': 'positive', 'score': 0.9335936903953552}]\n",
      "[{'label': 'negative', 'score': 0.8848648071289062}, {'label': 'neutral', 'score': 0.11011737585067749}, {'label': 'positive', 'score': 0.005017749033868313}]\n",
      "[{'label': 'negative', 'score': 0.0035615903325378895}, {'label': 'neutral', 'score': 0.036820780485868454}, {'label': 'positive', 'score': 0.9596176743507385}]\n",
      "[{'label': 'negative', 'score': 0.025496968999505043}, {'label': 'neutral', 'score': 0.3352910578250885}, {'label': 'positive', 'score': 0.6392119526863098}]\n",
      "[{'label': 'negative', 'score': 0.06481393426656723}, {'label': 'neutral', 'score': 0.6153386831283569}, {'label': 'positive', 'score': 0.31984737515449524}]\n",
      "[{'label': 'negative', 'score': 0.006732539739459753}, {'label': 'neutral', 'score': 0.040927909314632416}, {'label': 'positive', 'score': 0.9523395895957947}]\n",
      "[{'label': 'negative', 'score': 0.13346953690052032}, {'label': 'neutral', 'score': 0.6901820302009583}, {'label': 'positive', 'score': 0.17634840309619904}]\n",
      "[{'label': 'negative', 'score': 0.008884943090379238}, {'label': 'neutral', 'score': 0.11121443659067154}, {'label': 'positive', 'score': 0.8799005746841431}]\n",
      "[{'label': 'negative', 'score': 0.027031827718019485}, {'label': 'neutral', 'score': 0.1923982799053192}, {'label': 'positive', 'score': 0.780569851398468}]\n",
      "[{'label': 'negative', 'score': 0.5276390314102173}, {'label': 'neutral', 'score': 0.41415029764175415}, {'label': 'positive', 'score': 0.05821068957448006}]\n",
      "[{'label': 'negative', 'score': 0.4306517541408539}, {'label': 'neutral', 'score': 0.5359014272689819}, {'label': 'positive', 'score': 0.0334467887878418}]\n",
      "[{'label': 'negative', 'score': 0.0035161934792995453}, {'label': 'neutral', 'score': 0.02231118641793728}, {'label': 'positive', 'score': 0.9741725921630859}]\n",
      "[{'label': 'negative', 'score': 0.7742871046066284}, {'label': 'neutral', 'score': 0.2132239192724228}, {'label': 'positive', 'score': 0.012488950043916702}]\n",
      "[{'label': 'negative', 'score': 0.0012918546563014388}, {'label': 'neutral', 'score': 0.028268948197364807}, {'label': 'positive', 'score': 0.9704391360282898}]\n",
      "[{'label': 'negative', 'score': 0.02330613322556019}, {'label': 'neutral', 'score': 0.176896333694458}, {'label': 'positive', 'score': 0.7997975945472717}]\n",
      "[{'label': 'negative', 'score': 0.013612287119030952}, {'label': 'neutral', 'score': 0.15996982157230377}, {'label': 'positive', 'score': 0.8264179229736328}]\n",
      "[{'label': 'negative', 'score': 0.00806424766778946}, {'label': 'neutral', 'score': 0.08135124295949936}, {'label': 'positive', 'score': 0.910584568977356}]\n",
      "[{'label': 'negative', 'score': 0.004007883369922638}, {'label': 'neutral', 'score': 0.020024817436933517}, {'label': 'positive', 'score': 0.9759673476219177}]\n",
      "[{'label': 'negative', 'score': 0.7108274102210999}, {'label': 'neutral', 'score': 0.2715737819671631}, {'label': 'positive', 'score': 0.017598852515220642}]\n",
      "[{'label': 'negative', 'score': 0.00844943430274725}, {'label': 'neutral', 'score': 0.561357319355011}, {'label': 'positive', 'score': 0.4301932752132416}]\n"
     ]
    },
    {
     "name": "stderr",
     "output_type": "stream",
     "text": [
      " 41%|████████████████████████████████▋                                              | 441/1066 [00:03<00:04, 137.94it/s]"
     ]
    },
    {
     "name": "stdout",
     "output_type": "stream",
     "text": [
      "[{'label': 'negative', 'score': 0.02515038289129734}, {'label': 'neutral', 'score': 0.5397147536277771}, {'label': 'positive', 'score': 0.4351348578929901}]\n",
      "[{'label': 'negative', 'score': 0.006789745297282934}, {'label': 'neutral', 'score': 0.0856093019247055}, {'label': 'positive', 'score': 0.9076009392738342}]\n",
      "[{'label': 'negative', 'score': 0.21675445139408112}, {'label': 'neutral', 'score': 0.6432271003723145}, {'label': 'positive', 'score': 0.14001841843128204}]\n",
      "[{'label': 'negative', 'score': 0.0057824342511594296}, {'label': 'neutral', 'score': 0.11104562133550644}, {'label': 'positive', 'score': 0.8831719160079956}]\n",
      "[{'label': 'negative', 'score': 0.35810986161231995}, {'label': 'neutral', 'score': 0.3582701086997986}, {'label': 'positive', 'score': 0.28362002968788147}]\n",
      "[{'label': 'negative', 'score': 0.007684982847422361}, {'label': 'neutral', 'score': 0.1399124562740326}, {'label': 'positive', 'score': 0.8524025678634644}]\n",
      "[{'label': 'negative', 'score': 0.0263079721480608}, {'label': 'neutral', 'score': 0.271133691072464}, {'label': 'positive', 'score': 0.7025583386421204}]\n",
      "[{'label': 'negative', 'score': 0.01946154236793518}, {'label': 'neutral', 'score': 0.13893860578536987}, {'label': 'positive', 'score': 0.8415998816490173}]\n",
      "[{'label': 'negative', 'score': 0.01063314825296402}, {'label': 'neutral', 'score': 0.07923897355794907}, {'label': 'positive', 'score': 0.9101279377937317}]\n",
      "[{'label': 'negative', 'score': 0.43061184883117676}, {'label': 'neutral', 'score': 0.34867385029792786}, {'label': 'positive', 'score': 0.22071436047554016}]\n",
      "[{'label': 'negative', 'score': 0.0033074035309255123}, {'label': 'neutral', 'score': 0.05102810263633728}, {'label': 'positive', 'score': 0.9456645250320435}]\n",
      "[{'label': 'negative', 'score': 0.06528650224208832}, {'label': 'neutral', 'score': 0.6753202676773071}, {'label': 'positive', 'score': 0.25939321517944336}]\n",
      "[{'label': 'negative', 'score': 0.016133904457092285}, {'label': 'neutral', 'score': 0.18006020784378052}, {'label': 'positive', 'score': 0.8038058876991272}]\n",
      "[{'label': 'negative', 'score': 0.8963634371757507}, {'label': 'neutral', 'score': 0.09494417905807495}, {'label': 'positive', 'score': 0.00869247131049633}]\n",
      "[{'label': 'negative', 'score': 0.006211733445525169}, {'label': 'neutral', 'score': 0.09956558048725128}, {'label': 'positive', 'score': 0.8942226767539978}]\n",
      "[{'label': 'negative', 'score': 0.010211366228759289}, {'label': 'neutral', 'score': 0.16440697014331818}, {'label': 'positive', 'score': 0.8253816366195679}]\n",
      "[{'label': 'negative', 'score': 0.009478786028921604}, {'label': 'neutral', 'score': 0.16086024045944214}, {'label': 'positive', 'score': 0.8296610116958618}]\n",
      "[{'label': 'negative', 'score': 0.03759559616446495}, {'label': 'neutral', 'score': 0.20606718957424164}, {'label': 'positive', 'score': 0.7563371658325195}]\n",
      "[{'label': 'negative', 'score': 0.014939656481146812}, {'label': 'neutral', 'score': 0.671055018901825}, {'label': 'positive', 'score': 0.3140052855014801}]\n",
      "[{'label': 'negative', 'score': 0.0053599742241203785}, {'label': 'neutral', 'score': 0.2551218867301941}, {'label': 'positive', 'score': 0.7395181655883789}]\n",
      "[{'label': 'negative', 'score': 0.004770355299115181}, {'label': 'neutral', 'score': 0.09576332569122314}, {'label': 'positive', 'score': 0.8994662761688232}]\n",
      "[{'label': 'negative', 'score': 0.012098605744540691}, {'label': 'neutral', 'score': 0.17631886899471283}, {'label': 'positive', 'score': 0.8115825653076172}]\n",
      "[{'label': 'negative', 'score': 0.8204099535942078}, {'label': 'neutral', 'score': 0.16353893280029297}, {'label': 'positive', 'score': 0.016051126644015312}]\n",
      "[{'label': 'negative', 'score': 0.018320124596357346}, {'label': 'neutral', 'score': 0.19751869142055511}, {'label': 'positive', 'score': 0.7841611504554749}]\n",
      "[{'label': 'negative', 'score': 0.04685249179601669}, {'label': 'neutral', 'score': 0.28947222232818604}, {'label': 'positive', 'score': 0.6636753082275391}]\n",
      "[{'label': 'negative', 'score': 0.002826547948643565}, {'label': 'neutral', 'score': 0.02249743975698948}, {'label': 'positive', 'score': 0.9746760725975037}]\n",
      "[{'label': 'negative', 'score': 0.13838426768779755}, {'label': 'neutral', 'score': 0.7973363399505615}, {'label': 'positive', 'score': 0.06427939981222153}]\n",
      "[{'label': 'negative', 'score': 0.015818189829587936}, {'label': 'neutral', 'score': 0.13053089380264282}, {'label': 'positive', 'score': 0.8536509275436401}]\n"
     ]
    },
    {
     "name": "stderr",
     "output_type": "stream",
     "text": [
      " 44%|██████████████████████████████████▉                                            | 471/1066 [00:03<00:04, 141.85it/s]"
     ]
    },
    {
     "name": "stdout",
     "output_type": "stream",
     "text": [
      "[{'label': 'negative', 'score': 0.0929294154047966}, {'label': 'neutral', 'score': 0.30487602949142456}, {'label': 'positive', 'score': 0.6021945476531982}]\n",
      "[{'label': 'negative', 'score': 0.04283696785569191}, {'label': 'neutral', 'score': 0.4259970784187317}, {'label': 'positive', 'score': 0.5311659574508667}]\n",
      "[{'label': 'negative', 'score': 0.10098391771316528}, {'label': 'neutral', 'score': 0.6660746335983276}, {'label': 'positive', 'score': 0.2329414188861847}]\n",
      "[{'label': 'negative', 'score': 0.027556218206882477}, {'label': 'neutral', 'score': 0.25148284435272217}, {'label': 'positive', 'score': 0.7209609150886536}]\n",
      "[{'label': 'negative', 'score': 0.2965144217014313}, {'label': 'neutral', 'score': 0.5964170694351196}, {'label': 'positive', 'score': 0.1070685014128685}]\n",
      "[{'label': 'negative', 'score': 0.749253511428833}, {'label': 'neutral', 'score': 0.23072859644889832}, {'label': 'positive', 'score': 0.020017875358462334}]\n",
      "[{'label': 'negative', 'score': 0.5994868278503418}, {'label': 'neutral', 'score': 0.3624808192253113}, {'label': 'positive', 'score': 0.03803233429789543}]\n",
      "[{'label': 'negative', 'score': 0.8583141565322876}, {'label': 'neutral', 'score': 0.11984750628471375}, {'label': 'positive', 'score': 0.021838344633579254}]\n",
      "[{'label': 'negative', 'score': 0.003567414591088891}, {'label': 'neutral', 'score': 0.07026548683643341}, {'label': 'positive', 'score': 0.9261671304702759}]\n",
      "[{'label': 'negative', 'score': 0.838817834854126}, {'label': 'neutral', 'score': 0.14535188674926758}, {'label': 'positive', 'score': 0.01583028770983219}]\n",
      "[{'label': 'negative', 'score': 0.015000874176621437}, {'label': 'neutral', 'score': 0.2764160633087158}, {'label': 'positive', 'score': 0.7085830569267273}]\n",
      "[{'label': 'negative', 'score': 0.005719122942537069}, {'label': 'neutral', 'score': 0.03929568827152252}, {'label': 'positive', 'score': 0.9549852013587952}]\n",
      "[{'label': 'negative', 'score': 0.008050070144236088}, {'label': 'neutral', 'score': 0.04164972901344299}, {'label': 'positive', 'score': 0.9503002166748047}]\n",
      "[{'label': 'negative', 'score': 0.03176136314868927}, {'label': 'neutral', 'score': 0.38593778014183044}, {'label': 'positive', 'score': 0.5823009014129639}]\n",
      "[{'label': 'negative', 'score': 0.023194456472992897}, {'label': 'neutral', 'score': 0.19046661257743835}, {'label': 'positive', 'score': 0.7863389253616333}]\n",
      "[{'label': 'negative', 'score': 0.34127676486968994}, {'label': 'neutral', 'score': 0.5995176434516907}, {'label': 'positive', 'score': 0.0592055581510067}]\n",
      "[{'label': 'negative', 'score': 0.011737498454749584}, {'label': 'neutral', 'score': 0.057716358453035355}, {'label': 'positive', 'score': 0.9305461049079895}]\n",
      "[{'label': 'negative', 'score': 0.023064861074090004}, {'label': 'neutral', 'score': 0.5391678810119629}, {'label': 'positive', 'score': 0.43776729702949524}]\n",
      "[{'label': 'negative', 'score': 0.006364117376506329}, {'label': 'neutral', 'score': 0.12452863156795502}, {'label': 'positive', 'score': 0.869107186794281}]\n",
      "[{'label': 'negative', 'score': 0.46207451820373535}, {'label': 'neutral', 'score': 0.5082508325576782}, {'label': 'positive', 'score': 0.029674626886844635}]\n",
      "[{'label': 'negative', 'score': 0.0080149220302701}, {'label': 'neutral', 'score': 0.030880149453878403}, {'label': 'positive', 'score': 0.9611048698425293}]\n",
      "[{'label': 'negative', 'score': 0.004418571013957262}, {'label': 'neutral', 'score': 0.2707185447216034}, {'label': 'positive', 'score': 0.7248629331588745}]\n",
      "[{'label': 'negative', 'score': 0.858299732208252}, {'label': 'neutral', 'score': 0.13128697872161865}, {'label': 'positive', 'score': 0.010413215495646}]\n",
      "[{'label': 'negative', 'score': 0.4922422766685486}, {'label': 'neutral', 'score': 0.40914472937583923}, {'label': 'positive', 'score': 0.09861306101083755}]\n",
      "[{'label': 'negative', 'score': 0.224692702293396}, {'label': 'neutral', 'score': 0.7511603236198425}, {'label': 'positive', 'score': 0.024146920070052147}]\n",
      "[{'label': 'negative', 'score': 0.0030752019956707954}, {'label': 'neutral', 'score': 0.015455296263098717}, {'label': 'positive', 'score': 0.9814695119857788}]\n",
      "[{'label': 'negative', 'score': 0.6794173121452332}, {'label': 'neutral', 'score': 0.2531003952026367}, {'label': 'positive', 'score': 0.06748224794864655}]\n",
      "[{'label': 'negative', 'score': 0.004589754156768322}, {'label': 'neutral', 'score': 0.03891214355826378}, {'label': 'positive', 'score': 0.9564980864524841}]\n",
      "[{'label': 'negative', 'score': 0.0033442548010498285}, {'label': 'neutral', 'score': 0.024829944595694542}, {'label': 'positive', 'score': 0.9718258380889893}]\n",
      "[{'label': 'negative', 'score': 0.5947124361991882}, {'label': 'neutral', 'score': 0.3903711438179016}, {'label': 'positive', 'score': 0.014916458167135715}]\n"
     ]
    },
    {
     "name": "stderr",
     "output_type": "stream",
     "text": [
      " 47%|█████████████████████████████████████▏                                         | 502/1066 [00:04<00:03, 145.44it/s]"
     ]
    },
    {
     "name": "stdout",
     "output_type": "stream",
     "text": [
      "[{'label': 'negative', 'score': 0.5266533493995667}, {'label': 'neutral', 'score': 0.3628622889518738}, {'label': 'positive', 'score': 0.11048432439565659}]\n",
      "[{'label': 'negative', 'score': 0.002427205676212907}, {'label': 'neutral', 'score': 0.008911432698369026}, {'label': 'positive', 'score': 0.9886614084243774}]\n",
      "[{'label': 'negative', 'score': 0.009605524130165577}, {'label': 'neutral', 'score': 0.27368536591529846}, {'label': 'positive', 'score': 0.7167090773582458}]\n",
      "[{'label': 'negative', 'score': 0.12459595501422882}, {'label': 'neutral', 'score': 0.7112128138542175}, {'label': 'positive', 'score': 0.16419120132923126}]\n",
      "[{'label': 'negative', 'score': 0.6102340817451477}, {'label': 'neutral', 'score': 0.36727550625801086}, {'label': 'positive', 'score': 0.02249039337038994}]\n",
      "[{'label': 'negative', 'score': 0.0064029330387711525}, {'label': 'neutral', 'score': 0.09585414081811905}, {'label': 'positive', 'score': 0.8977429270744324}]\n",
      "[{'label': 'negative', 'score': 0.0743907019495964}, {'label': 'neutral', 'score': 0.5123895406723022}, {'label': 'positive', 'score': 0.41321972012519836}]\n",
      "[{'label': 'negative', 'score': 0.14571914076805115}, {'label': 'neutral', 'score': 0.6472944617271423}, {'label': 'positive', 'score': 0.2069864273071289}]\n",
      "[{'label': 'negative', 'score': 0.01755398139357567}, {'label': 'neutral', 'score': 0.46021905541419983}, {'label': 'positive', 'score': 0.5222269892692566}]\n",
      "[{'label': 'negative', 'score': 0.01569877378642559}, {'label': 'neutral', 'score': 0.15089377760887146}, {'label': 'positive', 'score': 0.833407461643219}]\n",
      "[{'label': 'negative', 'score': 0.004509881604462862}, {'label': 'neutral', 'score': 0.013664905913174152}, {'label': 'positive', 'score': 0.9818252325057983}]\n",
      "[{'label': 'negative', 'score': 0.18975186347961426}, {'label': 'neutral', 'score': 0.5818204283714294}, {'label': 'positive', 'score': 0.2284277230501175}]\n",
      "[{'label': 'negative', 'score': 0.017345964908599854}, {'label': 'neutral', 'score': 0.25838953256607056}, {'label': 'positive', 'score': 0.7242645025253296}]\n",
      "[{'label': 'negative', 'score': 0.002646657871082425}, {'label': 'neutral', 'score': 0.046142056584358215}, {'label': 'positive', 'score': 0.9512113332748413}]\n",
      "[{'label': 'negative', 'score': 0.0028063606005162}, {'label': 'neutral', 'score': 0.03029230609536171}, {'label': 'positive', 'score': 0.9669013619422913}]\n",
      "[{'label': 'negative', 'score': 0.0041563971899449825}, {'label': 'neutral', 'score': 0.07024750113487244}, {'label': 'positive', 'score': 0.9255961179733276}]\n",
      "[{'label': 'negative', 'score': 0.0030225212685763836}, {'label': 'neutral', 'score': 0.01580476574599743}, {'label': 'positive', 'score': 0.9811727404594421}]\n",
      "[{'label': 'negative', 'score': 0.31374478340148926}, {'label': 'neutral', 'score': 0.6012538075447083}, {'label': 'positive', 'score': 0.08500147610902786}]\n",
      "[{'label': 'negative', 'score': 0.93316650390625}, {'label': 'neutral', 'score': 0.06172061711549759}, {'label': 'positive', 'score': 0.005112925544381142}]\n",
      "[{'label': 'negative', 'score': 0.0747450441122055}, {'label': 'neutral', 'score': 0.7896884679794312}, {'label': 'positive', 'score': 0.13556639850139618}]\n",
      "[{'label': 'negative', 'score': 0.15621094405651093}, {'label': 'neutral', 'score': 0.6163776516914368}, {'label': 'positive', 'score': 0.2274113893508911}]\n",
      "[{'label': 'negative', 'score': 0.5836475491523743}, {'label': 'neutral', 'score': 0.39025771617889404}, {'label': 'positive', 'score': 0.026094764471054077}]\n",
      "[{'label': 'negative', 'score': 0.6279878616333008}, {'label': 'neutral', 'score': 0.31964194774627686}, {'label': 'positive', 'score': 0.052370116114616394}]\n",
      "[{'label': 'negative', 'score': 0.0030973698012530804}, {'label': 'neutral', 'score': 0.03399467095732689}, {'label': 'positive', 'score': 0.9629080295562744}]\n",
      "[{'label': 'negative', 'score': 0.1939307153224945}, {'label': 'neutral', 'score': 0.3809301555156708}, {'label': 'positive', 'score': 0.4251391589641571}]\n",
      "[{'label': 'negative', 'score': 0.06459031254053116}, {'label': 'neutral', 'score': 0.45281660556793213}, {'label': 'positive', 'score': 0.4825930893421173}]\n",
      "[{'label': 'negative', 'score': 0.009087331593036652}, {'label': 'neutral', 'score': 0.26882779598236084}, {'label': 'positive', 'score': 0.7220848202705383}]\n",
      "[{'label': 'negative', 'score': 0.002999603282660246}, {'label': 'neutral', 'score': 0.013585473410785198}, {'label': 'positive', 'score': 0.9834149479866028}]\n",
      "[{'label': 'negative', 'score': 0.013082296587526798}, {'label': 'neutral', 'score': 0.2103244513273239}, {'label': 'positive', 'score': 0.7765932679176331}]\n",
      "[{'label': 'negative', 'score': 0.4248588979244232}, {'label': 'neutral', 'score': 0.5456258654594421}, {'label': 'positive', 'score': 0.029515288770198822}]\n"
     ]
    },
    {
     "name": "stderr",
     "output_type": "stream",
     "text": [
      " 50%|███████████████████████████████████████▋                                       | 535/1066 [00:04<00:03, 142.16it/s]"
     ]
    },
    {
     "name": "stdout",
     "output_type": "stream",
     "text": [
      "[{'label': 'negative', 'score': 0.02254241518676281}, {'label': 'neutral', 'score': 0.7241371273994446}, {'label': 'positive', 'score': 0.25332045555114746}]\n",
      "[{'label': 'negative', 'score': 0.006823651026934385}, {'label': 'neutral', 'score': 0.08737628906965256}, {'label': 'positive', 'score': 0.9058000445365906}]\n",
      "[{'label': 'negative', 'score': 0.15396898984909058}, {'label': 'neutral', 'score': 0.6720110177993774}, {'label': 'positive', 'score': 0.17401999235153198}]\n",
      "[{'label': 'negative', 'score': 0.010947859846055508}, {'label': 'neutral', 'score': 0.20722608268260956}, {'label': 'positive', 'score': 0.7818261384963989}]\n",
      "[{'label': 'negative', 'score': 0.20999455451965332}, {'label': 'neutral', 'score': 0.6360502243041992}, {'label': 'positive', 'score': 0.15395526587963104}]\n",
      "[{'label': 'negative', 'score': 0.16171546280384064}, {'label': 'neutral', 'score': 0.44378918409347534}, {'label': 'positive', 'score': 0.3944953680038452}]\n",
      "[{'label': 'negative', 'score': 0.005782427731901407}, {'label': 'neutral', 'score': 0.028734836727380753}, {'label': 'positive', 'score': 0.9654827117919922}]\n",
      "[{'label': 'negative', 'score': 0.030146194621920586}, {'label': 'neutral', 'score': 0.16086900234222412}, {'label': 'positive', 'score': 0.8089848160743713}]\n",
      "[{'label': 'negative', 'score': 0.8554771542549133}, {'label': 'neutral', 'score': 0.12359003722667694}, {'label': 'positive', 'score': 0.02093280293047428}]\n",
      "[{'label': 'negative', 'score': 0.8852244019508362}, {'label': 'neutral', 'score': 0.0931500717997551}, {'label': 'positive', 'score': 0.021625502035021782}]\n",
      "[{'label': 'negative', 'score': 0.008791407570242882}, {'label': 'neutral', 'score': 0.05927881598472595}, {'label': 'positive', 'score': 0.9319297075271606}]\n",
      "[{'label': 'negative', 'score': 0.027243249118328094}, {'label': 'neutral', 'score': 0.25933268666267395}, {'label': 'positive', 'score': 0.7134240865707397}]\n",
      "[{'label': 'negative', 'score': 0.06829596310853958}, {'label': 'neutral', 'score': 0.8465803265571594}, {'label': 'positive', 'score': 0.08512374013662338}]\n",
      "[{'label': 'negative', 'score': 0.02918885089457035}, {'label': 'neutral', 'score': 0.8471373319625854}, {'label': 'positive', 'score': 0.12367374449968338}]\n",
      "[{'label': 'negative', 'score': 0.006313493475317955}, {'label': 'neutral', 'score': 0.23707228899002075}, {'label': 'positive', 'score': 0.7566142082214355}]\n",
      "[{'label': 'negative', 'score': 0.006777646020054817}, {'label': 'neutral', 'score': 0.21292510628700256}, {'label': 'positive', 'score': 0.7802972197532654}]\n",
      "[{'label': 'negative', 'score': 0.037707503885030746}, {'label': 'neutral', 'score': 0.6740486025810242}, {'label': 'positive', 'score': 0.28824383020401}]\n",
      "[{'label': 'negative', 'score': 0.0040570953860878944}, {'label': 'neutral', 'score': 0.009423939511179924}, {'label': 'positive', 'score': 0.9865190386772156}]\n",
      "[{'label': 'negative', 'score': 0.005176720209419727}, {'label': 'neutral', 'score': 0.581459641456604}, {'label': 'positive', 'score': 0.41336363554000854}]\n",
      "[{'label': 'negative', 'score': 0.00400883425027132}, {'label': 'neutral', 'score': 0.04108469560742378}, {'label': 'positive', 'score': 0.9549064636230469}]\n",
      "[{'label': 'negative', 'score': 0.01309866551309824}, {'label': 'neutral', 'score': 0.5400851964950562}, {'label': 'positive', 'score': 0.446816086769104}]\n",
      "[{'label': 'negative', 'score': 0.006150222849100828}, {'label': 'neutral', 'score': 0.08781873434782028}, {'label': 'positive', 'score': 0.9060310125350952}]\n",
      "[{'label': 'negative', 'score': 0.0023662669118493795}, {'label': 'neutral', 'score': 0.06282281130552292}, {'label': 'positive', 'score': 0.9348109364509583}]\n",
      "[{'label': 'negative', 'score': 0.004970606416463852}, {'label': 'neutral', 'score': 0.020355893298983574}, {'label': 'positive', 'score': 0.9746734499931335}]\n",
      "[{'label': 'negative', 'score': 0.0031790530774742365}, {'label': 'neutral', 'score': 0.019935524091124535}, {'label': 'positive', 'score': 0.9768854379653931}]\n",
      "[{'label': 'negative', 'score': 0.22648738324642181}, {'label': 'neutral', 'score': 0.6724802851676941}, {'label': 'positive', 'score': 0.1010323017835617}]\n",
      "[{'label': 'negative', 'score': 0.8541083335876465}, {'label': 'neutral', 'score': 0.13948558270931244}, {'label': 'positive', 'score': 0.006406017113476992}]\n",
      "[{'label': 'negative', 'score': 0.005326592829078436}, {'label': 'neutral', 'score': 0.05160147696733475}, {'label': 'positive', 'score': 0.9430719614028931}]\n"
     ]
    },
    {
     "name": "stderr",
     "output_type": "stream",
     "text": [
      " 52%|████████████████████████████████████████▊                                      | 551/1066 [00:04<00:03, 144.89it/s]"
     ]
    },
    {
     "name": "stdout",
     "output_type": "stream",
     "text": [
      "[{'label': 'negative', 'score': 0.20883767306804657}, {'label': 'neutral', 'score': 0.6762638688087463}, {'label': 'positive', 'score': 0.1148984432220459}]\n",
      "[{'label': 'negative', 'score': 0.3564300835132599}, {'label': 'neutral', 'score': 0.5906151533126831}, {'label': 'positive', 'score': 0.052954692393541336}]\n",
      "[{'label': 'negative', 'score': 0.9043664336204529}, {'label': 'neutral', 'score': 0.08999861776828766}, {'label': 'positive', 'score': 0.005634929519146681}]\n",
      "[{'label': 'negative', 'score': 0.23732617497444153}, {'label': 'neutral', 'score': 0.5875405669212341}, {'label': 'positive', 'score': 0.17513324320316315}]\n",
      "[{'label': 'negative', 'score': 0.849965512752533}, {'label': 'neutral', 'score': 0.14141716063022614}, {'label': 'positive', 'score': 0.008617316372692585}]\n",
      "[{'label': 'negative', 'score': 0.18202278017997742}, {'label': 'neutral', 'score': 0.7454066872596741}, {'label': 'positive', 'score': 0.07257046550512314}]\n",
      "[{'label': 'negative', 'score': 0.3359195291996002}, {'label': 'neutral', 'score': 0.5655982494354248}, {'label': 'positive', 'score': 0.09848218411207199}]\n",
      "[{'label': 'negative', 'score': 0.8904617428779602}, {'label': 'neutral', 'score': 0.09902285039424896}, {'label': 'positive', 'score': 0.010515442118048668}]\n",
      "[{'label': 'negative', 'score': 0.8790490031242371}, {'label': 'neutral', 'score': 0.11414515227079391}, {'label': 'positive', 'score': 0.006805894430726767}]\n",
      "[{'label': 'negative', 'score': 0.06574433296918869}, {'label': 'neutral', 'score': 0.6894844174385071}, {'label': 'positive', 'score': 0.24477127194404602}]\n",
      "[{'label': 'negative', 'score': 0.047626737505197525}, {'label': 'neutral', 'score': 0.2983945608139038}, {'label': 'positive', 'score': 0.6539786458015442}]\n",
      "[{'label': 'negative', 'score': 0.5033366680145264}, {'label': 'neutral', 'score': 0.43457022309303284}, {'label': 'positive', 'score': 0.062093112617731094}]\n",
      "[{'label': 'negative', 'score': 0.7155170440673828}, {'label': 'neutral', 'score': 0.2707633674144745}, {'label': 'positive', 'score': 0.01371960248798132}]\n",
      "[{'label': 'negative', 'score': 0.03668079152703285}, {'label': 'neutral', 'score': 0.14065422117710114}, {'label': 'positive', 'score': 0.8226649761199951}]\n",
      "[{'label': 'negative', 'score': 0.46345147490501404}, {'label': 'neutral', 'score': 0.5042126178741455}, {'label': 'positive', 'score': 0.03233591467142105}]\n",
      "[{'label': 'negative', 'score': 0.8411154747009277}, {'label': 'neutral', 'score': 0.15082113444805145}, {'label': 'positive', 'score': 0.008063418790698051}]\n",
      "[{'label': 'negative', 'score': 0.27342334389686584}, {'label': 'neutral', 'score': 0.6526004076004028}, {'label': 'positive', 'score': 0.07397622615098953}]\n",
      "[{'label': 'negative', 'score': 0.7811362147331238}, {'label': 'neutral', 'score': 0.20532064139842987}, {'label': 'positive', 'score': 0.013543125241994858}]\n",
      "[{'label': 'negative', 'score': 0.9274672269821167}, {'label': 'neutral', 'score': 0.06886998564004898}, {'label': 'positive', 'score': 0.0036628013476729393}]\n",
      "[{'label': 'negative', 'score': 0.8981384038925171}, {'label': 'neutral', 'score': 0.09618601202964783}, {'label': 'positive', 'score': 0.005675566848367453}]\n",
      "[{'label': 'negative', 'score': 0.927751362323761}, {'label': 'neutral', 'score': 0.06647754460573196}, {'label': 'positive', 'score': 0.005771096795797348}]\n",
      "[{'label': 'negative', 'score': 0.7327813506126404}, {'label': 'neutral', 'score': 0.20241598784923553}, {'label': 'positive', 'score': 0.06480267643928528}]\n",
      "[{'label': 'negative', 'score': 0.13171668350696564}, {'label': 'neutral', 'score': 0.2559365928173065}, {'label': 'positive', 'score': 0.6123467087745667}]\n",
      "[{'label': 'negative', 'score': 0.7155113816261292}, {'label': 'neutral', 'score': 0.27192461490631104}, {'label': 'positive', 'score': 0.012564047239720821}]\n",
      "[{'label': 'negative', 'score': 0.4326249361038208}, {'label': 'neutral', 'score': 0.34225890040397644}, {'label': 'positive', 'score': 0.22511614859104156}]\n",
      "[{'label': 'negative', 'score': 0.7780522108078003}, {'label': 'neutral', 'score': 0.21188098192214966}, {'label': 'positive', 'score': 0.010066809132695198}]\n",
      "[{'label': 'negative', 'score': 0.37351879477500916}, {'label': 'neutral', 'score': 0.588596761226654}, {'label': 'positive', 'score': 0.037884410470724106}]\n",
      "[{'label': 'negative', 'score': 0.6220979690551758}, {'label': 'neutral', 'score': 0.3538469076156616}, {'label': 'positive', 'score': 0.02405511774122715}]\n",
      "[{'label': 'negative', 'score': 0.8703247904777527}, {'label': 'neutral', 'score': 0.12001989781856537}, {'label': 'positive', 'score': 0.009655335918068886}]\n"
     ]
    },
    {
     "name": "stderr",
     "output_type": "stream",
     "text": [
      " 55%|███████████████████████████████████████████                                    | 581/1066 [00:04<00:03, 138.08it/s]"
     ]
    },
    {
     "name": "stdout",
     "output_type": "stream",
     "text": [
      "[{'label': 'negative', 'score': 0.9267798662185669}, {'label': 'neutral', 'score': 0.06543707102537155}, {'label': 'positive', 'score': 0.007783018983900547}]\n",
      "[{'label': 'negative', 'score': 0.18755917251110077}, {'label': 'neutral', 'score': 0.7297358512878418}, {'label': 'positive', 'score': 0.08270501345396042}]\n",
      "[{'label': 'negative', 'score': 0.9011212587356567}, {'label': 'neutral', 'score': 0.09305215626955032}, {'label': 'positive', 'score': 0.0058265570551157}]\n",
      "[{'label': 'negative', 'score': 0.10798872262239456}, {'label': 'neutral', 'score': 0.7271686792373657}, {'label': 'positive', 'score': 0.16484256088733673}]\n",
      "[{'label': 'negative', 'score': 0.6104421019554138}, {'label': 'neutral', 'score': 0.36057087779045105}, {'label': 'positive', 'score': 0.028987009078264236}]\n",
      "[{'label': 'negative', 'score': 0.6926247477531433}, {'label': 'neutral', 'score': 0.27163729071617126}, {'label': 'positive', 'score': 0.03573795035481453}]\n",
      "[{'label': 'negative', 'score': 0.8523380756378174}, {'label': 'neutral', 'score': 0.13924086093902588}, {'label': 'positive', 'score': 0.00842101126909256}]\n",
      "[{'label': 'negative', 'score': 0.8888024091720581}, {'label': 'neutral', 'score': 0.10006214678287506}, {'label': 'positive', 'score': 0.01113534439355135}]\n",
      "[{'label': 'negative', 'score': 0.9480050206184387}, {'label': 'neutral', 'score': 0.047725360840559006}, {'label': 'positive', 'score': 0.004269646480679512}]\n",
      "[{'label': 'negative', 'score': 0.363675057888031}, {'label': 'neutral', 'score': 0.5571792721748352}, {'label': 'positive', 'score': 0.07914569973945618}]\n",
      "[{'label': 'negative', 'score': 0.5668429732322693}, {'label': 'neutral', 'score': 0.3130149245262146}, {'label': 'positive', 'score': 0.12014205753803253}]\n",
      "[{'label': 'negative', 'score': 0.21187475323677063}, {'label': 'neutral', 'score': 0.6559985280036926}, {'label': 'positive', 'score': 0.13212674856185913}]\n",
      "[{'label': 'negative', 'score': 0.9252366423606873}, {'label': 'neutral', 'score': 0.06922569870948792}, {'label': 'positive', 'score': 0.005537678953260183}]\n",
      "[{'label': 'negative', 'score': 0.8472707867622375}, {'label': 'neutral', 'score': 0.14482922852039337}, {'label': 'positive', 'score': 0.007900064811110497}]\n",
      "[{'label': 'negative', 'score': 0.3382156491279602}, {'label': 'neutral', 'score': 0.36990731954574585}, {'label': 'positive', 'score': 0.29187703132629395}]\n",
      "[{'label': 'negative', 'score': 0.5096283555030823}, {'label': 'neutral', 'score': 0.4567195177078247}, {'label': 'positive', 'score': 0.033652111887931824}]\n",
      "[{'label': 'negative', 'score': 0.8354754447937012}, {'label': 'neutral', 'score': 0.1487882286310196}, {'label': 'positive', 'score': 0.015736309811472893}]\n",
      "[{'label': 'negative', 'score': 0.3655060827732086}, {'label': 'neutral', 'score': 0.589968204498291}, {'label': 'positive', 'score': 0.04452572762966156}]\n",
      "[{'label': 'negative', 'score': 0.8302124738693237}, {'label': 'neutral', 'score': 0.16140837967395782}, {'label': 'positive', 'score': 0.008379093371331692}]\n",
      "[{'label': 'negative', 'score': 0.3029745817184448}, {'label': 'neutral', 'score': 0.533855676651001}, {'label': 'positive', 'score': 0.1631697416305542}]\n",
      "[{'label': 'negative', 'score': 0.9270939826965332}, {'label': 'neutral', 'score': 0.06507860124111176}, {'label': 'positive', 'score': 0.007827329449355602}]\n",
      "[{'label': 'negative', 'score': 0.8469013571739197}, {'label': 'neutral', 'score': 0.1378416270017624}, {'label': 'positive', 'score': 0.015256906859576702}]\n",
      "[{'label': 'negative', 'score': 0.49913400411605835}, {'label': 'neutral', 'score': 0.47871288657188416}, {'label': 'positive', 'score': 0.02215314470231533}]\n",
      "[{'label': 'negative', 'score': 0.10554742813110352}, {'label': 'neutral', 'score': 0.296631395816803}, {'label': 'positive', 'score': 0.5978211164474487}]\n",
      "[{'label': 'negative', 'score': 0.9243223667144775}, {'label': 'neutral', 'score': 0.07091221958398819}, {'label': 'positive', 'score': 0.004765348508954048}]\n",
      "[{'label': 'negative', 'score': 0.6425939202308655}, {'label': 'neutral', 'score': 0.31258752942085266}, {'label': 'positive', 'score': 0.04481857270002365}]\n",
      "[{'label': 'negative', 'score': 0.9251390695571899}, {'label': 'neutral', 'score': 0.06924150884151459}, {'label': 'positive', 'score': 0.005619381088763475}]\n"
     ]
    },
    {
     "name": "stderr",
     "output_type": "stream",
     "text": [
      " 57%|█████████████████████████████████████████████▎                                 | 611/1066 [00:04<00:03, 140.16it/s]"
     ]
    },
    {
     "name": "stdout",
     "output_type": "stream",
     "text": [
      "[{'label': 'negative', 'score': 0.07598680257797241}, {'label': 'neutral', 'score': 0.3734651207923889}, {'label': 'positive', 'score': 0.5505480170249939}]\n",
      "[{'label': 'negative', 'score': 0.9488274455070496}, {'label': 'neutral', 'score': 0.046017397195100784}, {'label': 'positive', 'score': 0.005155146587640047}]\n",
      "[{'label': 'negative', 'score': 0.2415386438369751}, {'label': 'neutral', 'score': 0.6687232255935669}, {'label': 'positive', 'score': 0.08973807841539383}]\n",
      "[{'label': 'negative', 'score': 0.24839739501476288}, {'label': 'neutral', 'score': 0.7244324684143066}, {'label': 'positive', 'score': 0.02717011608183384}]\n",
      "[{'label': 'negative', 'score': 0.7118676900863647}, {'label': 'neutral', 'score': 0.203474760055542}, {'label': 'positive', 'score': 0.08465758711099625}]\n",
      "[{'label': 'negative', 'score': 0.5370849967002869}, {'label': 'neutral', 'score': 0.39637622237205505}, {'label': 'positive', 'score': 0.06653878837823868}]\n",
      "[{'label': 'negative', 'score': 0.866519570350647}, {'label': 'neutral', 'score': 0.12279309332370758}, {'label': 'positive', 'score': 0.01068736519664526}]\n",
      "[{'label': 'negative', 'score': 0.09526374191045761}, {'label': 'neutral', 'score': 0.5206837058067322}, {'label': 'positive', 'score': 0.384052574634552}]\n",
      "[{'label': 'negative', 'score': 0.1982521265745163}, {'label': 'neutral', 'score': 0.6870506405830383}, {'label': 'positive', 'score': 0.11469723284244537}]\n",
      "[{'label': 'negative', 'score': 0.9432651400566101}, {'label': 'neutral', 'score': 0.05015840753912926}, {'label': 'positive', 'score': 0.006576403509825468}]\n",
      "[{'label': 'negative', 'score': 0.8032909035682678}, {'label': 'neutral', 'score': 0.16988347470760345}, {'label': 'positive', 'score': 0.02682557702064514}]\n",
      "[{'label': 'negative', 'score': 0.018528658896684647}, {'label': 'neutral', 'score': 0.7441877126693726}, {'label': 'positive', 'score': 0.23728367686271667}]\n",
      "[{'label': 'negative', 'score': 0.0072034383192658424}, {'label': 'neutral', 'score': 0.09989935904741287}, {'label': 'positive', 'score': 0.8928971290588379}]\n",
      "[{'label': 'negative', 'score': 0.9039646983146667}, {'label': 'neutral', 'score': 0.08922897279262543}, {'label': 'positive', 'score': 0.006806292105466127}]\n",
      "[{'label': 'negative', 'score': 0.690560519695282}, {'label': 'neutral', 'score': 0.29396679997444153}, {'label': 'positive', 'score': 0.015472659841179848}]\n",
      "[{'label': 'negative', 'score': 0.941364586353302}, {'label': 'neutral', 'score': 0.054115865379571915}, {'label': 'positive', 'score': 0.004519564565271139}]\n",
      "[{'label': 'negative', 'score': 0.019403455778956413}, {'label': 'neutral', 'score': 0.2427707016468048}, {'label': 'positive', 'score': 0.7378258109092712}]\n",
      "[{'label': 'negative', 'score': 0.6330440640449524}, {'label': 'neutral', 'score': 0.3463651239871979}, {'label': 'positive', 'score': 0.020590757951140404}]\n",
      "[{'label': 'negative', 'score': 0.01550599467009306}, {'label': 'neutral', 'score': 0.16313378512859344}, {'label': 'positive', 'score': 0.8213602304458618}]\n",
      "[{'label': 'negative', 'score': 0.6914393305778503}, {'label': 'neutral', 'score': 0.2936902344226837}, {'label': 'positive', 'score': 0.014870373532176018}]\n",
      "[{'label': 'negative', 'score': 0.14533093571662903}, {'label': 'neutral', 'score': 0.43318694829940796}, {'label': 'positive', 'score': 0.421482115983963}]\n",
      "[{'label': 'negative', 'score': 0.6929920315742493}, {'label': 'neutral', 'score': 0.2895180583000183}, {'label': 'positive', 'score': 0.017489958554506302}]\n",
      "[{'label': 'negative', 'score': 0.8855524659156799}, {'label': 'neutral', 'score': 0.10667762160301208}, {'label': 'positive', 'score': 0.007769930642098188}]\n",
      "[{'label': 'negative', 'score': 0.09422093629837036}, {'label': 'neutral', 'score': 0.5519737005233765}, {'label': 'positive', 'score': 0.35380539298057556}]\n",
      "[{'label': 'negative', 'score': 0.2859901785850525}, {'label': 'neutral', 'score': 0.6266582012176514}, {'label': 'positive', 'score': 0.08735163509845734}]\n",
      "[{'label': 'negative', 'score': 0.3071923851966858}, {'label': 'neutral', 'score': 0.5935882329940796}, {'label': 'positive', 'score': 0.09921938180923462}]\n",
      "[{'label': 'negative', 'score': 0.9131876230239868}, {'label': 'neutral', 'score': 0.08071180433034897}, {'label': 'positive', 'score': 0.006100676953792572}]\n",
      "[{'label': 'negative', 'score': 0.8126859068870544}, {'label': 'neutral', 'score': 0.17610423266887665}, {'label': 'positive', 'score': 0.011209893971681595}]\n",
      "[{'label': 'negative', 'score': 0.9140845537185669}, {'label': 'neutral', 'score': 0.07907816022634506}, {'label': 'positive', 'score': 0.0068372637033462524}]\n"
     ]
    },
    {
     "name": "stderr",
     "output_type": "stream",
     "text": [
      " 60%|███████████████████████████████████████████████▌                               | 641/1066 [00:05<00:03, 140.76it/s]"
     ]
    },
    {
     "name": "stdout",
     "output_type": "stream",
     "text": [
      "[{'label': 'negative', 'score': 0.837778627872467}, {'label': 'neutral', 'score': 0.15211798250675201}, {'label': 'positive', 'score': 0.010103398934006691}]\n",
      "[{'label': 'negative', 'score': 0.1923004388809204}, {'label': 'neutral', 'score': 0.645233690738678}, {'label': 'positive', 'score': 0.1624658703804016}]\n",
      "[{'label': 'negative', 'score': 0.9315587282180786}, {'label': 'neutral', 'score': 0.06048503890633583}, {'label': 'positive', 'score': 0.007956251502037048}]\n",
      "[{'label': 'negative', 'score': 0.8844042420387268}, {'label': 'neutral', 'score': 0.10695963352918625}, {'label': 'positive', 'score': 0.00863617192953825}]\n",
      "[{'label': 'negative', 'score': 0.9194133877754211}, {'label': 'neutral', 'score': 0.07382629811763763}, {'label': 'positive', 'score': 0.0067603145726025105}]\n",
      "[{'label': 'negative', 'score': 0.6087252497673035}, {'label': 'neutral', 'score': 0.33064812421798706}, {'label': 'positive', 'score': 0.060626622289419174}]\n",
      "[{'label': 'negative', 'score': 0.932238757610321}, {'label': 'neutral', 'score': 0.059003185480833054}, {'label': 'positive', 'score': 0.008758006617426872}]\n",
      "[{'label': 'negative', 'score': 0.9085699915885925}, {'label': 'neutral', 'score': 0.08371446281671524}, {'label': 'positive', 'score': 0.0077155898325145245}]\n",
      "[{'label': 'negative', 'score': 0.3433106243610382}, {'label': 'neutral', 'score': 0.5184779763221741}, {'label': 'positive', 'score': 0.13821135461330414}]\n",
      "[{'label': 'negative', 'score': 0.6146080493927002}, {'label': 'neutral', 'score': 0.3119153678417206}, {'label': 'positive', 'score': 0.0734766349196434}]\n",
      "[{'label': 'negative', 'score': 0.8287672400474548}, {'label': 'neutral', 'score': 0.1618872433900833}, {'label': 'positive', 'score': 0.009345471858978271}]\n",
      "[{'label': 'negative', 'score': 0.3129746615886688}, {'label': 'neutral', 'score': 0.6543465256690979}, {'label': 'positive', 'score': 0.03267882764339447}]\n",
      "[{'label': 'negative', 'score': 0.07939150184392929}, {'label': 'neutral', 'score': 0.6772881150245667}, {'label': 'positive', 'score': 0.24332037568092346}]\n",
      "[{'label': 'negative', 'score': 0.004781658761203289}, {'label': 'neutral', 'score': 0.10459519177675247}, {'label': 'positive', 'score': 0.8906230926513672}]\n",
      "[{'label': 'negative', 'score': 0.8429849147796631}, {'label': 'neutral', 'score': 0.14859789609909058}, {'label': 'positive', 'score': 0.008417136035859585}]\n",
      "[{'label': 'negative', 'score': 0.8955010771751404}, {'label': 'neutral', 'score': 0.09256549924612045}, {'label': 'positive', 'score': 0.011933347210288048}]\n",
      "[{'label': 'negative', 'score': 0.8736305236816406}, {'label': 'neutral', 'score': 0.1200830489397049}, {'label': 'positive', 'score': 0.006286454387009144}]\n",
      "[{'label': 'negative', 'score': 0.20271317660808563}, {'label': 'neutral', 'score': 0.5435882210731506}, {'label': 'positive', 'score': 0.25369852781295776}]\n",
      "[{'label': 'negative', 'score': 0.4138265550136566}, {'label': 'neutral', 'score': 0.5571008324623108}, {'label': 'positive', 'score': 0.029072627425193787}]\n",
      "[{'label': 'negative', 'score': 0.8881314992904663}, {'label': 'neutral', 'score': 0.10559432953596115}, {'label': 'positive', 'score': 0.006274223327636719}]\n",
      "[{'label': 'negative', 'score': 0.8509538769721985}, {'label': 'neutral', 'score': 0.13788479566574097}, {'label': 'positive', 'score': 0.011161276139318943}]\n",
      "[{'label': 'negative', 'score': 0.6202945113182068}, {'label': 'neutral', 'score': 0.3677861988544464}, {'label': 'positive', 'score': 0.011919279582798481}]\n",
      "[{'label': 'negative', 'score': 0.39987069368362427}, {'label': 'neutral', 'score': 0.5536527037620544}, {'label': 'positive', 'score': 0.04647662118077278}]\n",
      "[{'label': 'negative', 'score': 0.38044747710227966}, {'label': 'neutral', 'score': 0.5309581160545349}, {'label': 'positive', 'score': 0.08859437704086304}]\n",
      "[{'label': 'negative', 'score': 0.633724570274353}, {'label': 'neutral', 'score': 0.34964248538017273}, {'label': 'positive', 'score': 0.01663295552134514}]\n",
      "[{'label': 'negative', 'score': 0.5563892126083374}, {'label': 'neutral', 'score': 0.4143834710121155}, {'label': 'positive', 'score': 0.029227327555418015}]\n",
      "[{'label': 'negative', 'score': 0.8305994272232056}, {'label': 'neutral', 'score': 0.15220846235752106}, {'label': 'positive', 'score': 0.017192063853144646}]\n"
     ]
    },
    {
     "name": "stderr",
     "output_type": "stream",
     "text": [
      " 63%|█████████████████████████████████████████████████▋                             | 670/1066 [00:05<00:02, 132.81it/s]"
     ]
    },
    {
     "name": "stdout",
     "output_type": "stream",
     "text": [
      "[{'label': 'negative', 'score': 0.8781972527503967}, {'label': 'neutral', 'score': 0.11092232912778854}, {'label': 'positive', 'score': 0.010880311951041222}]\n",
      "[{'label': 'negative', 'score': 0.6987184882164001}, {'label': 'neutral', 'score': 0.2617523968219757}, {'label': 'positive', 'score': 0.03952915221452713}]\n",
      "[{'label': 'negative', 'score': 0.8012266755104065}, {'label': 'neutral', 'score': 0.1803460568189621}, {'label': 'positive', 'score': 0.018427295610308647}]\n",
      "[{'label': 'negative', 'score': 0.5651645660400391}, {'label': 'neutral', 'score': 0.3893389105796814}, {'label': 'positive', 'score': 0.04549654945731163}]\n",
      "[{'label': 'negative', 'score': 0.9295215010643005}, {'label': 'neutral', 'score': 0.06570136547088623}, {'label': 'positive', 'score': 0.004777169786393642}]\n",
      "[{'label': 'negative', 'score': 0.8467281460762024}, {'label': 'neutral', 'score': 0.145737424492836}, {'label': 'positive', 'score': 0.007534411270171404}]\n",
      "[{'label': 'negative', 'score': 0.8853058218955994}, {'label': 'neutral', 'score': 0.10770592093467712}, {'label': 'positive', 'score': 0.006988306529819965}]\n",
      "[{'label': 'negative', 'score': 0.20044033229351044}, {'label': 'neutral', 'score': 0.6007667779922485}, {'label': 'positive', 'score': 0.19879290461540222}]\n",
      "[{'label': 'negative', 'score': 0.4623749554157257}, {'label': 'neutral', 'score': 0.43842950463294983}, {'label': 'positive', 'score': 0.09919553250074387}]\n",
      "[{'label': 'negative', 'score': 0.8428376317024231}, {'label': 'neutral', 'score': 0.14680828154087067}, {'label': 'positive', 'score': 0.010354052297770977}]\n",
      "[{'label': 'negative', 'score': 0.9160491228103638}, {'label': 'neutral', 'score': 0.07620031386613846}, {'label': 'positive', 'score': 0.007750548422336578}]\n",
      "[{'label': 'negative', 'score': 0.8748433589935303}, {'label': 'neutral', 'score': 0.11729330569505692}, {'label': 'positive', 'score': 0.00786331295967102}]\n",
      "[{'label': 'negative', 'score': 0.6099110245704651}, {'label': 'neutral', 'score': 0.3643778860569}, {'label': 'positive', 'score': 0.025711119174957275}]\n",
      "[{'label': 'negative', 'score': 0.9393985271453857}, {'label': 'neutral', 'score': 0.05381812900304794}, {'label': 'positive', 'score': 0.006783387158066034}]\n",
      "[{'label': 'negative', 'score': 0.9106407761573792}, {'label': 'neutral', 'score': 0.08323811739683151}, {'label': 'positive', 'score': 0.0061210826970636845}]\n",
      "[{'label': 'negative', 'score': 0.43763259053230286}, {'label': 'neutral', 'score': 0.39642608165740967}, {'label': 'positive', 'score': 0.1659412682056427}]\n",
      "[{'label': 'negative', 'score': 0.3242592513561249}, {'label': 'neutral', 'score': 0.6586766839027405}, {'label': 'positive', 'score': 0.017064034938812256}]\n",
      "[{'label': 'negative', 'score': 0.3647858500480652}, {'label': 'neutral', 'score': 0.5769867897033691}, {'label': 'positive', 'score': 0.05822734534740448}]\n",
      "[{'label': 'negative', 'score': 0.9371470808982849}, {'label': 'neutral', 'score': 0.055410899221897125}, {'label': 'positive', 'score': 0.007442011032253504}]\n",
      "[{'label': 'negative', 'score': 0.9342918992042542}, {'label': 'neutral', 'score': 0.06034871190786362}, {'label': 'positive', 'score': 0.005359448492527008}]\n",
      "[{'label': 'negative', 'score': 0.9139423370361328}, {'label': 'neutral', 'score': 0.07416073232889175}, {'label': 'positive', 'score': 0.01189692597836256}]\n",
      "[{'label': 'negative', 'score': 0.9265514612197876}, {'label': 'neutral', 'score': 0.06788087636232376}, {'label': 'positive', 'score': 0.005567625164985657}]\n",
      "[{'label': 'negative', 'score': 0.7195340394973755}, {'label': 'neutral', 'score': 0.23479606211185455}, {'label': 'positive', 'score': 0.04566989839076996}]\n",
      "[{'label': 'negative', 'score': 0.903066873550415}, {'label': 'neutral', 'score': 0.08785196393728256}, {'label': 'positive', 'score': 0.00908113457262516}]\n",
      "[{'label': 'negative', 'score': 0.15355786681175232}, {'label': 'neutral', 'score': 0.7801552414894104}, {'label': 'positive', 'score': 0.06628694385290146}]\n",
      "[{'label': 'negative', 'score': 0.8644668459892273}, {'label': 'neutral', 'score': 0.13010182976722717}, {'label': 'positive', 'score': 0.0054314169101417065}]\n"
     ]
    },
    {
     "name": "stderr",
     "output_type": "stream",
     "text": [
      " 64%|██████████████████████████████████████████████████▋                            | 684/1066 [00:05<00:03, 126.01it/s]"
     ]
    },
    {
     "name": "stdout",
     "output_type": "stream",
     "text": [
      "[{'label': 'negative', 'score': 0.1583186388015747}, {'label': 'neutral', 'score': 0.7681375741958618}, {'label': 'positive', 'score': 0.07354378700256348}]\n",
      "[{'label': 'negative', 'score': 0.7858617305755615}, {'label': 'neutral', 'score': 0.1940809041261673}, {'label': 'positive', 'score': 0.02005741186439991}]\n",
      "[{'label': 'negative', 'score': 0.9385552406311035}, {'label': 'neutral', 'score': 0.055656448006629944}, {'label': 'positive', 'score': 0.005788223817944527}]\n",
      "[{'label': 'negative', 'score': 0.7441864609718323}, {'label': 'neutral', 'score': 0.23447377979755402}, {'label': 'positive', 'score': 0.02133980393409729}]\n",
      "[{'label': 'negative', 'score': 0.8871991634368896}, {'label': 'neutral', 'score': 0.10457240045070648}, {'label': 'positive', 'score': 0.008228395134210587}]\n",
      "[{'label': 'negative', 'score': 0.8899974822998047}, {'label': 'neutral', 'score': 0.10261186957359314}, {'label': 'positive', 'score': 0.007390683051198721}]\n",
      "[{'label': 'negative', 'score': 0.6043701767921448}, {'label': 'neutral', 'score': 0.3388638198375702}, {'label': 'positive', 'score': 0.05676598846912384}]\n",
      "[{'label': 'negative', 'score': 0.3468649387359619}, {'label': 'neutral', 'score': 0.6188870072364807}, {'label': 'positive', 'score': 0.034248027950525284}]\n",
      "[{'label': 'negative', 'score': 0.9037294983863831}, {'label': 'neutral', 'score': 0.09044282138347626}, {'label': 'positive', 'score': 0.005827696993947029}]\n",
      "[{'label': 'negative', 'score': 0.5480827689170837}, {'label': 'neutral', 'score': 0.3493245542049408}, {'label': 'positive', 'score': 0.10259270668029785}]\n",
      "[{'label': 'negative', 'score': 0.7313638925552368}, {'label': 'neutral', 'score': 0.2338927835226059}, {'label': 'positive', 'score': 0.03474327549338341}]\n",
      "[{'label': 'negative', 'score': 0.6356181502342224}, {'label': 'neutral', 'score': 0.3538467288017273}, {'label': 'positive', 'score': 0.010535094887018204}]\n",
      "[{'label': 'negative', 'score': 0.540111780166626}, {'label': 'neutral', 'score': 0.44294193387031555}, {'label': 'positive', 'score': 0.016946278512477875}]\n",
      "[{'label': 'negative', 'score': 0.9267860054969788}, {'label': 'neutral', 'score': 0.06758839637041092}, {'label': 'positive', 'score': 0.005625639110803604}]\n",
      "[{'label': 'negative', 'score': 0.8309534192085266}, {'label': 'neutral', 'score': 0.1562580168247223}, {'label': 'positive', 'score': 0.012788481079041958}]\n",
      "[{'label': 'negative', 'score': 0.7926331162452698}, {'label': 'neutral', 'score': 0.19238722324371338}, {'label': 'positive', 'score': 0.014979647472500801}]\n",
      "[{'label': 'negative', 'score': 0.013201296329498291}, {'label': 'neutral', 'score': 0.06607510149478912}, {'label': 'positive', 'score': 0.9207236170768738}]\n",
      "[{'label': 'negative', 'score': 0.8553137183189392}, {'label': 'neutral', 'score': 0.1367078423500061}, {'label': 'positive', 'score': 0.007978430949151516}]\n",
      "[{'label': 'negative', 'score': 0.0034724159631878138}, {'label': 'neutral', 'score': 0.036127425730228424}, {'label': 'positive', 'score': 0.9604002237319946}]\n",
      "[{'label': 'negative', 'score': 0.37551456689834595}, {'label': 'neutral', 'score': 0.6061818599700928}, {'label': 'positive', 'score': 0.018303535878658295}]\n",
      "[{'label': 'negative', 'score': 0.8356493711471558}, {'label': 'neutral', 'score': 0.15215656161308289}, {'label': 'positive', 'score': 0.012194019742310047}]\n",
      "[{'label': 'negative', 'score': 0.2800469994544983}, {'label': 'neutral', 'score': 0.6440011858940125}, {'label': 'positive', 'score': 0.07595183700323105}]\n",
      "[{'label': 'negative', 'score': 0.7669916749000549}, {'label': 'neutral', 'score': 0.22202274203300476}, {'label': 'positive', 'score': 0.010985574685037136}]\n",
      "[{'label': 'negative', 'score': 0.868681788444519}, {'label': 'neutral', 'score': 0.12300140410661697}, {'label': 'positive', 'score': 0.008316812105476856}]\n"
     ]
    },
    {
     "name": "stderr",
     "output_type": "stream",
     "text": [
      " 67%|████████████████████████████████████████████████████▋                          | 711/1066 [00:05<00:02, 126.09it/s]"
     ]
    },
    {
     "name": "stdout",
     "output_type": "stream",
     "text": [
      "[{'label': 'negative', 'score': 0.03113637864589691}, {'label': 'neutral', 'score': 0.8406358957290649}, {'label': 'positive', 'score': 0.12822778522968292}]\n",
      "[{'label': 'negative', 'score': 0.1924670785665512}, {'label': 'neutral', 'score': 0.6417447924613953}, {'label': 'positive', 'score': 0.16578808426856995}]\n",
      "[{'label': 'negative', 'score': 0.8603036999702454}, {'label': 'neutral', 'score': 0.12881672382354736}, {'label': 'positive', 'score': 0.010879541747272015}]\n",
      "[{'label': 'negative', 'score': 0.8802533745765686}, {'label': 'neutral', 'score': 0.11371339857578278}, {'label': 'positive', 'score': 0.006033177487552166}]\n",
      "[{'label': 'negative', 'score': 0.8915068507194519}, {'label': 'neutral', 'score': 0.10153082758188248}, {'label': 'positive', 'score': 0.006962370593100786}]\n",
      "[{'label': 'negative', 'score': 0.08965207636356354}, {'label': 'neutral', 'score': 0.8643286824226379}, {'label': 'positive', 'score': 0.04601931944489479}]\n",
      "[{'label': 'negative', 'score': 0.6282245516777039}, {'label': 'neutral', 'score': 0.3572344183921814}, {'label': 'positive', 'score': 0.014541076496243477}]\n",
      "[{'label': 'negative', 'score': 0.8990619778633118}, {'label': 'neutral', 'score': 0.09524290263652802}, {'label': 'positive', 'score': 0.005695101339370012}]\n",
      "[{'label': 'negative', 'score': 0.8339128494262695}, {'label': 'neutral', 'score': 0.15260641276836395}, {'label': 'positive', 'score': 0.013480720110237598}]\n",
      "[{'label': 'negative', 'score': 0.4752492904663086}, {'label': 'neutral', 'score': 0.47938254475593567}, {'label': 'positive', 'score': 0.04536810144782066}]\n",
      "[{'label': 'negative', 'score': 0.9204527735710144}, {'label': 'neutral', 'score': 0.07422865182161331}, {'label': 'positive', 'score': 0.0053186072036623955}]\n",
      "[{'label': 'negative', 'score': 0.35318079590797424}, {'label': 'neutral', 'score': 0.5783442854881287}, {'label': 'positive', 'score': 0.0684749186038971}]\n",
      "[{'label': 'negative', 'score': 0.17351844906806946}, {'label': 'neutral', 'score': 0.7782929539680481}, {'label': 'positive', 'score': 0.04818855598568916}]\n",
      "[{'label': 'negative', 'score': 0.8388804197311401}, {'label': 'neutral', 'score': 0.14974859356880188}, {'label': 'positive', 'score': 0.011370960623025894}]\n",
      "[{'label': 'negative', 'score': 0.39993882179260254}, {'label': 'neutral', 'score': 0.5654230713844299}, {'label': 'positive', 'score': 0.03463815897703171}]\n",
      "[{'label': 'negative', 'score': 0.0029038931243121624}, {'label': 'neutral', 'score': 0.11123690009117126}, {'label': 'positive', 'score': 0.8858591914176941}]\n",
      "[{'label': 'negative', 'score': 0.9485816359519958}, {'label': 'neutral', 'score': 0.046499427407979965}, {'label': 'positive', 'score': 0.004918975755572319}]\n",
      "[{'label': 'negative', 'score': 0.9074539542198181}, {'label': 'neutral', 'score': 0.08625495433807373}, {'label': 'positive', 'score': 0.006291033234447241}]\n",
      "[{'label': 'negative', 'score': 0.5480139255523682}, {'label': 'neutral', 'score': 0.4319659173488617}, {'label': 'positive', 'score': 0.020020153373479843}]\n",
      "[{'label': 'negative', 'score': 0.8439937829971313}, {'label': 'neutral', 'score': 0.1401473432779312}, {'label': 'positive', 'score': 0.015858883038163185}]\n",
      "[{'label': 'negative', 'score': 0.8536690473556519}, {'label': 'neutral', 'score': 0.1317882388830185}, {'label': 'positive', 'score': 0.014542637392878532}]\n",
      "[{'label': 'negative', 'score': 0.510809600353241}, {'label': 'neutral', 'score': 0.4665635824203491}, {'label': 'positive', 'score': 0.022626807913184166}]\n",
      "[{'label': 'negative', 'score': 0.8351362347602844}, {'label': 'neutral', 'score': 0.15554197132587433}, {'label': 'positive', 'score': 0.009321767836809158}]\n",
      "[{'label': 'negative', 'score': 0.8634909391403198}, {'label': 'neutral', 'score': 0.12525056302547455}, {'label': 'positive', 'score': 0.011258500628173351}]\n",
      "[{'label': 'negative', 'score': 0.6432976126670837}, {'label': 'neutral', 'score': 0.3188265264034271}, {'label': 'positive', 'score': 0.037875786423683167}]\n",
      "[{'label': 'negative', 'score': 0.09368869662284851}, {'label': 'neutral', 'score': 0.2784367501735687}, {'label': 'positive', 'score': 0.6278746128082275}]\n",
      "[{'label': 'negative', 'score': 0.6304669380187988}, {'label': 'neutral', 'score': 0.33511024713516235}, {'label': 'positive', 'score': 0.0344228520989418}]\n",
      "[{'label': 'negative', 'score': 0.7607024312019348}, {'label': 'neutral', 'score': 0.22820250689983368}, {'label': 'positive', 'score': 0.011095081456005573}]\n"
     ]
    },
    {
     "name": "stderr",
     "output_type": "stream",
     "text": [
      " 70%|██████████████████████████████████████████████████████▉                        | 741/1066 [00:05<00:02, 135.97it/s]"
     ]
    },
    {
     "name": "stdout",
     "output_type": "stream",
     "text": [
      "[{'label': 'negative', 'score': 0.022054627537727356}, {'label': 'neutral', 'score': 0.18396145105361938}, {'label': 'positive', 'score': 0.7939838767051697}]\n",
      "[{'label': 'negative', 'score': 0.3731757700443268}, {'label': 'neutral', 'score': 0.5640848875045776}, {'label': 'positive', 'score': 0.06273934990167618}]\n",
      "[{'label': 'negative', 'score': 0.43160074949264526}, {'label': 'neutral', 'score': 0.5286926627159119}, {'label': 'positive', 'score': 0.03970656916499138}]\n",
      "[{'label': 'negative', 'score': 0.7326361536979675}, {'label': 'neutral', 'score': 0.23786142468452454}, {'label': 'positive', 'score': 0.02950245887041092}]\n",
      "[{'label': 'negative', 'score': 0.26384273171424866}, {'label': 'neutral', 'score': 0.6797470450401306}, {'label': 'positive', 'score': 0.05641019344329834}]\n",
      "[{'label': 'negative', 'score': 0.045635636895895004}, {'label': 'neutral', 'score': 0.38673922419548035}, {'label': 'positive', 'score': 0.567625105381012}]\n",
      "[{'label': 'negative', 'score': 0.7985164523124695}, {'label': 'neutral', 'score': 0.1914672553539276}, {'label': 'positive', 'score': 0.01001620851457119}]\n",
      "[{'label': 'negative', 'score': 0.05796021223068237}, {'label': 'neutral', 'score': 0.20551705360412598}, {'label': 'positive', 'score': 0.7365227341651917}]\n",
      "[{'label': 'negative', 'score': 0.9159079790115356}, {'label': 'neutral', 'score': 0.07901441305875778}, {'label': 'positive', 'score': 0.005077591631561518}]\n",
      "[{'label': 'negative', 'score': 0.9304221272468567}, {'label': 'neutral', 'score': 0.06546805799007416}, {'label': 'positive', 'score': 0.004109831061214209}]\n",
      "[{'label': 'negative', 'score': 0.15264223515987396}, {'label': 'neutral', 'score': 0.8262743949890137}, {'label': 'positive', 'score': 0.021083371713757515}]\n",
      "[{'label': 'negative', 'score': 0.19398203492164612}, {'label': 'neutral', 'score': 0.6150275468826294}, {'label': 'positive', 'score': 0.19099044799804688}]\n",
      "[{'label': 'negative', 'score': 0.8768067359924316}, {'label': 'neutral', 'score': 0.11540740728378296}, {'label': 'positive', 'score': 0.007785876747220755}]\n",
      "[{'label': 'negative', 'score': 0.3742064833641052}, {'label': 'neutral', 'score': 0.5547719597816467}, {'label': 'positive', 'score': 0.07102153450250626}]\n",
      "[{'label': 'negative', 'score': 0.6777665019035339}, {'label': 'neutral', 'score': 0.30667561292648315}, {'label': 'positive', 'score': 0.015557948499917984}]\n",
      "[{'label': 'negative', 'score': 0.20605553686618805}, {'label': 'neutral', 'score': 0.4248805046081543}, {'label': 'positive', 'score': 0.36906394362449646}]\n",
      "[{'label': 'negative', 'score': 0.8173729777336121}, {'label': 'neutral', 'score': 0.17060305178165436}, {'label': 'positive', 'score': 0.012024031952023506}]\n",
      "[{'label': 'negative', 'score': 0.20335695147514343}, {'label': 'neutral', 'score': 0.7614779472351074}, {'label': 'positive', 'score': 0.03516506403684616}]\n",
      "[{'label': 'negative', 'score': 0.8856548070907593}, {'label': 'neutral', 'score': 0.1027730256319046}, {'label': 'positive', 'score': 0.011572076939046383}]\n",
      "[{'label': 'negative', 'score': 0.29524117708206177}, {'label': 'neutral', 'score': 0.6384016871452332}, {'label': 'positive', 'score': 0.06635714322328568}]\n",
      "[{'label': 'negative', 'score': 0.1315286010503769}, {'label': 'neutral', 'score': 0.4645144045352936}, {'label': 'positive', 'score': 0.4039570093154907}]\n",
      "[{'label': 'negative', 'score': 0.40391969680786133}, {'label': 'neutral', 'score': 0.43658703565597534}, {'label': 'positive', 'score': 0.15949323773384094}]\n",
      "[{'label': 'negative', 'score': 0.7626106142997742}, {'label': 'neutral', 'score': 0.21871361136436462}, {'label': 'positive', 'score': 0.01867581158876419}]\n",
      "[{'label': 'negative', 'score': 0.11061236262321472}, {'label': 'neutral', 'score': 0.5071616172790527}, {'label': 'positive', 'score': 0.38222604990005493}]\n",
      "[{'label': 'negative', 'score': 0.8869034051895142}, {'label': 'neutral', 'score': 0.10556922852993011}, {'label': 'positive', 'score': 0.007527366280555725}]\n",
      "[{'label': 'negative', 'score': 0.865911602973938}, {'label': 'neutral', 'score': 0.12739747762680054}, {'label': 'positive', 'score': 0.006690968293696642}]\n",
      "[{'label': 'negative', 'score': 0.9447041153907776}, {'label': 'neutral', 'score': 0.04949711635708809}, {'label': 'positive', 'score': 0.00579873425886035}]\n",
      "[{'label': 'negative', 'score': 0.3999518156051636}, {'label': 'neutral', 'score': 0.494546115398407}, {'label': 'positive', 'score': 0.10550203919410706}]\n"
     ]
    },
    {
     "name": "stderr",
     "output_type": "stream",
     "text": [
      " 72%|█████████████████████████████████████████████████████████                      | 770/1066 [00:06<00:02, 136.60it/s]"
     ]
    },
    {
     "name": "stdout",
     "output_type": "stream",
     "text": [
      "[{'label': 'negative', 'score': 0.8820939064025879}, {'label': 'neutral', 'score': 0.10741200298070908}, {'label': 'positive', 'score': 0.010494130663573742}]\n",
      "[{'label': 'negative', 'score': 0.9003522396087646}, {'label': 'neutral', 'score': 0.0898905023932457}, {'label': 'positive', 'score': 0.009757296182215214}]\n",
      "[{'label': 'negative', 'score': 0.8820740580558777}, {'label': 'neutral', 'score': 0.11158443987369537}, {'label': 'positive', 'score': 0.006341481581330299}]\n",
      "[{'label': 'negative', 'score': 0.8912043571472168}, {'label': 'neutral', 'score': 0.10155647993087769}, {'label': 'positive', 'score': 0.007239179220050573}]\n",
      "[{'label': 'negative', 'score': 0.8454972505569458}, {'label': 'neutral', 'score': 0.1486123651266098}, {'label': 'positive', 'score': 0.005890291649848223}]\n",
      "[{'label': 'negative', 'score': 0.9303057789802551}, {'label': 'neutral', 'score': 0.06383926421403885}, {'label': 'positive', 'score': 0.005855020135641098}]\n",
      "[{'label': 'negative', 'score': 0.9286786913871765}, {'label': 'neutral', 'score': 0.06617866456508636}, {'label': 'positive', 'score': 0.005142670124769211}]\n",
      "[{'label': 'negative', 'score': 0.29241302609443665}, {'label': 'neutral', 'score': 0.6613920331001282}, {'label': 'positive', 'score': 0.046194903552532196}]\n",
      "[{'label': 'negative', 'score': 0.5474388003349304}, {'label': 'neutral', 'score': 0.39320239424705505}, {'label': 'positive', 'score': 0.05935884639620781}]\n",
      "[{'label': 'negative', 'score': 0.5764299631118774}, {'label': 'neutral', 'score': 0.38622260093688965}, {'label': 'positive', 'score': 0.037347462028265}]\n",
      "[{'label': 'negative', 'score': 0.13229362666606903}, {'label': 'neutral', 'score': 0.6216562390327454}, {'label': 'positive', 'score': 0.24605010449886322}]\n",
      "[{'label': 'negative', 'score': 0.8783904910087585}, {'label': 'neutral', 'score': 0.11354248225688934}, {'label': 'positive', 'score': 0.008066992275416851}]\n",
      "[{'label': 'negative', 'score': 0.861456573009491}, {'label': 'neutral', 'score': 0.13064703345298767}, {'label': 'positive', 'score': 0.007896466180682182}]\n",
      "[{'label': 'negative', 'score': 0.07827792316675186}, {'label': 'neutral', 'score': 0.7941142916679382}, {'label': 'positive', 'score': 0.12760776281356812}]\n",
      "[{'label': 'negative', 'score': 0.9410891532897949}, {'label': 'neutral', 'score': 0.05283127352595329}, {'label': 'positive', 'score': 0.006079582497477531}]\n",
      "[{'label': 'negative', 'score': 0.9565889835357666}, {'label': 'neutral', 'score': 0.03813530504703522}, {'label': 'positive', 'score': 0.005275737028568983}]\n",
      "[{'label': 'negative', 'score': 0.07726085186004639}, {'label': 'neutral', 'score': 0.8733875751495361}, {'label': 'positive', 'score': 0.04935157299041748}]\n",
      "[{'label': 'negative', 'score': 0.911283016204834}, {'label': 'neutral', 'score': 0.08262261003255844}, {'label': 'positive', 'score': 0.006094383541494608}]\n",
      "[{'label': 'negative', 'score': 0.5808995366096497}, {'label': 'neutral', 'score': 0.4001771807670593}, {'label': 'positive', 'score': 0.018923282623291016}]\n",
      "[{'label': 'negative', 'score': 0.8553167581558228}, {'label': 'neutral', 'score': 0.1335870325565338}, {'label': 'positive', 'score': 0.011096157133579254}]\n",
      "[{'label': 'negative', 'score': 0.6977304220199585}, {'label': 'neutral', 'score': 0.28688937425613403}, {'label': 'positive', 'score': 0.015380117110908031}]\n",
      "[{'label': 'negative', 'score': 0.3913765251636505}, {'label': 'neutral', 'score': 0.5212010741233826}, {'label': 'positive', 'score': 0.08742240071296692}]\n",
      "[{'label': 'negative', 'score': 0.8101176619529724}, {'label': 'neutral', 'score': 0.18242301046848297}, {'label': 'positive', 'score': 0.007459310814738274}]\n",
      "[{'label': 'negative', 'score': 0.9047601819038391}, {'label': 'neutral', 'score': 0.09008681029081345}, {'label': 'positive', 'score': 0.005153066013008356}]\n",
      "[{'label': 'negative', 'score': 0.5567779541015625}, {'label': 'neutral', 'score': 0.4304105043411255}, {'label': 'positive', 'score': 0.012811629101634026}]\n",
      "[{'label': 'negative', 'score': 0.38922983407974243}, {'label': 'neutral', 'score': 0.5842861533164978}, {'label': 'positive', 'score': 0.0264840479940176}]\n",
      "[{'label': 'negative', 'score': 0.5874854922294617}, {'label': 'neutral', 'score': 0.38873547315597534}, {'label': 'positive', 'score': 0.023779040202498436}]\n",
      "[{'label': 'negative', 'score': 0.9586483240127563}, {'label': 'neutral', 'score': 0.03623594343662262}, {'label': 'positive', 'score': 0.0051157777197659016}]\n",
      "[{'label': 'negative', 'score': 0.82220858335495}, {'label': 'neutral', 'score': 0.1694003790616989}, {'label': 'positive', 'score': 0.008391047827899456}]\n"
     ]
    },
    {
     "name": "stderr",
     "output_type": "stream",
     "text": [
      " 75%|███████████████████████████████████████████████████████████▏                   | 798/1066 [00:06<00:02, 129.11it/s]"
     ]
    },
    {
     "name": "stdout",
     "output_type": "stream",
     "text": [
      "[{'label': 'negative', 'score': 0.7245178818702698}, {'label': 'neutral', 'score': 0.2544167637825012}, {'label': 'positive', 'score': 0.02106533758342266}]\n",
      "[{'label': 'negative', 'score': 0.770908534526825}, {'label': 'neutral', 'score': 0.2184525430202484}, {'label': 'positive', 'score': 0.010638881474733353}]\n",
      "[{'label': 'negative', 'score': 0.9310694336891174}, {'label': 'neutral', 'score': 0.06131569296121597}, {'label': 'positive', 'score': 0.007614858448505402}]\n",
      "[{'label': 'negative', 'score': 0.7240939140319824}, {'label': 'neutral', 'score': 0.25437530875205994}, {'label': 'positive', 'score': 0.021530751138925552}]\n",
      "[{'label': 'negative', 'score': 0.4320542812347412}, {'label': 'neutral', 'score': 0.5376880168914795}, {'label': 'positive', 'score': 0.03025766648352146}]\n",
      "[{'label': 'negative', 'score': 0.9448360800743103}, {'label': 'neutral', 'score': 0.04915868863463402}, {'label': 'positive', 'score': 0.006005282048135996}]\n",
      "[{'label': 'negative', 'score': 0.8152976632118225}, {'label': 'neutral', 'score': 0.177122563123703}, {'label': 'positive', 'score': 0.007579841185361147}]\n",
      "[{'label': 'negative', 'score': 0.8928804993629456}, {'label': 'neutral', 'score': 0.10037565976381302}, {'label': 'positive', 'score': 0.0067437756806612015}]\n",
      "[{'label': 'negative', 'score': 0.950076699256897}, {'label': 'neutral', 'score': 0.045922357589006424}, {'label': 'positive', 'score': 0.0040009221993386745}]\n",
      "[{'label': 'negative', 'score': 0.8780927658081055}, {'label': 'neutral', 'score': 0.11531803756952286}, {'label': 'positive', 'score': 0.006589216645807028}]\n",
      "[{'label': 'negative', 'score': 0.8483938574790955}, {'label': 'neutral', 'score': 0.1349717676639557}, {'label': 'positive', 'score': 0.016634324565529823}]\n",
      "[{'label': 'negative', 'score': 0.6865347027778625}, {'label': 'neutral', 'score': 0.290182501077652}, {'label': 'positive', 'score': 0.023282799869775772}]\n",
      "[{'label': 'negative', 'score': 0.4712285101413727}, {'label': 'neutral', 'score': 0.4328817129135132}, {'label': 'positive', 'score': 0.09588982164859772}]\n",
      "[{'label': 'negative', 'score': 0.44328564405441284}, {'label': 'neutral', 'score': 0.4076937437057495}, {'label': 'positive', 'score': 0.14902056753635406}]\n",
      "[{'label': 'negative', 'score': 0.24379484355449677}, {'label': 'neutral', 'score': 0.633816123008728}, {'label': 'positive', 'score': 0.1223890483379364}]\n",
      "[{'label': 'negative', 'score': 0.9389461874961853}, {'label': 'neutral', 'score': 0.053334791213274}, {'label': 'positive', 'score': 0.007719038520008326}]\n",
      "[{'label': 'negative', 'score': 0.9037486910820007}, {'label': 'neutral', 'score': 0.08859816938638687}, {'label': 'positive', 'score': 0.007653224281966686}]\n",
      "[{'label': 'negative', 'score': 0.10460290312767029}, {'label': 'neutral', 'score': 0.7946865558624268}, {'label': 'positive', 'score': 0.10071050375699997}]\n",
      "[{'label': 'negative', 'score': 0.7032554745674133}, {'label': 'neutral', 'score': 0.2786248028278351}, {'label': 'positive', 'score': 0.01811976730823517}]\n",
      "[{'label': 'negative', 'score': 0.8926860094070435}, {'label': 'neutral', 'score': 0.10038142651319504}, {'label': 'positive', 'score': 0.006932555697858334}]\n",
      "[{'label': 'negative', 'score': 0.4663095474243164}, {'label': 'neutral', 'score': 0.5152891278266907}, {'label': 'positive', 'score': 0.01840134896337986}]\n",
      "[{'label': 'negative', 'score': 0.7214326858520508}, {'label': 'neutral', 'score': 0.2585192024707794}, {'label': 'positive', 'score': 0.02004808373749256}]\n",
      "[{'label': 'negative', 'score': 0.8505808115005493}, {'label': 'neutral', 'score': 0.1408092975616455}, {'label': 'positive', 'score': 0.008609896525740623}]\n",
      "[{'label': 'negative', 'score': 0.7746877074241638}, {'label': 'neutral', 'score': 0.20189833641052246}, {'label': 'positive', 'score': 0.02341390587389469}]\n"
     ]
    },
    {
     "name": "stderr",
     "output_type": "stream",
     "text": [
      " 78%|█████████████████████████████████████████████████████████████▎                 | 827/1066 [00:06<00:01, 133.93it/s]"
     ]
    },
    {
     "name": "stdout",
     "output_type": "stream",
     "text": [
      "[{'label': 'negative', 'score': 0.8073555827140808}, {'label': 'neutral', 'score': 0.18571099638938904}, {'label': 'positive', 'score': 0.0069334604777395725}]\n",
      "[{'label': 'negative', 'score': 0.015369881875813007}, {'label': 'neutral', 'score': 0.1592089682817459}, {'label': 'positive', 'score': 0.825421154499054}]\n",
      "[{'label': 'negative', 'score': 0.7932720184326172}, {'label': 'neutral', 'score': 0.18703711032867432}, {'label': 'positive', 'score': 0.01969083398580551}]\n",
      "[{'label': 'negative', 'score': 0.9422308802604675}, {'label': 'neutral', 'score': 0.05104883015155792}, {'label': 'positive', 'score': 0.006720321718603373}]\n",
      "[{'label': 'negative', 'score': 0.0792994499206543}, {'label': 'neutral', 'score': 0.8753748536109924}, {'label': 'positive', 'score': 0.04532565549015999}]\n",
      "[{'label': 'negative', 'score': 0.6911808848381042}, {'label': 'neutral', 'score': 0.2944207787513733}, {'label': 'positive', 'score': 0.014398427680134773}]\n",
      "[{'label': 'negative', 'score': 0.8276733160018921}, {'label': 'neutral', 'score': 0.16063247621059418}, {'label': 'positive', 'score': 0.011694269254803658}]\n",
      "[{'label': 'negative', 'score': 0.00447689788416028}, {'label': 'neutral', 'score': 0.08466190844774246}, {'label': 'positive', 'score': 0.9108611941337585}]\n",
      "[{'label': 'negative', 'score': 0.7609055042266846}, {'label': 'neutral', 'score': 0.20825162529945374}, {'label': 'positive', 'score': 0.030842870473861694}]\n",
      "[{'label': 'negative', 'score': 0.8907895684242249}, {'label': 'neutral', 'score': 0.09733875095844269}, {'label': 'positive', 'score': 0.01187161635607481}]\n",
      "[{'label': 'negative', 'score': 0.901612401008606}, {'label': 'neutral', 'score': 0.09100508689880371}, {'label': 'positive', 'score': 0.00738251069560647}]\n",
      "[{'label': 'negative', 'score': 0.9094395041465759}, {'label': 'neutral', 'score': 0.08579900860786438}, {'label': 'positive', 'score': 0.00476155336946249}]\n",
      "[{'label': 'negative', 'score': 0.06437452137470245}, {'label': 'neutral', 'score': 0.6592407822608948}, {'label': 'positive', 'score': 0.27638474106788635}]\n",
      "[{'label': 'negative', 'score': 0.0333908386528492}, {'label': 'neutral', 'score': 0.5126722455024719}, {'label': 'positive', 'score': 0.45393693447113037}]\n",
      "[{'label': 'negative', 'score': 0.8993635177612305}, {'label': 'neutral', 'score': 0.09411066025495529}, {'label': 'positive', 'score': 0.0065258401446044445}]\n",
      "[{'label': 'negative', 'score': 0.718761146068573}, {'label': 'neutral', 'score': 0.22982542216777802}, {'label': 'positive', 'score': 0.05141337960958481}]\n",
      "[{'label': 'negative', 'score': 0.9121775031089783}, {'label': 'neutral', 'score': 0.07964883744716644}, {'label': 'positive', 'score': 0.008173704147338867}]\n",
      "[{'label': 'negative', 'score': 0.9296979904174805}, {'label': 'neutral', 'score': 0.06467896699905396}, {'label': 'positive', 'score': 0.005623071454465389}]\n",
      "[{'label': 'negative', 'score': 0.7978360056877136}, {'label': 'neutral', 'score': 0.19256100058555603}, {'label': 'positive', 'score': 0.00960303284227848}]\n",
      "[{'label': 'negative', 'score': 0.5170608162879944}, {'label': 'neutral', 'score': 0.4306968152523041}, {'label': 'positive', 'score': 0.05224237218499184}]\n",
      "[{'label': 'negative', 'score': 0.9206756353378296}, {'label': 'neutral', 'score': 0.07469335198402405}, {'label': 'positive', 'score': 0.004631083458662033}]\n",
      "[{'label': 'negative', 'score': 0.025517936795949936}, {'label': 'neutral', 'score': 0.8909592032432556}, {'label': 'positive', 'score': 0.08352284133434296}]\n",
      "[{'label': 'negative', 'score': 0.8856856822967529}, {'label': 'neutral', 'score': 0.10811997950077057}, {'label': 'positive', 'score': 0.00619441969320178}]\n",
      "[{'label': 'negative', 'score': 0.9388506412506104}, {'label': 'neutral', 'score': 0.05689007416367531}, {'label': 'positive', 'score': 0.004259338136762381}]\n",
      "[{'label': 'negative', 'score': 0.4496615529060364}, {'label': 'neutral', 'score': 0.5176806449890137}, {'label': 'positive', 'score': 0.03265777602791786}]\n",
      "[{'label': 'negative', 'score': 0.7908169031143188}, {'label': 'neutral', 'score': 0.19618113338947296}, {'label': 'positive', 'score': 0.013001910410821438}]\n",
      "[{'label': 'negative', 'score': 0.8458229303359985}, {'label': 'neutral', 'score': 0.1395394206047058}, {'label': 'positive', 'score': 0.01463768444955349}]\n",
      "[{'label': 'negative', 'score': 0.9053760766983032}, {'label': 'neutral', 'score': 0.08548606932163239}, {'label': 'positive', 'score': 0.009137858636677265}]\n"
     ]
    },
    {
     "name": "stderr",
     "output_type": "stream",
     "text": [
      " 80%|███████████████████████████████████████████████████████████████▎               | 855/1066 [00:06<00:01, 129.78it/s]"
     ]
    },
    {
     "name": "stdout",
     "output_type": "stream",
     "text": [
      "[{'label': 'negative', 'score': 0.7800931334495544}, {'label': 'neutral', 'score': 0.20839384198188782}, {'label': 'positive', 'score': 0.01151303667575121}]\n",
      "[{'label': 'negative', 'score': 0.7403817176818848}, {'label': 'neutral', 'score': 0.24144652485847473}, {'label': 'positive', 'score': 0.018171783536672592}]\n",
      "[{'label': 'negative', 'score': 0.7552460432052612}, {'label': 'neutral', 'score': 0.23207485675811768}, {'label': 'positive', 'score': 0.012679052539169788}]\n",
      "[{'label': 'negative', 'score': 0.3441169261932373}, {'label': 'neutral', 'score': 0.34691622853279114}, {'label': 'positive', 'score': 0.3089667856693268}]\n",
      "[{'label': 'negative', 'score': 0.36228787899017334}, {'label': 'neutral', 'score': 0.49279865622520447}, {'label': 'positive', 'score': 0.14491340517997742}]\n",
      "[{'label': 'negative', 'score': 0.9382104277610779}, {'label': 'neutral', 'score': 0.056459102779626846}, {'label': 'positive', 'score': 0.005330448038876057}]\n",
      "[{'label': 'negative', 'score': 0.9274208545684814}, {'label': 'neutral', 'score': 0.06492339074611664}, {'label': 'positive', 'score': 0.007655750494450331}]\n",
      "[{'label': 'negative', 'score': 0.2737989127635956}, {'label': 'neutral', 'score': 0.42125535011291504}, {'label': 'positive', 'score': 0.304945707321167}]\n",
      "[{'label': 'negative', 'score': 0.3993242383003235}, {'label': 'neutral', 'score': 0.4743400514125824}, {'label': 'positive', 'score': 0.12633578479290009}]\n",
      "[{'label': 'negative', 'score': 0.8147955536842346}, {'label': 'neutral', 'score': 0.17137888073921204}, {'label': 'positive', 'score': 0.013825531117618084}]\n",
      "[{'label': 'negative', 'score': 0.8473035097122192}, {'label': 'neutral', 'score': 0.14620842039585114}, {'label': 'positive', 'score': 0.006488005630671978}]\n",
      "[{'label': 'negative', 'score': 0.8983064293861389}, {'label': 'neutral', 'score': 0.09452512115240097}, {'label': 'positive', 'score': 0.00716847600415349}]\n",
      "[{'label': 'negative', 'score': 0.453171044588089}, {'label': 'neutral', 'score': 0.48840710520744324}, {'label': 'positive', 'score': 0.05842185020446777}]\n",
      "[{'label': 'negative', 'score': 0.7111602425575256}, {'label': 'neutral', 'score': 0.2670472264289856}, {'label': 'positive', 'score': 0.02179252728819847}]\n",
      "[{'label': 'negative', 'score': 0.11701124161481857}, {'label': 'neutral', 'score': 0.8460509777069092}, {'label': 'positive', 'score': 0.036937788128852844}]\n",
      "[{'label': 'negative', 'score': 0.8870051503181458}, {'label': 'neutral', 'score': 0.1067262515425682}, {'label': 'positive', 'score': 0.006268635857850313}]\n",
      "[{'label': 'negative', 'score': 0.8683616518974304}, {'label': 'neutral', 'score': 0.12115933001041412}, {'label': 'positive', 'score': 0.010479036718606949}]\n",
      "[{'label': 'negative', 'score': 0.5355690121650696}, {'label': 'neutral', 'score': 0.44080567359924316}, {'label': 'positive', 'score': 0.023625284433364868}]\n",
      "[{'label': 'negative', 'score': 0.6271523237228394}, {'label': 'neutral', 'score': 0.3488163352012634}, {'label': 'positive', 'score': 0.024031348526477814}]\n",
      "[{'label': 'negative', 'score': 0.33374667167663574}, {'label': 'neutral', 'score': 0.41275978088378906}, {'label': 'positive', 'score': 0.2534934878349304}]\n",
      "[{'label': 'negative', 'score': 0.8505420684814453}, {'label': 'neutral', 'score': 0.14178022742271423}, {'label': 'positive', 'score': 0.007677795365452766}]\n",
      "[{'label': 'negative', 'score': 0.3546659052371979}, {'label': 'neutral', 'score': 0.6031093001365662}, {'label': 'positive', 'score': 0.04222482815384865}]\n",
      "[{'label': 'negative', 'score': 0.2712480127811432}, {'label': 'neutral', 'score': 0.7005325555801392}, {'label': 'positive', 'score': 0.028219446539878845}]\n",
      "[{'label': 'negative', 'score': 0.8401826024055481}, {'label': 'neutral', 'score': 0.15247295796871185}, {'label': 'positive', 'score': 0.007344427052885294}]\n",
      "[{'label': 'negative', 'score': 0.9135172963142395}, {'label': 'neutral', 'score': 0.08050689846277237}, {'label': 'positive', 'score': 0.005975859239697456}]\n"
     ]
    },
    {
     "name": "stderr",
     "output_type": "stream",
     "text": [
      " 83%|█████████████████████████████████████████████████████████████████▌             | 885/1066 [00:06<00:01, 138.62it/s]"
     ]
    },
    {
     "name": "stdout",
     "output_type": "stream",
     "text": [
      "[{'label': 'negative', 'score': 0.42185908555984497}, {'label': 'neutral', 'score': 0.46174052357673645}, {'label': 'positive', 'score': 0.11640039086341858}]\n",
      "[{'label': 'negative', 'score': 0.03281262144446373}, {'label': 'neutral', 'score': 0.4124685227870941}, {'label': 'positive', 'score': 0.5547188520431519}]\n",
      "[{'label': 'negative', 'score': 0.8400384783744812}, {'label': 'neutral', 'score': 0.13985437154769897}, {'label': 'positive', 'score': 0.020107217133045197}]\n",
      "[{'label': 'negative', 'score': 0.5507612228393555}, {'label': 'neutral', 'score': 0.42891499400138855}, {'label': 'positive', 'score': 0.02032385766506195}]\n",
      "[{'label': 'negative', 'score': 0.7694588303565979}, {'label': 'neutral', 'score': 0.21835735440254211}, {'label': 'positive', 'score': 0.012183811515569687}]\n",
      "[{'label': 'negative', 'score': 0.8131421208381653}, {'label': 'neutral', 'score': 0.17745447158813477}, {'label': 'positive', 'score': 0.009403386153280735}]\n",
      "[{'label': 'negative', 'score': 0.6967731714248657}, {'label': 'neutral', 'score': 0.2702144980430603}, {'label': 'positive', 'score': 0.03301230072975159}]\n",
      "[{'label': 'negative', 'score': 0.5601843595504761}, {'label': 'neutral', 'score': 0.41408637166023254}, {'label': 'positive', 'score': 0.025729283690452576}]\n",
      "[{'label': 'negative', 'score': 0.8521178960800171}, {'label': 'neutral', 'score': 0.1393275409936905}, {'label': 'positive', 'score': 0.008554586209356785}]\n",
      "[{'label': 'negative', 'score': 0.6756401062011719}, {'label': 'neutral', 'score': 0.30650463700294495}, {'label': 'positive', 'score': 0.017855247482657433}]\n",
      "[{'label': 'negative', 'score': 0.4385054409503937}, {'label': 'neutral', 'score': 0.4103301763534546}, {'label': 'positive', 'score': 0.15116435289382935}]\n",
      "[{'label': 'negative', 'score': 0.008518966846168041}, {'label': 'neutral', 'score': 0.03263954073190689}, {'label': 'positive', 'score': 0.9588415026664734}]\n",
      "[{'label': 'negative', 'score': 0.8432866930961609}, {'label': 'neutral', 'score': 0.14035794138908386}, {'label': 'positive', 'score': 0.016355352476239204}]\n",
      "[{'label': 'negative', 'score': 0.8996331691741943}, {'label': 'neutral', 'score': 0.09521547704935074}, {'label': 'positive', 'score': 0.005151389166712761}]\n",
      "[{'label': 'negative', 'score': 0.927960991859436}, {'label': 'neutral', 'score': 0.06655028462409973}, {'label': 'positive', 'score': 0.0054886979050934315}]\n",
      "[{'label': 'negative', 'score': 0.8013238310813904}, {'label': 'neutral', 'score': 0.1795308142900467}, {'label': 'positive', 'score': 0.019145378842949867}]\n",
      "[{'label': 'negative', 'score': 0.5873784422874451}, {'label': 'neutral', 'score': 0.3974868953227997}, {'label': 'positive', 'score': 0.015134616754949093}]\n",
      "[{'label': 'negative', 'score': 0.8682869672775269}, {'label': 'neutral', 'score': 0.12323667854070663}, {'label': 'positive', 'score': 0.008476356975734234}]\n",
      "[{'label': 'negative', 'score': 0.6272700428962708}, {'label': 'neutral', 'score': 0.3328841030597687}, {'label': 'positive', 'score': 0.03984585031867027}]\n",
      "[{'label': 'negative', 'score': 0.3232816755771637}, {'label': 'neutral', 'score': 0.6392248868942261}, {'label': 'positive', 'score': 0.037493426352739334}]\n",
      "[{'label': 'negative', 'score': 0.8954304456710815}, {'label': 'neutral', 'score': 0.09776294976472855}, {'label': 'positive', 'score': 0.006806568242609501}]\n",
      "[{'label': 'negative', 'score': 0.8030717372894287}, {'label': 'neutral', 'score': 0.12642480432987213}, {'label': 'positive', 'score': 0.07050342112779617}]\n",
      "[{'label': 'negative', 'score': 0.9078637957572937}, {'label': 'neutral', 'score': 0.08633744716644287}, {'label': 'positive', 'score': 0.005798686295747757}]\n",
      "[{'label': 'negative', 'score': 0.7362194061279297}, {'label': 'neutral', 'score': 0.2475302517414093}, {'label': 'positive', 'score': 0.01625029370188713}]\n",
      "[{'label': 'negative', 'score': 0.4507479667663574}, {'label': 'neutral', 'score': 0.49542152881622314}, {'label': 'positive', 'score': 0.05383044853806496}]\n",
      "[{'label': 'negative', 'score': 0.4393797218799591}, {'label': 'neutral', 'score': 0.5226394534111023}, {'label': 'positive', 'score': 0.037980817258358}]\n",
      "[{'label': 'negative', 'score': 0.8021464943885803}, {'label': 'neutral', 'score': 0.18274188041687012}, {'label': 'positive', 'score': 0.015111683867871761}]\n",
      "[{'label': 'negative', 'score': 0.8839887976646423}, {'label': 'neutral', 'score': 0.10850052535533905}, {'label': 'positive', 'score': 0.007510755211114883}]\n",
      "[{'label': 'negative', 'score': 0.4263164699077606}, {'label': 'neutral', 'score': 0.5326181650161743}, {'label': 'positive', 'score': 0.04106530547142029}]\n",
      "[{'label': 'negative', 'score': 0.04675699397921562}, {'label': 'neutral', 'score': 0.3059602379798889}, {'label': 'positive', 'score': 0.6472828388214111}]\n",
      "[{'label': 'negative', 'score': 0.9169908165931702}, {'label': 'neutral', 'score': 0.07692131400108337}, {'label': 'positive', 'score': 0.006087951362133026}]\n"
     ]
    },
    {
     "name": "stderr",
     "output_type": "stream",
     "text": [
      " 86%|███████████████████████████████████████████████████████████████████▊           | 915/1066 [00:07<00:01, 137.45it/s]"
     ]
    },
    {
     "name": "stdout",
     "output_type": "stream",
     "text": [
      "[{'label': 'negative', 'score': 0.8793390393257141}, {'label': 'neutral', 'score': 0.1123805046081543}, {'label': 'positive', 'score': 0.008280430920422077}]\n",
      "[{'label': 'negative', 'score': 0.9229700565338135}, {'label': 'neutral', 'score': 0.06925465166568756}, {'label': 'positive', 'score': 0.00777525594457984}]\n",
      "[{'label': 'negative', 'score': 0.7009298801422119}, {'label': 'neutral', 'score': 0.28685885667800903}, {'label': 'positive', 'score': 0.012211265973746777}]\n",
      "[{'label': 'negative', 'score': 0.030512990429997444}, {'label': 'neutral', 'score': 0.8974032402038574}, {'label': 'positive', 'score': 0.0720837265253067}]\n",
      "[{'label': 'negative', 'score': 0.04378809407353401}, {'label': 'neutral', 'score': 0.48134371638298035}, {'label': 'positive', 'score': 0.47486814856529236}]\n",
      "[{'label': 'negative', 'score': 0.3734916150569916}, {'label': 'neutral', 'score': 0.5057672262191772}, {'label': 'positive', 'score': 0.12074112147092819}]\n",
      "[{'label': 'negative', 'score': 0.9326493144035339}, {'label': 'neutral', 'score': 0.061329908668994904}, {'label': 'positive', 'score': 0.006020708940923214}]\n",
      "[{'label': 'negative', 'score': 0.32030025124549866}, {'label': 'neutral', 'score': 0.5896618962287903}, {'label': 'positive', 'score': 0.09003780782222748}]\n",
      "[{'label': 'negative', 'score': 0.8535465598106384}, {'label': 'neutral', 'score': 0.13633812963962555}, {'label': 'positive', 'score': 0.010115213692188263}]\n",
      "[{'label': 'negative', 'score': 0.9308661222457886}, {'label': 'neutral', 'score': 0.061618465930223465}, {'label': 'positive', 'score': 0.007515387609601021}]\n",
      "[{'label': 'negative', 'score': 0.9221711158752441}, {'label': 'neutral', 'score': 0.0706675797700882}, {'label': 'positive', 'score': 0.00716128945350647}]\n",
      "[{'label': 'negative', 'score': 0.24375705420970917}, {'label': 'neutral', 'score': 0.6137202382087708}, {'label': 'positive', 'score': 0.14252279698848724}]\n",
      "[{'label': 'negative', 'score': 0.5989173650741577}, {'label': 'neutral', 'score': 0.3732387125492096}, {'label': 'positive', 'score': 0.027843957766890526}]\n",
      "[{'label': 'negative', 'score': 0.15448056161403656}, {'label': 'neutral', 'score': 0.4025236666202545}, {'label': 'positive', 'score': 0.44299572706222534}]\n",
      "[{'label': 'negative', 'score': 0.39055827260017395}, {'label': 'neutral', 'score': 0.5184811353683472}, {'label': 'positive', 'score': 0.09096065908670425}]\n",
      "[{'label': 'negative', 'score': 0.886456310749054}, {'label': 'neutral', 'score': 0.10814321041107178}, {'label': 'positive', 'score': 0.005400463007390499}]\n",
      "[{'label': 'negative', 'score': 0.9378330111503601}, {'label': 'neutral', 'score': 0.05575940012931824}, {'label': 'positive', 'score': 0.00640747370198369}]\n",
      "[{'label': 'negative', 'score': 0.6806281805038452}, {'label': 'neutral', 'score': 0.30232709646224976}, {'label': 'positive', 'score': 0.01704477332532406}]\n",
      "[{'label': 'negative', 'score': 0.7967968583106995}, {'label': 'neutral', 'score': 0.19092757999897003}, {'label': 'positive', 'score': 0.012275520712137222}]\n",
      "[{'label': 'negative', 'score': 0.7133790850639343}, {'label': 'neutral', 'score': 0.2573772072792053}, {'label': 'positive', 'score': 0.02924381010234356}]\n",
      "[{'label': 'negative', 'score': 0.7102858424186707}, {'label': 'neutral', 'score': 0.2696731984615326}, {'label': 'positive', 'score': 0.020041029900312424}]\n",
      "[{'label': 'negative', 'score': 0.36618298292160034}, {'label': 'neutral', 'score': 0.5449052453041077}, {'label': 'positive', 'score': 0.0889117419719696}]\n",
      "[{'label': 'negative', 'score': 0.748764157295227}, {'label': 'neutral', 'score': 0.23692625761032104}, {'label': 'positive', 'score': 0.01430959440767765}]\n",
      "[{'label': 'negative', 'score': 0.7898368239402771}, {'label': 'neutral', 'score': 0.20093178749084473}, {'label': 'positive', 'score': 0.009231423027813435}]\n",
      "[{'label': 'negative', 'score': 0.5862696766853333}, {'label': 'neutral', 'score': 0.37880223989486694}, {'label': 'positive', 'score': 0.03492804244160652}]\n",
      "[{'label': 'negative', 'score': 0.8061807155609131}, {'label': 'neutral', 'score': 0.16279231011867523}, {'label': 'positive', 'score': 0.03102700226008892}]\n",
      "[{'label': 'negative', 'score': 0.8330512642860413}, {'label': 'neutral', 'score': 0.1544329673051834}, {'label': 'positive', 'score': 0.012515704147517681}]\n",
      "[{'label': 'negative', 'score': 0.8949126601219177}, {'label': 'neutral', 'score': 0.08931092172861099}, {'label': 'positive', 'score': 0.015776468440890312}]\n"
     ]
    },
    {
     "name": "stderr",
     "output_type": "stream",
     "text": [
      " 88%|█████████████████████████████████████████████████████████████████████▉         | 943/1066 [00:07<00:00, 130.04it/s]"
     ]
    },
    {
     "name": "stdout",
     "output_type": "stream",
     "text": [
      "[{'label': 'negative', 'score': 0.9297144412994385}, {'label': 'neutral', 'score': 0.06451170891523361}, {'label': 'positive', 'score': 0.005773785058408976}]\n",
      "[{'label': 'negative', 'score': 0.9485235810279846}, {'label': 'neutral', 'score': 0.047265663743019104}, {'label': 'positive', 'score': 0.0042107743211090565}]\n",
      "[{'label': 'negative', 'score': 0.874767005443573}, {'label': 'neutral', 'score': 0.11902928352355957}, {'label': 'positive', 'score': 0.006203759927302599}]\n",
      "[{'label': 'negative', 'score': 0.3949020802974701}, {'label': 'neutral', 'score': 0.5929179787635803}, {'label': 'positive', 'score': 0.012179940938949585}]\n",
      "[{'label': 'negative', 'score': 0.0033645848743617535}, {'label': 'neutral', 'score': 0.26747509837150574}, {'label': 'positive', 'score': 0.7291603684425354}]\n",
      "[{'label': 'negative', 'score': 0.6281706094741821}, {'label': 'neutral', 'score': 0.34716978669166565}, {'label': 'positive', 'score': 0.024659590795636177}]\n",
      "[{'label': 'negative', 'score': 0.8115631341934204}, {'label': 'neutral', 'score': 0.17250953614711761}, {'label': 'positive', 'score': 0.015927372500300407}]\n",
      "[{'label': 'negative', 'score': 0.9318017959594727}, {'label': 'neutral', 'score': 0.06276174634695053}, {'label': 'positive', 'score': 0.0054364134557545185}]\n",
      "[{'label': 'negative', 'score': 0.3308427333831787}, {'label': 'neutral', 'score': 0.6451231241226196}, {'label': 'positive', 'score': 0.02403414621949196}]\n",
      "[{'label': 'negative', 'score': 0.9252094030380249}, {'label': 'neutral', 'score': 0.06934090703725815}, {'label': 'positive', 'score': 0.005449725780636072}]\n",
      "[{'label': 'negative', 'score': 0.7856178283691406}, {'label': 'neutral', 'score': 0.17904169857501984}, {'label': 'positive', 'score': 0.035340528935194016}]\n",
      "[{'label': 'negative', 'score': 0.8947325348854065}, {'label': 'neutral', 'score': 0.09793322533369064}, {'label': 'positive', 'score': 0.007334210444241762}]\n",
      "[{'label': 'negative', 'score': 0.23318243026733398}, {'label': 'neutral', 'score': 0.7062922120094299}, {'label': 'positive', 'score': 0.06052530184388161}]\n",
      "[{'label': 'negative', 'score': 0.7790907621383667}, {'label': 'neutral', 'score': 0.2096620351076126}, {'label': 'positive', 'score': 0.011247241869568825}]\n",
      "[{'label': 'negative', 'score': 0.518203854560852}, {'label': 'neutral', 'score': 0.45773956179618835}, {'label': 'positive', 'score': 0.024056637659668922}]\n",
      "[{'label': 'negative', 'score': 0.9563841819763184}, {'label': 'neutral', 'score': 0.039935123175382614}, {'label': 'positive', 'score': 0.003680679015815258}]\n",
      "[{'label': 'negative', 'score': 0.029051564633846283}, {'label': 'neutral', 'score': 0.12263698875904083}, {'label': 'positive', 'score': 0.8483114838600159}]\n",
      "[{'label': 'negative', 'score': 0.4793523848056793}, {'label': 'neutral', 'score': 0.5045297741889954}, {'label': 'positive', 'score': 0.016117816790938377}]\n",
      "[{'label': 'negative', 'score': 0.818754255771637}, {'label': 'neutral', 'score': 0.16517455875873566}, {'label': 'positive', 'score': 0.016071245074272156}]\n",
      "[{'label': 'negative', 'score': 0.06236738711595535}, {'label': 'neutral', 'score': 0.35033848881721497}, {'label': 'positive', 'score': 0.5872941017150879}]\n",
      "[{'label': 'negative', 'score': 0.7892271876335144}, {'label': 'neutral', 'score': 0.19558390974998474}, {'label': 'positive', 'score': 0.015188867226243019}]\n",
      "[{'label': 'negative', 'score': 0.63312828540802}, {'label': 'neutral', 'score': 0.3128424286842346}, {'label': 'positive', 'score': 0.054029278457164764}]\n",
      "[{'label': 'negative', 'score': 0.3653043508529663}, {'label': 'neutral', 'score': 0.3591887056827545}, {'label': 'positive', 'score': 0.2755069136619568}]\n",
      "[{'label': 'negative', 'score': 0.09233047813177109}, {'label': 'neutral', 'score': 0.7075256705284119}, {'label': 'positive', 'score': 0.20014387369155884}]\n",
      "[{'label': 'negative', 'score': 0.9107910990715027}, {'label': 'neutral', 'score': 0.08016173541545868}, {'label': 'positive', 'score': 0.009047163650393486}]\n",
      "[{'label': 'negative', 'score': 0.009535042569041252}, {'label': 'neutral', 'score': 0.42148473858833313}, {'label': 'positive', 'score': 0.5689802169799805}]\n"
     ]
    },
    {
     "name": "stderr",
     "output_type": "stream",
     "text": [
      " 91%|████████████████████████████████████████████████████████████████████████▏      | 974/1066 [00:07<00:00, 138.81it/s]"
     ]
    },
    {
     "name": "stdout",
     "output_type": "stream",
     "text": [
      "[{'label': 'negative', 'score': 0.771221399307251}, {'label': 'neutral', 'score': 0.21172121167182922}, {'label': 'positive', 'score': 0.017057359218597412}]\n",
      "[{'label': 'negative', 'score': 0.9438266158103943}, {'label': 'neutral', 'score': 0.050421807914972305}, {'label': 'positive', 'score': 0.005751685705035925}]\n",
      "[{'label': 'negative', 'score': 0.9347560405731201}, {'label': 'neutral', 'score': 0.05975926294922829}, {'label': 'positive', 'score': 0.005484733264893293}]\n",
      "[{'label': 'negative', 'score': 0.7568826675415039}, {'label': 'neutral', 'score': 0.22913117706775665}, {'label': 'positive', 'score': 0.013986160978674889}]\n",
      "[{'label': 'negative', 'score': 0.38485249876976013}, {'label': 'neutral', 'score': 0.5800131559371948}, {'label': 'positive', 'score': 0.03513437882065773}]\n",
      "[{'label': 'negative', 'score': 0.06337720900774002}, {'label': 'neutral', 'score': 0.8507140278816223}, {'label': 'positive', 'score': 0.08590869605541229}]\n",
      "[{'label': 'negative', 'score': 0.8188259601593018}, {'label': 'neutral', 'score': 0.173067107796669}, {'label': 'positive', 'score': 0.008106905966997147}]\n",
      "[{'label': 'negative', 'score': 0.7270905375480652}, {'label': 'neutral', 'score': 0.25240665674209595}, {'label': 'positive', 'score': 0.020502762869000435}]\n",
      "[{'label': 'negative', 'score': 0.8889026641845703}, {'label': 'neutral', 'score': 0.09958703070878983}, {'label': 'positive', 'score': 0.011510255746543407}]\n",
      "[{'label': 'negative', 'score': 0.7883833646774292}, {'label': 'neutral', 'score': 0.1985928863286972}, {'label': 'positive', 'score': 0.013023747131228447}]\n",
      "[{'label': 'negative', 'score': 0.9224340915679932}, {'label': 'neutral', 'score': 0.07186350971460342}, {'label': 'positive', 'score': 0.005702430382370949}]\n",
      "[{'label': 'negative', 'score': 0.8605585694313049}, {'label': 'neutral', 'score': 0.12807323038578033}, {'label': 'positive', 'score': 0.011368227191269398}]\n",
      "[{'label': 'negative', 'score': 0.8398955464363098}, {'label': 'neutral', 'score': 0.14919087290763855}, {'label': 'positive', 'score': 0.010913505218923092}]\n",
      "[{'label': 'negative', 'score': 0.8817470073699951}, {'label': 'neutral', 'score': 0.11004638671875}, {'label': 'positive', 'score': 0.008206591010093689}]\n",
      "[{'label': 'negative', 'score': 0.23942509293556213}, {'label': 'neutral', 'score': 0.659544825553894}, {'label': 'positive', 'score': 0.1010301411151886}]\n",
      "[{'label': 'negative', 'score': 0.9171504974365234}, {'label': 'neutral', 'score': 0.07703395932912827}, {'label': 'positive', 'score': 0.005815547425299883}]\n",
      "[{'label': 'negative', 'score': 0.03973618522286415}, {'label': 'neutral', 'score': 0.5351881384849548}, {'label': 'positive', 'score': 0.4250757098197937}]\n",
      "[{'label': 'negative', 'score': 0.8809306025505066}, {'label': 'neutral', 'score': 0.11066821962594986}, {'label': 'positive', 'score': 0.008401202037930489}]\n",
      "[{'label': 'negative', 'score': 0.9178941249847412}, {'label': 'neutral', 'score': 0.07264061272144318}, {'label': 'positive', 'score': 0.009465336799621582}]\n",
      "[{'label': 'negative', 'score': 0.7910916209220886}, {'label': 'neutral', 'score': 0.20046965777873993}, {'label': 'positive', 'score': 0.00843876414000988}]\n",
      "[{'label': 'negative', 'score': 0.8968353867530823}, {'label': 'neutral', 'score': 0.09156812727451324}, {'label': 'positive', 'score': 0.01159658469259739}]\n",
      "[{'label': 'negative', 'score': 0.9294997453689575}, {'label': 'neutral', 'score': 0.06420078128576279}, {'label': 'positive', 'score': 0.006299484521150589}]\n",
      "[{'label': 'negative', 'score': 0.7231960892677307}, {'label': 'neutral', 'score': 0.26017582416534424}, {'label': 'positive', 'score': 0.016628040000796318}]\n",
      "[{'label': 'negative', 'score': 0.8238514065742493}, {'label': 'neutral', 'score': 0.16819588840007782}, {'label': 'positive', 'score': 0.007952704094350338}]\n",
      "[{'label': 'negative', 'score': 0.8245947360992432}, {'label': 'neutral', 'score': 0.1680627018213272}, {'label': 'positive', 'score': 0.007342564407736063}]\n",
      "[{'label': 'negative', 'score': 0.8964768052101135}, {'label': 'neutral', 'score': 0.0969327837228775}, {'label': 'positive', 'score': 0.006590320263057947}]\n",
      "[{'label': 'negative', 'score': 0.5142032504081726}, {'label': 'neutral', 'score': 0.44150564074516296}, {'label': 'positive', 'score': 0.04429106414318085}]\n",
      "[{'label': 'negative', 'score': 0.8503839373588562}, {'label': 'neutral', 'score': 0.1250542551279068}, {'label': 'positive', 'score': 0.024561822414398193}]\n",
      "[{'label': 'negative', 'score': 0.6139956712722778}, {'label': 'neutral', 'score': 0.3640291690826416}, {'label': 'positive', 'score': 0.02197515219449997}]\n",
      "[{'label': 'negative', 'score': 0.9222078323364258}, {'label': 'neutral', 'score': 0.06892368197441101}, {'label': 'positive', 'score': 0.008868565782904625}]\n"
     ]
    },
    {
     "name": "stderr",
     "output_type": "stream",
     "text": [
      " 93%|█████████████████████████████████████████████████████████████████████████▏     | 988/1066 [00:07<00:00, 132.92it/s]"
     ]
    },
    {
     "name": "stdout",
     "output_type": "stream",
     "text": [
      "[{'label': 'negative', 'score': 0.46135032176971436}, {'label': 'neutral', 'score': 0.464282751083374}, {'label': 'positive', 'score': 0.07436694949865341}]\n",
      "[{'label': 'negative', 'score': 0.10312633216381073}, {'label': 'neutral', 'score': 0.7551907300949097}, {'label': 'positive', 'score': 0.141682967543602}]\n",
      "[{'label': 'negative', 'score': 0.779708743095398}, {'label': 'neutral', 'score': 0.20697245001792908}, {'label': 'positive', 'score': 0.013318746350705624}]\n",
      "[{'label': 'negative', 'score': 0.8369063138961792}, {'label': 'neutral', 'score': 0.1543949842453003}, {'label': 'positive', 'score': 0.00869865994900465}]\n",
      "[{'label': 'negative', 'score': 0.8966015577316284}, {'label': 'neutral', 'score': 0.0966915488243103}, {'label': 'positive', 'score': 0.006706927437335253}]\n",
      "[{'label': 'negative', 'score': 0.28382372856140137}, {'label': 'neutral', 'score': 0.5606268644332886}, {'label': 'positive', 'score': 0.15554948151111603}]\n",
      "[{'label': 'negative', 'score': 0.6144213676452637}, {'label': 'neutral', 'score': 0.3711394667625427}, {'label': 'positive', 'score': 0.01443915069103241}]\n",
      "[{'label': 'negative', 'score': 0.6091968417167664}, {'label': 'neutral', 'score': 0.371493399143219}, {'label': 'positive', 'score': 0.019309738650918007}]\n",
      "[{'label': 'negative', 'score': 0.7179585695266724}, {'label': 'neutral', 'score': 0.26621130108833313}, {'label': 'positive', 'score': 0.015830187126994133}]\n",
      "[{'label': 'negative', 'score': 0.8159229159355164}, {'label': 'neutral', 'score': 0.17395097017288208}, {'label': 'positive', 'score': 0.010126158595085144}]\n",
      "[{'label': 'negative', 'score': 0.6286800503730774}, {'label': 'neutral', 'score': 0.33867424726486206}, {'label': 'positive', 'score': 0.03264572471380234}]\n",
      "[{'label': 'negative', 'score': 0.859879195690155}, {'label': 'neutral', 'score': 0.13050496578216553}, {'label': 'positive', 'score': 0.009615813381969929}]\n",
      "[{'label': 'negative', 'score': 0.9134002923965454}, {'label': 'neutral', 'score': 0.0773501768708229}, {'label': 'positive', 'score': 0.009249554015696049}]\n",
      "[{'label': 'negative', 'score': 0.4679092466831207}, {'label': 'neutral', 'score': 0.48319169878959656}, {'label': 'positive', 'score': 0.04889899119734764}]\n",
      "[{'label': 'negative', 'score': 0.01782444678246975}, {'label': 'neutral', 'score': 0.1951206922531128}, {'label': 'positive', 'score': 0.7870547771453857}]\n",
      "[{'label': 'negative', 'score': 0.022801168262958527}, {'label': 'neutral', 'score': 0.2267410010099411}, {'label': 'positive', 'score': 0.7504578232765198}]\n",
      "[{'label': 'negative', 'score': 0.018833523616194725}, {'label': 'neutral', 'score': 0.1944151520729065}, {'label': 'positive', 'score': 0.7867513298988342}]\n",
      "[{'label': 'negative', 'score': 0.9500402212142944}, {'label': 'neutral', 'score': 0.04415234923362732}, {'label': 'positive', 'score': 0.005807450972497463}]\n",
      "[{'label': 'negative', 'score': 0.48021477460861206}, {'label': 'neutral', 'score': 0.4436309039592743}, {'label': 'positive', 'score': 0.07615433633327484}]\n",
      "[{'label': 'negative', 'score': 0.6126578450202942}, {'label': 'neutral', 'score': 0.3300667405128479}, {'label': 'positive', 'score': 0.05727539584040642}]\n",
      "[{'label': 'negative', 'score': 0.842544674873352}, {'label': 'neutral', 'score': 0.14231504499912262}, {'label': 'positive', 'score': 0.01514026802033186}]\n",
      "[{'label': 'negative', 'score': 0.08825268596410751}, {'label': 'neutral', 'score': 0.8625996112823486}, {'label': 'positive', 'score': 0.049147672951221466}]\n",
      "[{'label': 'negative', 'score': 0.06831464171409607}, {'label': 'neutral', 'score': 0.7085530757904053}, {'label': 'positive', 'score': 0.22313223779201508}]\n",
      "[{'label': 'negative', 'score': 0.1455329805612564}, {'label': 'neutral', 'score': 0.4822908937931061}, {'label': 'positive', 'score': 0.3721761405467987}]\n",
      "[{'label': 'negative', 'score': 0.20577119290828705}, {'label': 'neutral', 'score': 0.47930267453193665}, {'label': 'positive', 'score': 0.3149261474609375}]\n"
     ]
    },
    {
     "name": "stderr",
     "output_type": "stream",
     "text": [
      " 95%|██████████████████████████████████████████████████████████████████████████▍   | 1017/1066 [00:07<00:00, 131.98it/s]"
     ]
    },
    {
     "name": "stdout",
     "output_type": "stream",
     "text": [
      "[{'label': 'negative', 'score': 0.9509932994842529}, {'label': 'neutral', 'score': 0.044022247195243835}, {'label': 'positive', 'score': 0.004984575789421797}]\n",
      "[{'label': 'negative', 'score': 0.21134527027606964}, {'label': 'neutral', 'score': 0.6590261459350586}, {'label': 'positive', 'score': 0.12962861359119415}]\n",
      "[{'label': 'negative', 'score': 0.8323310017585754}, {'label': 'neutral', 'score': 0.15459269285202026}, {'label': 'positive', 'score': 0.013076309114694595}]\n",
      "[{'label': 'negative', 'score': 0.767214834690094}, {'label': 'neutral', 'score': 0.22272558510303497}, {'label': 'positive', 'score': 0.010059584863483906}]\n",
      "[{'label': 'negative', 'score': 0.9139156937599182}, {'label': 'neutral', 'score': 0.07926183938980103}, {'label': 'positive', 'score': 0.006822498980909586}]\n",
      "[{'label': 'negative', 'score': 0.4860875904560089}, {'label': 'neutral', 'score': 0.48318973183631897}, {'label': 'positive', 'score': 0.030722694471478462}]\n",
      "[{'label': 'negative', 'score': 0.23125098645687103}, {'label': 'neutral', 'score': 0.6464129090309143}, {'label': 'positive', 'score': 0.12233611196279526}]\n",
      "[{'label': 'negative', 'score': 0.45362919569015503}, {'label': 'neutral', 'score': 0.4213767647743225}, {'label': 'positive', 'score': 0.12499400973320007}]\n",
      "[{'label': 'negative', 'score': 0.6497554779052734}, {'label': 'neutral', 'score': 0.3227933645248413}, {'label': 'positive', 'score': 0.02745119296014309}]\n",
      "[{'label': 'negative', 'score': 0.37674716114997864}, {'label': 'neutral', 'score': 0.5621634721755981}, {'label': 'positive', 'score': 0.06108938902616501}]\n",
      "[{'label': 'negative', 'score': 0.13970975577831268}, {'label': 'neutral', 'score': 0.6938965916633606}, {'label': 'positive', 'score': 0.16639363765716553}]\n",
      "[{'label': 'negative', 'score': 0.38989976048469543}, {'label': 'neutral', 'score': 0.584785521030426}, {'label': 'positive', 'score': 0.025314735248684883}]\n",
      "[{'label': 'negative', 'score': 0.815661609172821}, {'label': 'neutral', 'score': 0.1729569435119629}, {'label': 'positive', 'score': 0.011381439864635468}]\n",
      "[{'label': 'negative', 'score': 0.3752801716327667}, {'label': 'neutral', 'score': 0.5017005205154419}, {'label': 'positive', 'score': 0.12301931530237198}]\n",
      "[{'label': 'negative', 'score': 0.7012441158294678}, {'label': 'neutral', 'score': 0.2783341109752655}, {'label': 'positive', 'score': 0.0204218290746212}]\n",
      "[{'label': 'negative', 'score': 0.01775217242538929}, {'label': 'neutral', 'score': 0.3065733015537262}, {'label': 'positive', 'score': 0.6756744980812073}]\n",
      "[{'label': 'negative', 'score': 0.9032789468765259}, {'label': 'neutral', 'score': 0.09067410230636597}, {'label': 'positive', 'score': 0.006046930328011513}]\n",
      "[{'label': 'negative', 'score': 0.48155996203422546}, {'label': 'neutral', 'score': 0.4764978587627411}, {'label': 'positive', 'score': 0.04194216430187225}]\n",
      "[{'label': 'negative', 'score': 0.900528073310852}, {'label': 'neutral', 'score': 0.09304474294185638}, {'label': 'positive', 'score': 0.006427257787436247}]\n",
      "[{'label': 'negative', 'score': 0.9295085072517395}, {'label': 'neutral', 'score': 0.06451384723186493}, {'label': 'positive', 'score': 0.005977621767669916}]\n",
      "[{'label': 'negative', 'score': 0.1664498895406723}, {'label': 'neutral', 'score': 0.5294601917266846}, {'label': 'positive', 'score': 0.3040899336338043}]\n",
      "[{'label': 'negative', 'score': 0.7521682381629944}, {'label': 'neutral', 'score': 0.23274557292461395}, {'label': 'positive', 'score': 0.015086176805198193}]\n",
      "[{'label': 'negative', 'score': 0.7162038683891296}, {'label': 'neutral', 'score': 0.27262696623802185}, {'label': 'positive', 'score': 0.011169173754751682}]\n",
      "[{'label': 'negative', 'score': 0.8959538340568542}, {'label': 'neutral', 'score': 0.09935665130615234}, {'label': 'positive', 'score': 0.004689573310315609}]\n",
      "[{'label': 'negative', 'score': 0.8245962858200073}, {'label': 'neutral', 'score': 0.16258998215198517}, {'label': 'positive', 'score': 0.012813753448426723}]\n",
      "[{'label': 'negative', 'score': 0.6148389577865601}, {'label': 'neutral', 'score': 0.36524698138237}, {'label': 'positive', 'score': 0.019914085045456886}]\n",
      "[{'label': 'negative', 'score': 0.5884481072425842}, {'label': 'neutral', 'score': 0.38432446122169495}, {'label': 'positive', 'score': 0.02722742222249508}]\n"
     ]
    },
    {
     "name": "stderr",
     "output_type": "stream",
     "text": [
      " 98%|████████████████████████████████████████████████████████████████████████████▍ | 1045/1066 [00:08<00:00, 131.06it/s]"
     ]
    },
    {
     "name": "stdout",
     "output_type": "stream",
     "text": [
      "[{'label': 'negative', 'score': 0.06191986799240112}, {'label': 'neutral', 'score': 0.8112593293190002}, {'label': 'positive', 'score': 0.12682075798511505}]\n",
      "[{'label': 'negative', 'score': 0.8747042417526245}, {'label': 'neutral', 'score': 0.11452040821313858}, {'label': 'positive', 'score': 0.010775321163237095}]\n",
      "[{'label': 'negative', 'score': 0.18314765393733978}, {'label': 'neutral', 'score': 0.7090993523597717}, {'label': 'positive', 'score': 0.10775300115346909}]\n",
      "[{'label': 'negative', 'score': 0.7373170256614685}, {'label': 'neutral', 'score': 0.24702365696430206}, {'label': 'positive', 'score': 0.015659259632229805}]\n",
      "[{'label': 'negative', 'score': 0.8234097361564636}, {'label': 'neutral', 'score': 0.16186194121837616}, {'label': 'positive', 'score': 0.01472831517457962}]\n",
      "[{'label': 'negative', 'score': 0.7951980829238892}, {'label': 'neutral', 'score': 0.16795265674591064}, {'label': 'positive', 'score': 0.03684930503368378}]\n",
      "[{'label': 'negative', 'score': 0.6539247632026672}, {'label': 'neutral', 'score': 0.32733023166656494}, {'label': 'positive', 'score': 0.018745068460702896}]\n",
      "[{'label': 'negative', 'score': 0.7123110890388489}, {'label': 'neutral', 'score': 0.26778391003608704}, {'label': 'positive', 'score': 0.019904954358935356}]\n",
      "[{'label': 'negative', 'score': 0.7830396294593811}, {'label': 'neutral', 'score': 0.18549777567386627}, {'label': 'positive', 'score': 0.03146261349320412}]\n",
      "[{'label': 'negative', 'score': 0.7418418526649475}, {'label': 'neutral', 'score': 0.24531571567058563}, {'label': 'positive', 'score': 0.012842421419918537}]\n",
      "[{'label': 'negative', 'score': 0.9011726379394531}, {'label': 'neutral', 'score': 0.09171535074710846}, {'label': 'positive', 'score': 0.007111974526196718}]\n",
      "[{'label': 'negative', 'score': 0.6103655099868774}, {'label': 'neutral', 'score': 0.31107234954833984}, {'label': 'positive', 'score': 0.07856213301420212}]\n",
      "[{'label': 'negative', 'score': 0.6347012519836426}, {'label': 'neutral', 'score': 0.3360338509082794}, {'label': 'positive', 'score': 0.029264850541949272}]\n",
      "[{'label': 'negative', 'score': 0.060508038848638535}, {'label': 'neutral', 'score': 0.49576643109321594}, {'label': 'positive', 'score': 0.4437256157398224}]\n",
      "[{'label': 'negative', 'score': 0.9246383905410767}, {'label': 'neutral', 'score': 0.07042407989501953}, {'label': 'positive', 'score': 0.004937517456710339}]\n",
      "[{'label': 'negative', 'score': 0.07471852004528046}, {'label': 'neutral', 'score': 0.8327407240867615}, {'label': 'positive', 'score': 0.09254077821969986}]\n",
      "[{'label': 'negative', 'score': 0.7546685934066772}, {'label': 'neutral', 'score': 0.23063361644744873}, {'label': 'positive', 'score': 0.014697755686938763}]\n",
      "[{'label': 'negative', 'score': 0.6227672696113586}, {'label': 'neutral', 'score': 0.3356219530105591}, {'label': 'positive', 'score': 0.04161075875163078}]\n",
      "[{'label': 'negative', 'score': 0.8512211441993713}, {'label': 'neutral', 'score': 0.13814300298690796}, {'label': 'positive', 'score': 0.01063583604991436}]\n",
      "[{'label': 'negative', 'score': 0.7731989622116089}, {'label': 'neutral', 'score': 0.21006368100643158}, {'label': 'positive', 'score': 0.016737336292862892}]\n",
      "[{'label': 'negative', 'score': 0.8989672064781189}, {'label': 'neutral', 'score': 0.09636157006025314}, {'label': 'positive', 'score': 0.004671189002692699}]\n",
      "[{'label': 'negative', 'score': 0.3690611720085144}, {'label': 'neutral', 'score': 0.6110517382621765}, {'label': 'positive', 'score': 0.019887128844857216}]\n",
      "[{'label': 'negative', 'score': 0.8047017455101013}, {'label': 'neutral', 'score': 0.18570511043071747}, {'label': 'positive', 'score': 0.009593073278665543}]\n",
      "[{'label': 'negative', 'score': 0.4256117343902588}, {'label': 'neutral', 'score': 0.5033801198005676}, {'label': 'positive', 'score': 0.07100814580917358}]\n",
      "[{'label': 'negative', 'score': 0.6854837536811829}, {'label': 'neutral', 'score': 0.2901689112186432}, {'label': 'positive', 'score': 0.0243473369628191}]\n",
      "[{'label': 'negative', 'score': 0.8082230687141418}, {'label': 'neutral', 'score': 0.1835915744304657}, {'label': 'positive', 'score': 0.008185330778360367}]\n"
     ]
    },
    {
     "name": "stderr",
     "output_type": "stream",
     "text": [
      "100%|██████████████████████████████████████████████████████████████████████████████| 1066/1066 [00:08<00:00, 128.01it/s]"
     ]
    },
    {
     "name": "stdout",
     "output_type": "stream",
     "text": [
      "[{'label': 'negative', 'score': 0.13469651341438293}, {'label': 'neutral', 'score': 0.4916401505470276}, {'label': 'positive', 'score': 0.37366339564323425}]\n",
      "[{'label': 'negative', 'score': 0.9165812134742737}, {'label': 'neutral', 'score': 0.07223008573055267}, {'label': 'positive', 'score': 0.011188692413270473}]\n",
      "[{'label': 'negative', 'score': 0.6963598132133484}, {'label': 'neutral', 'score': 0.28407543897628784}, {'label': 'positive', 'score': 0.019564734771847725}]\n",
      "[{'label': 'negative', 'score': 0.9171780943870544}, {'label': 'neutral', 'score': 0.07556598633527756}, {'label': 'positive', 'score': 0.007256021723151207}]\n",
      "[{'label': 'negative', 'score': 0.4067016541957855}, {'label': 'neutral', 'score': 0.473389208316803}, {'label': 'positive', 'score': 0.11990917474031448}]\n",
      "[{'label': 'negative', 'score': 0.783981442451477}, {'label': 'neutral', 'score': 0.20310033857822418}, {'label': 'positive', 'score': 0.012918251566588879}]\n",
      "[{'label': 'negative', 'score': 0.42400074005126953}, {'label': 'neutral', 'score': 0.5450746417045593}, {'label': 'positive', 'score': 0.030924610793590546}]\n",
      "[{'label': 'negative', 'score': 0.5456538200378418}, {'label': 'neutral', 'score': 0.4356597363948822}, {'label': 'positive', 'score': 0.018686503171920776}]\n",
      "[{'label': 'negative', 'score': 0.8698652386665344}, {'label': 'neutral', 'score': 0.1177825778722763}, {'label': 'positive', 'score': 0.01235221792012453}]\n",
      "[{'label': 'negative', 'score': 0.9316494464874268}, {'label': 'neutral', 'score': 0.061824262142181396}, {'label': 'positive', 'score': 0.006526285782456398}]\n",
      "[{'label': 'negative', 'score': 0.2783067226409912}, {'label': 'neutral', 'score': 0.5542843341827393}, {'label': 'positive', 'score': 0.16740895807743073}]\n",
      "[{'label': 'negative', 'score': 0.751058042049408}, {'label': 'neutral', 'score': 0.23910637199878693}, {'label': 'positive', 'score': 0.00983560923486948}]\n",
      "[{'label': 'negative', 'score': 0.4133339524269104}, {'label': 'neutral', 'score': 0.5482680201530457}, {'label': 'positive', 'score': 0.03839801251888275}]\n",
      "[{'label': 'negative', 'score': 0.8362503051757812}, {'label': 'neutral', 'score': 0.1509101390838623}, {'label': 'positive', 'score': 0.01283961534500122}]\n"
     ]
    },
    {
     "name": "stderr",
     "output_type": "stream",
     "text": [
      "\n"
     ]
    }
   ],
   "source": [
    "import numpy as np\n",
    "from tqdm import tqdm\n",
    "from transformers.pipelines.pt_utils import KeyDataset\n",
    "\n",
    "y_pred=[]\n",
    "for output in tqdm(pipe(KeyDataset(data['test'],'text')),\n",
    "                  total=len(data['test'])):\n",
    "    ## output is typically a list of dictionaries, where each dictionary represents a possible label\n",
    "    ## and its score. For example, [{'label': 'NEGATIVE', 'score': 0.95}, {'label': 'NEUTRAL', \n",
    "    ## 'score': 0.03}, {'label': 'POSITIVE', 'score': 0.02}].\n",
    "    print(output)\n",
    "    negative_score=output[0]['score']\n",
    "    positive_score=output[2]['score']\n",
    "    assignment=np.argmax([negative_score,positive_score])\n",
    "    y_pred.append(assignment)"
   ]
  },
  {
   "cell_type": "code",
   "execution_count": 8,
   "id": "6e096004-67a8-4fbf-b2be-dc5f9fe6a733",
   "metadata": {},
   "outputs": [
    {
     "name": "stdout",
     "output_type": "stream",
     "text": [
      "                 precision    recall  f1-score   support\n",
      "\n",
      "Negative Review       0.76      0.88      0.81       533\n",
      "Positive Review       0.86      0.72      0.78       533\n",
      "\n",
      "       accuracy                           0.80      1066\n",
      "      macro avg       0.81      0.80      0.80      1066\n",
      "   weighted avg       0.81      0.80      0.80      1066\n",
      "\n"
     ]
    }
   ],
   "source": [
    "##evaluation\n",
    "from sklearn.metrics import classification_report\n",
    "def evaluate_performance(y_true,y_pred):\n",
    "    performance=classification_report(\n",
    "        y_true,y_pred,target_names=['Negative Review','Positive Review']\n",
    "    )\n",
    "    print(performance)\n",
    "evaluate_performance(data['test']['label'],y_pred)"
   ]
  },
  {
   "cell_type": "markdown",
   "id": "3109a49f-a403-487f-87f8-ed965b5c4176",
   "metadata": {},
   "source": [
    "![Alt text for the image](images/confusion_matrix.png)"
   ]
  },
  {
   "cell_type": "markdown",
   "id": "111d8faf-ff88-489d-a404-b46a6a21a654",
   "metadata": {},
   "source": [
    "- **Precison**\n",
    "- Precision: Of all the emails the model predicted as spam, how many were actually spam?\n",
    "- Precision=TP/(TP+FP)\n",
    "- A measure of exactness or quality of your positive predictions. High precision means when your model says something is positive, it's very likely correct.\n",
    "- If your spam filter flagged 10 emails as spam, and 8 of them were actually spam (2 were legitimate emails wrongly flagged), then your precision would be 8/(8+2)=0.8 or 80%.\n",
    "- When is it crucial? When the cost of a **False Positive** is high.\n",
    "- Spam detection: You want high precision because you don't want important emails (legitimate) to be marked as spam (false positive).\n",
    "- Medical diagnosis (for a serious, rare disease): If a positive prediction means invasive and potentially harmful treatment, you want high precision to minimize false alarms.\n",
    "\n",
    "- **Recall**:\n",
    "- Of all the emails that were actually spam, how many did the model correctly identify as spam?\n",
    "- Recall = TP/(TP+FN)\n",
    "- A measure of completeness or coverage of your positive predictions. High recall means your model caught most of the actual positive cases.\n",
    "- When the cost of a **False Negative** is high.\n",
    "- You want high recall because you want to catch as many fraudulent transactions as possible, even if it means flagging some legitimate ones for review (false positives). Missing actual fraud (false negative) is very costly.\n",
    "\n",
    "- **Accuracy**:\n",
    "- Number of correctly positive predicted out of all predictions, which indicates the overall correctness of the model.\n",
    "\n",
    "- **F1 score**\n",
    "- balances both precision and recall to create a model's overall performance.\n",
    "\n"
   ]
  },
  {
   "cell_type": "markdown",
   "id": "ee1f6abf-f957-4228-be7d-57a959f6c6a5",
   "metadata": {},
   "source": [
    "## Classification Tasks that Leverage Embeddings\n",
    "\n",
    "- **Supervised classification**\n",
    "- Instead of directly using the representation model for classification, we will use an embedding model for generating features. Those features can then be fed into a classifier, thereby creating a two-step approach.\n",
    "-  A major benefit of this separation is that we do not need to fine-tune our embedding model, which can be costly. In contrast, we can train a classifier, like a logistic regression, on the CPU instead.\n",
    "-  The model is kept frozen when the embeddings are generated."
   ]
  },
  {
   "cell_type": "code",
   "execution_count": 9,
   "id": "8276d8f6-c4e2-43d6-adcb-97b93fbc647a",
   "metadata": {},
   "outputs": [
    {
     "data": {
      "application/vnd.jupyter.widget-view+json": {
       "model_id": "e836c2c18a074d819f06c023506fc706",
       "version_major": 2,
       "version_minor": 0
      },
      "text/plain": [
       "Batches:   0%|          | 0/267 [00:00<?, ?it/s]"
      ]
     },
     "metadata": {},
     "output_type": "display_data"
    },
    {
     "data": {
      "application/vnd.jupyter.widget-view+json": {
       "model_id": "687fe04e67234164b06de9b285ec2344",
       "version_major": 2,
       "version_minor": 0
      },
      "text/plain": [
       "Batches:   0%|          | 0/34 [00:00<?, ?it/s]"
      ]
     },
     "metadata": {},
     "output_type": "display_data"
    }
   ],
   "source": [
    "from sentence_transformers import SentenceTransformer\n",
    "\n",
    "# Load model\n",
    "model = SentenceTransformer('sentence-transformers/all-mpnet-base-v2')\n",
    "\n",
    "# Convert text to embeddings\n",
    "train_embeddings = model.encode(data[\"train\"][\"text\"], show_progress_bar=True)\n",
    "test_embeddings = model.encode(data[\"test\"][\"text\"], show_progress_bar=True)"
   ]
  },
  {
   "cell_type": "code",
   "execution_count": 10,
   "id": "da7eb200-1d52-44c6-8171-64a392a0b2eb",
   "metadata": {},
   "outputs": [
    {
     "data": {
      "text/plain": [
       "(8530, 768)"
      ]
     },
     "execution_count": 10,
     "metadata": {},
     "output_type": "execute_result"
    }
   ],
   "source": [
    "train_embeddings.shape"
   ]
  },
  {
   "cell_type": "markdown",
   "id": "102dac39-f158-4acb-bb3c-d81a264c26ee",
   "metadata": {},
   "source": [
    "- This shows that each of our 8,530 input documents has an embedding dimension of 768 and therefore each embedding contains 768 numerical values.\n",
    "- Then these embedding are fed into the classifier (use logistic regression) "
   ]
  },
  {
   "cell_type": "code",
   "execution_count": 11,
   "id": "3646c278-7faf-47c2-8d07-dd96efb9855b",
   "metadata": {},
   "outputs": [
    {
     "data": {
      "text/html": [
       "<style>#sk-container-id-1 {\n",
       "  /* Definition of color scheme common for light and dark mode */\n",
       "  --sklearn-color-text: #000;\n",
       "  --sklearn-color-text-muted: #666;\n",
       "  --sklearn-color-line: gray;\n",
       "  /* Definition of color scheme for unfitted estimators */\n",
       "  --sklearn-color-unfitted-level-0: #fff5e6;\n",
       "  --sklearn-color-unfitted-level-1: #f6e4d2;\n",
       "  --sklearn-color-unfitted-level-2: #ffe0b3;\n",
       "  --sklearn-color-unfitted-level-3: chocolate;\n",
       "  /* Definition of color scheme for fitted estimators */\n",
       "  --sklearn-color-fitted-level-0: #f0f8ff;\n",
       "  --sklearn-color-fitted-level-1: #d4ebff;\n",
       "  --sklearn-color-fitted-level-2: #b3dbfd;\n",
       "  --sklearn-color-fitted-level-3: cornflowerblue;\n",
       "\n",
       "  /* Specific color for light theme */\n",
       "  --sklearn-color-text-on-default-background: var(--sg-text-color, var(--theme-code-foreground, var(--jp-content-font-color1, black)));\n",
       "  --sklearn-color-background: var(--sg-background-color, var(--theme-background, var(--jp-layout-color0, white)));\n",
       "  --sklearn-color-border-box: var(--sg-text-color, var(--theme-code-foreground, var(--jp-content-font-color1, black)));\n",
       "  --sklearn-color-icon: #696969;\n",
       "\n",
       "  @media (prefers-color-scheme: dark) {\n",
       "    /* Redefinition of color scheme for dark theme */\n",
       "    --sklearn-color-text-on-default-background: var(--sg-text-color, var(--theme-code-foreground, var(--jp-content-font-color1, white)));\n",
       "    --sklearn-color-background: var(--sg-background-color, var(--theme-background, var(--jp-layout-color0, #111)));\n",
       "    --sklearn-color-border-box: var(--sg-text-color, var(--theme-code-foreground, var(--jp-content-font-color1, white)));\n",
       "    --sklearn-color-icon: #878787;\n",
       "  }\n",
       "}\n",
       "\n",
       "#sk-container-id-1 {\n",
       "  color: var(--sklearn-color-text);\n",
       "}\n",
       "\n",
       "#sk-container-id-1 pre {\n",
       "  padding: 0;\n",
       "}\n",
       "\n",
       "#sk-container-id-1 input.sk-hidden--visually {\n",
       "  border: 0;\n",
       "  clip: rect(1px 1px 1px 1px);\n",
       "  clip: rect(1px, 1px, 1px, 1px);\n",
       "  height: 1px;\n",
       "  margin: -1px;\n",
       "  overflow: hidden;\n",
       "  padding: 0;\n",
       "  position: absolute;\n",
       "  width: 1px;\n",
       "}\n",
       "\n",
       "#sk-container-id-1 div.sk-dashed-wrapped {\n",
       "  border: 1px dashed var(--sklearn-color-line);\n",
       "  margin: 0 0.4em 0.5em 0.4em;\n",
       "  box-sizing: border-box;\n",
       "  padding-bottom: 0.4em;\n",
       "  background-color: var(--sklearn-color-background);\n",
       "}\n",
       "\n",
       "#sk-container-id-1 div.sk-container {\n",
       "  /* jupyter's `normalize.less` sets `[hidden] { display: none; }`\n",
       "     but bootstrap.min.css set `[hidden] { display: none !important; }`\n",
       "     so we also need the `!important` here to be able to override the\n",
       "     default hidden behavior on the sphinx rendered scikit-learn.org.\n",
       "     See: https://github.com/scikit-learn/scikit-learn/issues/21755 */\n",
       "  display: inline-block !important;\n",
       "  position: relative;\n",
       "}\n",
       "\n",
       "#sk-container-id-1 div.sk-text-repr-fallback {\n",
       "  display: none;\n",
       "}\n",
       "\n",
       "div.sk-parallel-item,\n",
       "div.sk-serial,\n",
       "div.sk-item {\n",
       "  /* draw centered vertical line to link estimators */\n",
       "  background-image: linear-gradient(var(--sklearn-color-text-on-default-background), var(--sklearn-color-text-on-default-background));\n",
       "  background-size: 2px 100%;\n",
       "  background-repeat: no-repeat;\n",
       "  background-position: center center;\n",
       "}\n",
       "\n",
       "/* Parallel-specific style estimator block */\n",
       "\n",
       "#sk-container-id-1 div.sk-parallel-item::after {\n",
       "  content: \"\";\n",
       "  width: 100%;\n",
       "  border-bottom: 2px solid var(--sklearn-color-text-on-default-background);\n",
       "  flex-grow: 1;\n",
       "}\n",
       "\n",
       "#sk-container-id-1 div.sk-parallel {\n",
       "  display: flex;\n",
       "  align-items: stretch;\n",
       "  justify-content: center;\n",
       "  background-color: var(--sklearn-color-background);\n",
       "  position: relative;\n",
       "}\n",
       "\n",
       "#sk-container-id-1 div.sk-parallel-item {\n",
       "  display: flex;\n",
       "  flex-direction: column;\n",
       "}\n",
       "\n",
       "#sk-container-id-1 div.sk-parallel-item:first-child::after {\n",
       "  align-self: flex-end;\n",
       "  width: 50%;\n",
       "}\n",
       "\n",
       "#sk-container-id-1 div.sk-parallel-item:last-child::after {\n",
       "  align-self: flex-start;\n",
       "  width: 50%;\n",
       "}\n",
       "\n",
       "#sk-container-id-1 div.sk-parallel-item:only-child::after {\n",
       "  width: 0;\n",
       "}\n",
       "\n",
       "/* Serial-specific style estimator block */\n",
       "\n",
       "#sk-container-id-1 div.sk-serial {\n",
       "  display: flex;\n",
       "  flex-direction: column;\n",
       "  align-items: center;\n",
       "  background-color: var(--sklearn-color-background);\n",
       "  padding-right: 1em;\n",
       "  padding-left: 1em;\n",
       "}\n",
       "\n",
       "\n",
       "/* Toggleable style: style used for estimator/Pipeline/ColumnTransformer box that is\n",
       "clickable and can be expanded/collapsed.\n",
       "- Pipeline and ColumnTransformer use this feature and define the default style\n",
       "- Estimators will overwrite some part of the style using the `sk-estimator` class\n",
       "*/\n",
       "\n",
       "/* Pipeline and ColumnTransformer style (default) */\n",
       "\n",
       "#sk-container-id-1 div.sk-toggleable {\n",
       "  /* Default theme specific background. It is overwritten whether we have a\n",
       "  specific estimator or a Pipeline/ColumnTransformer */\n",
       "  background-color: var(--sklearn-color-background);\n",
       "}\n",
       "\n",
       "/* Toggleable label */\n",
       "#sk-container-id-1 label.sk-toggleable__label {\n",
       "  cursor: pointer;\n",
       "  display: flex;\n",
       "  width: 100%;\n",
       "  margin-bottom: 0;\n",
       "  padding: 0.5em;\n",
       "  box-sizing: border-box;\n",
       "  text-align: center;\n",
       "  align-items: start;\n",
       "  justify-content: space-between;\n",
       "  gap: 0.5em;\n",
       "}\n",
       "\n",
       "#sk-container-id-1 label.sk-toggleable__label .caption {\n",
       "  font-size: 0.6rem;\n",
       "  font-weight: lighter;\n",
       "  color: var(--sklearn-color-text-muted);\n",
       "}\n",
       "\n",
       "#sk-container-id-1 label.sk-toggleable__label-arrow:before {\n",
       "  /* Arrow on the left of the label */\n",
       "  content: \"▸\";\n",
       "  float: left;\n",
       "  margin-right: 0.25em;\n",
       "  color: var(--sklearn-color-icon);\n",
       "}\n",
       "\n",
       "#sk-container-id-1 label.sk-toggleable__label-arrow:hover:before {\n",
       "  color: var(--sklearn-color-text);\n",
       "}\n",
       "\n",
       "/* Toggleable content - dropdown */\n",
       "\n",
       "#sk-container-id-1 div.sk-toggleable__content {\n",
       "  max-height: 0;\n",
       "  max-width: 0;\n",
       "  overflow: hidden;\n",
       "  text-align: left;\n",
       "  /* unfitted */\n",
       "  background-color: var(--sklearn-color-unfitted-level-0);\n",
       "}\n",
       "\n",
       "#sk-container-id-1 div.sk-toggleable__content.fitted {\n",
       "  /* fitted */\n",
       "  background-color: var(--sklearn-color-fitted-level-0);\n",
       "}\n",
       "\n",
       "#sk-container-id-1 div.sk-toggleable__content pre {\n",
       "  margin: 0.2em;\n",
       "  border-radius: 0.25em;\n",
       "  color: var(--sklearn-color-text);\n",
       "  /* unfitted */\n",
       "  background-color: var(--sklearn-color-unfitted-level-0);\n",
       "}\n",
       "\n",
       "#sk-container-id-1 div.sk-toggleable__content.fitted pre {\n",
       "  /* unfitted */\n",
       "  background-color: var(--sklearn-color-fitted-level-0);\n",
       "}\n",
       "\n",
       "#sk-container-id-1 input.sk-toggleable__control:checked~div.sk-toggleable__content {\n",
       "  /* Expand drop-down */\n",
       "  max-height: 200px;\n",
       "  max-width: 100%;\n",
       "  overflow: auto;\n",
       "}\n",
       "\n",
       "#sk-container-id-1 input.sk-toggleable__control:checked~label.sk-toggleable__label-arrow:before {\n",
       "  content: \"▾\";\n",
       "}\n",
       "\n",
       "/* Pipeline/ColumnTransformer-specific style */\n",
       "\n",
       "#sk-container-id-1 div.sk-label input.sk-toggleable__control:checked~label.sk-toggleable__label {\n",
       "  color: var(--sklearn-color-text);\n",
       "  background-color: var(--sklearn-color-unfitted-level-2);\n",
       "}\n",
       "\n",
       "#sk-container-id-1 div.sk-label.fitted input.sk-toggleable__control:checked~label.sk-toggleable__label {\n",
       "  background-color: var(--sklearn-color-fitted-level-2);\n",
       "}\n",
       "\n",
       "/* Estimator-specific style */\n",
       "\n",
       "/* Colorize estimator box */\n",
       "#sk-container-id-1 div.sk-estimator input.sk-toggleable__control:checked~label.sk-toggleable__label {\n",
       "  /* unfitted */\n",
       "  background-color: var(--sklearn-color-unfitted-level-2);\n",
       "}\n",
       "\n",
       "#sk-container-id-1 div.sk-estimator.fitted input.sk-toggleable__control:checked~label.sk-toggleable__label {\n",
       "  /* fitted */\n",
       "  background-color: var(--sklearn-color-fitted-level-2);\n",
       "}\n",
       "\n",
       "#sk-container-id-1 div.sk-label label.sk-toggleable__label,\n",
       "#sk-container-id-1 div.sk-label label {\n",
       "  /* The background is the default theme color */\n",
       "  color: var(--sklearn-color-text-on-default-background);\n",
       "}\n",
       "\n",
       "/* On hover, darken the color of the background */\n",
       "#sk-container-id-1 div.sk-label:hover label.sk-toggleable__label {\n",
       "  color: var(--sklearn-color-text);\n",
       "  background-color: var(--sklearn-color-unfitted-level-2);\n",
       "}\n",
       "\n",
       "/* Label box, darken color on hover, fitted */\n",
       "#sk-container-id-1 div.sk-label.fitted:hover label.sk-toggleable__label.fitted {\n",
       "  color: var(--sklearn-color-text);\n",
       "  background-color: var(--sklearn-color-fitted-level-2);\n",
       "}\n",
       "\n",
       "/* Estimator label */\n",
       "\n",
       "#sk-container-id-1 div.sk-label label {\n",
       "  font-family: monospace;\n",
       "  font-weight: bold;\n",
       "  display: inline-block;\n",
       "  line-height: 1.2em;\n",
       "}\n",
       "\n",
       "#sk-container-id-1 div.sk-label-container {\n",
       "  text-align: center;\n",
       "}\n",
       "\n",
       "/* Estimator-specific */\n",
       "#sk-container-id-1 div.sk-estimator {\n",
       "  font-family: monospace;\n",
       "  border: 1px dotted var(--sklearn-color-border-box);\n",
       "  border-radius: 0.25em;\n",
       "  box-sizing: border-box;\n",
       "  margin-bottom: 0.5em;\n",
       "  /* unfitted */\n",
       "  background-color: var(--sklearn-color-unfitted-level-0);\n",
       "}\n",
       "\n",
       "#sk-container-id-1 div.sk-estimator.fitted {\n",
       "  /* fitted */\n",
       "  background-color: var(--sklearn-color-fitted-level-0);\n",
       "}\n",
       "\n",
       "/* on hover */\n",
       "#sk-container-id-1 div.sk-estimator:hover {\n",
       "  /* unfitted */\n",
       "  background-color: var(--sklearn-color-unfitted-level-2);\n",
       "}\n",
       "\n",
       "#sk-container-id-1 div.sk-estimator.fitted:hover {\n",
       "  /* fitted */\n",
       "  background-color: var(--sklearn-color-fitted-level-2);\n",
       "}\n",
       "\n",
       "/* Specification for estimator info (e.g. \"i\" and \"?\") */\n",
       "\n",
       "/* Common style for \"i\" and \"?\" */\n",
       "\n",
       ".sk-estimator-doc-link,\n",
       "a:link.sk-estimator-doc-link,\n",
       "a:visited.sk-estimator-doc-link {\n",
       "  float: right;\n",
       "  font-size: smaller;\n",
       "  line-height: 1em;\n",
       "  font-family: monospace;\n",
       "  background-color: var(--sklearn-color-background);\n",
       "  border-radius: 1em;\n",
       "  height: 1em;\n",
       "  width: 1em;\n",
       "  text-decoration: none !important;\n",
       "  margin-left: 0.5em;\n",
       "  text-align: center;\n",
       "  /* unfitted */\n",
       "  border: var(--sklearn-color-unfitted-level-1) 1pt solid;\n",
       "  color: var(--sklearn-color-unfitted-level-1);\n",
       "}\n",
       "\n",
       ".sk-estimator-doc-link.fitted,\n",
       "a:link.sk-estimator-doc-link.fitted,\n",
       "a:visited.sk-estimator-doc-link.fitted {\n",
       "  /* fitted */\n",
       "  border: var(--sklearn-color-fitted-level-1) 1pt solid;\n",
       "  color: var(--sklearn-color-fitted-level-1);\n",
       "}\n",
       "\n",
       "/* On hover */\n",
       "div.sk-estimator:hover .sk-estimator-doc-link:hover,\n",
       ".sk-estimator-doc-link:hover,\n",
       "div.sk-label-container:hover .sk-estimator-doc-link:hover,\n",
       ".sk-estimator-doc-link:hover {\n",
       "  /* unfitted */\n",
       "  background-color: var(--sklearn-color-unfitted-level-3);\n",
       "  color: var(--sklearn-color-background);\n",
       "  text-decoration: none;\n",
       "}\n",
       "\n",
       "div.sk-estimator.fitted:hover .sk-estimator-doc-link.fitted:hover,\n",
       ".sk-estimator-doc-link.fitted:hover,\n",
       "div.sk-label-container:hover .sk-estimator-doc-link.fitted:hover,\n",
       ".sk-estimator-doc-link.fitted:hover {\n",
       "  /* fitted */\n",
       "  background-color: var(--sklearn-color-fitted-level-3);\n",
       "  color: var(--sklearn-color-background);\n",
       "  text-decoration: none;\n",
       "}\n",
       "\n",
       "/* Span, style for the box shown on hovering the info icon */\n",
       ".sk-estimator-doc-link span {\n",
       "  display: none;\n",
       "  z-index: 9999;\n",
       "  position: relative;\n",
       "  font-weight: normal;\n",
       "  right: .2ex;\n",
       "  padding: .5ex;\n",
       "  margin: .5ex;\n",
       "  width: min-content;\n",
       "  min-width: 20ex;\n",
       "  max-width: 50ex;\n",
       "  color: var(--sklearn-color-text);\n",
       "  box-shadow: 2pt 2pt 4pt #999;\n",
       "  /* unfitted */\n",
       "  background: var(--sklearn-color-unfitted-level-0);\n",
       "  border: .5pt solid var(--sklearn-color-unfitted-level-3);\n",
       "}\n",
       "\n",
       ".sk-estimator-doc-link.fitted span {\n",
       "  /* fitted */\n",
       "  background: var(--sklearn-color-fitted-level-0);\n",
       "  border: var(--sklearn-color-fitted-level-3);\n",
       "}\n",
       "\n",
       ".sk-estimator-doc-link:hover span {\n",
       "  display: block;\n",
       "}\n",
       "\n",
       "/* \"?\"-specific style due to the `<a>` HTML tag */\n",
       "\n",
       "#sk-container-id-1 a.estimator_doc_link {\n",
       "  float: right;\n",
       "  font-size: 1rem;\n",
       "  line-height: 1em;\n",
       "  font-family: monospace;\n",
       "  background-color: var(--sklearn-color-background);\n",
       "  border-radius: 1rem;\n",
       "  height: 1rem;\n",
       "  width: 1rem;\n",
       "  text-decoration: none;\n",
       "  /* unfitted */\n",
       "  color: var(--sklearn-color-unfitted-level-1);\n",
       "  border: var(--sklearn-color-unfitted-level-1) 1pt solid;\n",
       "}\n",
       "\n",
       "#sk-container-id-1 a.estimator_doc_link.fitted {\n",
       "  /* fitted */\n",
       "  border: var(--sklearn-color-fitted-level-1) 1pt solid;\n",
       "  color: var(--sklearn-color-fitted-level-1);\n",
       "}\n",
       "\n",
       "/* On hover */\n",
       "#sk-container-id-1 a.estimator_doc_link:hover {\n",
       "  /* unfitted */\n",
       "  background-color: var(--sklearn-color-unfitted-level-3);\n",
       "  color: var(--sklearn-color-background);\n",
       "  text-decoration: none;\n",
       "}\n",
       "\n",
       "#sk-container-id-1 a.estimator_doc_link.fitted:hover {\n",
       "  /* fitted */\n",
       "  background-color: var(--sklearn-color-fitted-level-3);\n",
       "}\n",
       "</style><div id=\"sk-container-id-1\" class=\"sk-top-container\"><div class=\"sk-text-repr-fallback\"><pre>LogisticRegression(random_state=42)</pre><b>In a Jupyter environment, please rerun this cell to show the HTML representation or trust the notebook. <br />On GitHub, the HTML representation is unable to render, please try loading this page with nbviewer.org.</b></div><div class=\"sk-container\" hidden><div class=\"sk-item\"><div class=\"sk-estimator fitted sk-toggleable\"><input class=\"sk-toggleable__control sk-hidden--visually\" id=\"sk-estimator-id-1\" type=\"checkbox\" checked><label for=\"sk-estimator-id-1\" class=\"sk-toggleable__label fitted sk-toggleable__label-arrow\"><div><div>LogisticRegression</div></div><div><a class=\"sk-estimator-doc-link fitted\" rel=\"noreferrer\" target=\"_blank\" href=\"https://scikit-learn.org/1.6/modules/generated/sklearn.linear_model.LogisticRegression.html\">?<span>Documentation for LogisticRegression</span></a><span class=\"sk-estimator-doc-link fitted\">i<span>Fitted</span></span></div></label><div class=\"sk-toggleable__content fitted\"><pre>LogisticRegression(random_state=42)</pre></div> </div></div></div></div>"
      ],
      "text/plain": [
       "LogisticRegression(random_state=42)"
      ]
     },
     "execution_count": 11,
     "metadata": {},
     "output_type": "execute_result"
    }
   ],
   "source": [
    "from sklearn.linear_model import LogisticRegression\n",
    "\n",
    "# Train a Logistic Regression on our train embeddings\n",
    "clf = LogisticRegression(random_state=42)\n",
    "clf.fit(train_embeddings, data[\"train\"][\"label\"])"
   ]
  },
  {
   "cell_type": "code",
   "execution_count": 12,
   "id": "4cd9e4f8-c51e-4f9e-8528-f0111af7cca1",
   "metadata": {},
   "outputs": [],
   "source": [
    "y_pred=clf.predict(test_embeddings)"
   ]
  },
  {
   "cell_type": "code",
   "execution_count": 13,
   "id": "60ad0868-375e-49a8-81fb-76f5b166f7f7",
   "metadata": {},
   "outputs": [
    {
     "name": "stdout",
     "output_type": "stream",
     "text": [
      "                 precision    recall  f1-score   support\n",
      "\n",
      "Negative Review       0.85      0.86      0.85       533\n",
      "Positive Review       0.86      0.85      0.85       533\n",
      "\n",
      "       accuracy                           0.85      1066\n",
      "      macro avg       0.85      0.85      0.85      1066\n",
      "   weighted avg       0.85      0.85      0.85      1066\n",
      "\n"
     ]
    }
   ],
   "source": [
    "evaluate_performance(data['test']['label'],y_pred)"
   ]
  },
  {
   "cell_type": "markdown",
   "id": "487b7821-8b37-4ca1-9b77-ae8204faae99",
   "metadata": {},
   "source": [
    "By training a classifier on top of our embeddings, we managed to get an F1 score of 0.85! This demonstrates the possibilities of training a lightweight classifier while keeping the underlying embedding model frozen."
   ]
  },
  {
   "cell_type": "markdown",
   "id": "c8cdfd30-c8d3-4e45-9665-243c00ce1c01",
   "metadata": {},
   "source": [
    "## What If We Do Not Have Labeled Data?"
   ]
  },
  {
   "cell_type": "code",
   "execution_count": null,
   "id": "b21d2d9e-72c2-4f0f-b276-edf6c07f9219",
   "metadata": {},
   "outputs": [],
   "source": []
  }
 ],
 "metadata": {
  "kernelspec": {
   "display_name": "Python 3 (ipykernel)",
   "language": "python",
   "name": "python3"
  },
  "language_info": {
   "codemirror_mode": {
    "name": "ipython",
    "version": 3
   },
   "file_extension": ".py",
   "mimetype": "text/x-python",
   "name": "python",
   "nbconvert_exporter": "python",
   "pygments_lexer": "ipython3",
   "version": "3.12.3"
  }
 },
 "nbformat": 4,
 "nbformat_minor": 5
}
